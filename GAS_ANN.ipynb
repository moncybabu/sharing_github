{
  "nbformat": 4,
  "nbformat_minor": 0,
  "metadata": {
    "colab": {
      "name": "GAS ANN",
      "provenance": [],
      "collapsed_sections": [],
      "toc_visible": true
    },
    "kernelspec": {
      "display_name": "Python 3",
      "name": "python3"
    },
    "language_info": {
      "name": "python"
    }
  },
  "cells": [
    {
      "cell_type": "code",
      "metadata": {
        "id": "3xwlDDU-sR17"
      },
      "source": [
        "# Create your first MLP in Keras\n",
        "from tensorflow import keras\n",
        "from keras.models import Sequential\n",
        "from keras.layers import Dense\n",
        "import numpy\n",
        "from pandas import read_csv\n",
        "import pandas as pd\n",
        "import numpy as np\n"
      ],
      "execution_count": 33,
      "outputs": []
    },
    {
      "cell_type": "code",
      "metadata": {
        "id": "9w2ljF2OsVyr"
      },
      "source": [
        "# import some data to play with\n",
        "df = pd.read_csv('/content/gas_turbines.csv')"
      ],
      "execution_count": 34,
      "outputs": []
    },
    {
      "cell_type": "code",
      "metadata": {
        "colab": {
          "base_uri": "https://localhost:8080/",
          "height": 204
        },
        "id": "B70wCBF1soi2",
        "outputId": "52aeabe6-8702-4228-f048-3ea78f8bccb4"
      },
      "source": [
        "df.head()"
      ],
      "execution_count": 35,
      "outputs": [
        {
          "output_type": "execute_result",
          "data": {
            "text/html": [
              "<div>\n",
              "<style scoped>\n",
              "    .dataframe tbody tr th:only-of-type {\n",
              "        vertical-align: middle;\n",
              "    }\n",
              "\n",
              "    .dataframe tbody tr th {\n",
              "        vertical-align: top;\n",
              "    }\n",
              "\n",
              "    .dataframe thead th {\n",
              "        text-align: right;\n",
              "    }\n",
              "</style>\n",
              "<table border=\"1\" class=\"dataframe\">\n",
              "  <thead>\n",
              "    <tr style=\"text-align: right;\">\n",
              "      <th></th>\n",
              "      <th>AT</th>\n",
              "      <th>AP</th>\n",
              "      <th>AH</th>\n",
              "      <th>AFDP</th>\n",
              "      <th>GTEP</th>\n",
              "      <th>TIT</th>\n",
              "      <th>TAT</th>\n",
              "      <th>TEY</th>\n",
              "      <th>CDP</th>\n",
              "      <th>CO</th>\n",
              "      <th>NOX</th>\n",
              "    </tr>\n",
              "  </thead>\n",
              "  <tbody>\n",
              "    <tr>\n",
              "      <th>0</th>\n",
              "      <td>6.8594</td>\n",
              "      <td>1007.9</td>\n",
              "      <td>96.799</td>\n",
              "      <td>3.5000</td>\n",
              "      <td>19.663</td>\n",
              "      <td>1059.2</td>\n",
              "      <td>550.00</td>\n",
              "      <td>114.70</td>\n",
              "      <td>10.605</td>\n",
              "      <td>3.1547</td>\n",
              "      <td>82.722</td>\n",
              "    </tr>\n",
              "    <tr>\n",
              "      <th>1</th>\n",
              "      <td>6.7850</td>\n",
              "      <td>1008.4</td>\n",
              "      <td>97.118</td>\n",
              "      <td>3.4998</td>\n",
              "      <td>19.728</td>\n",
              "      <td>1059.3</td>\n",
              "      <td>550.00</td>\n",
              "      <td>114.72</td>\n",
              "      <td>10.598</td>\n",
              "      <td>3.2363</td>\n",
              "      <td>82.776</td>\n",
              "    </tr>\n",
              "    <tr>\n",
              "      <th>2</th>\n",
              "      <td>6.8977</td>\n",
              "      <td>1008.8</td>\n",
              "      <td>95.939</td>\n",
              "      <td>3.4824</td>\n",
              "      <td>19.779</td>\n",
              "      <td>1059.4</td>\n",
              "      <td>549.87</td>\n",
              "      <td>114.71</td>\n",
              "      <td>10.601</td>\n",
              "      <td>3.2012</td>\n",
              "      <td>82.468</td>\n",
              "    </tr>\n",
              "    <tr>\n",
              "      <th>3</th>\n",
              "      <td>7.0569</td>\n",
              "      <td>1009.2</td>\n",
              "      <td>95.249</td>\n",
              "      <td>3.4805</td>\n",
              "      <td>19.792</td>\n",
              "      <td>1059.6</td>\n",
              "      <td>549.99</td>\n",
              "      <td>114.72</td>\n",
              "      <td>10.606</td>\n",
              "      <td>3.1923</td>\n",
              "      <td>82.670</td>\n",
              "    </tr>\n",
              "    <tr>\n",
              "      <th>4</th>\n",
              "      <td>7.3978</td>\n",
              "      <td>1009.7</td>\n",
              "      <td>95.150</td>\n",
              "      <td>3.4976</td>\n",
              "      <td>19.765</td>\n",
              "      <td>1059.7</td>\n",
              "      <td>549.98</td>\n",
              "      <td>114.72</td>\n",
              "      <td>10.612</td>\n",
              "      <td>3.2484</td>\n",
              "      <td>82.311</td>\n",
              "    </tr>\n",
              "  </tbody>\n",
              "</table>\n",
              "</div>"
            ],
            "text/plain": [
              "       AT      AP      AH    AFDP  ...     TEY     CDP      CO     NOX\n",
              "0  6.8594  1007.9  96.799  3.5000  ...  114.70  10.605  3.1547  82.722\n",
              "1  6.7850  1008.4  97.118  3.4998  ...  114.72  10.598  3.2363  82.776\n",
              "2  6.8977  1008.8  95.939  3.4824  ...  114.71  10.601  3.2012  82.468\n",
              "3  7.0569  1009.2  95.249  3.4805  ...  114.72  10.606  3.1923  82.670\n",
              "4  7.3978  1009.7  95.150  3.4976  ...  114.72  10.612  3.2484  82.311\n",
              "\n",
              "[5 rows x 11 columns]"
            ]
          },
          "metadata": {
            "tags": []
          },
          "execution_count": 35
        }
      ]
    },
    {
      "cell_type": "code",
      "metadata": {
        "id": "ZJTl4EEAtZ6C"
      },
      "source": [
        "cols = df.columns.tolist()"
      ],
      "execution_count": 36,
      "outputs": []
    },
    {
      "cell_type": "code",
      "metadata": {
        "colab": {
          "base_uri": "https://localhost:8080/"
        },
        "id": "LtxLbZFhtfWR",
        "outputId": "68fe2bb5-ed9e-42fb-85c1-549826b9853b"
      },
      "source": [
        "cols"
      ],
      "execution_count": 37,
      "outputs": [
        {
          "output_type": "execute_result",
          "data": {
            "text/plain": [
              "['AT', 'AP', 'AH', 'AFDP', 'GTEP', 'TIT', 'TAT', 'TEY', 'CDP', 'CO', 'NOX']"
            ]
          },
          "metadata": {
            "tags": []
          },
          "execution_count": 37
        }
      ]
    },
    {
      "cell_type": "code",
      "metadata": {
        "colab": {
          "base_uri": "https://localhost:8080/"
        },
        "id": "_KGjAqZ0ti6j",
        "outputId": "93151c84-5b16-42dd-e6cb-1d0336c1d4a4"
      },
      "source": [
        "In [12]: cols = cols[-4:] + cols[:-4]\n",
        "\n",
        "In [13]: cols"
      ],
      "execution_count": 38,
      "outputs": [
        {
          "output_type": "execute_result",
          "data": {
            "text/plain": [
              "['TEY', 'CDP', 'CO', 'NOX', 'AT', 'AP', 'AH', 'AFDP', 'GTEP', 'TIT', 'TAT']"
            ]
          },
          "metadata": {
            "tags": []
          },
          "execution_count": 38
        }
      ]
    },
    {
      "cell_type": "code",
      "metadata": {
        "id": "RDN_wu9It8al"
      },
      "source": [
        "df = df[cols] "
      ],
      "execution_count": 39,
      "outputs": []
    },
    {
      "cell_type": "code",
      "metadata": {
        "colab": {
          "base_uri": "https://localhost:8080/",
          "height": 419
        },
        "id": "SAQBJKqmuG3f",
        "outputId": "4d50a63a-00e4-49f9-c22f-91b763fe6f62"
      },
      "source": [
        "df"
      ],
      "execution_count": 40,
      "outputs": [
        {
          "output_type": "execute_result",
          "data": {
            "text/html": [
              "<div>\n",
              "<style scoped>\n",
              "    .dataframe tbody tr th:only-of-type {\n",
              "        vertical-align: middle;\n",
              "    }\n",
              "\n",
              "    .dataframe tbody tr th {\n",
              "        vertical-align: top;\n",
              "    }\n",
              "\n",
              "    .dataframe thead th {\n",
              "        text-align: right;\n",
              "    }\n",
              "</style>\n",
              "<table border=\"1\" class=\"dataframe\">\n",
              "  <thead>\n",
              "    <tr style=\"text-align: right;\">\n",
              "      <th></th>\n",
              "      <th>TEY</th>\n",
              "      <th>CDP</th>\n",
              "      <th>CO</th>\n",
              "      <th>NOX</th>\n",
              "      <th>AT</th>\n",
              "      <th>AP</th>\n",
              "      <th>AH</th>\n",
              "      <th>AFDP</th>\n",
              "      <th>GTEP</th>\n",
              "      <th>TIT</th>\n",
              "      <th>TAT</th>\n",
              "    </tr>\n",
              "  </thead>\n",
              "  <tbody>\n",
              "    <tr>\n",
              "      <th>0</th>\n",
              "      <td>114.70</td>\n",
              "      <td>10.605</td>\n",
              "      <td>3.1547</td>\n",
              "      <td>82.722</td>\n",
              "      <td>6.8594</td>\n",
              "      <td>1007.9</td>\n",
              "      <td>96.799</td>\n",
              "      <td>3.5000</td>\n",
              "      <td>19.663</td>\n",
              "      <td>1059.2</td>\n",
              "      <td>550.00</td>\n",
              "    </tr>\n",
              "    <tr>\n",
              "      <th>1</th>\n",
              "      <td>114.72</td>\n",
              "      <td>10.598</td>\n",
              "      <td>3.2363</td>\n",
              "      <td>82.776</td>\n",
              "      <td>6.7850</td>\n",
              "      <td>1008.4</td>\n",
              "      <td>97.118</td>\n",
              "      <td>3.4998</td>\n",
              "      <td>19.728</td>\n",
              "      <td>1059.3</td>\n",
              "      <td>550.00</td>\n",
              "    </tr>\n",
              "    <tr>\n",
              "      <th>2</th>\n",
              "      <td>114.71</td>\n",
              "      <td>10.601</td>\n",
              "      <td>3.2012</td>\n",
              "      <td>82.468</td>\n",
              "      <td>6.8977</td>\n",
              "      <td>1008.8</td>\n",
              "      <td>95.939</td>\n",
              "      <td>3.4824</td>\n",
              "      <td>19.779</td>\n",
              "      <td>1059.4</td>\n",
              "      <td>549.87</td>\n",
              "    </tr>\n",
              "    <tr>\n",
              "      <th>3</th>\n",
              "      <td>114.72</td>\n",
              "      <td>10.606</td>\n",
              "      <td>3.1923</td>\n",
              "      <td>82.670</td>\n",
              "      <td>7.0569</td>\n",
              "      <td>1009.2</td>\n",
              "      <td>95.249</td>\n",
              "      <td>3.4805</td>\n",
              "      <td>19.792</td>\n",
              "      <td>1059.6</td>\n",
              "      <td>549.99</td>\n",
              "    </tr>\n",
              "    <tr>\n",
              "      <th>4</th>\n",
              "      <td>114.72</td>\n",
              "      <td>10.612</td>\n",
              "      <td>3.2484</td>\n",
              "      <td>82.311</td>\n",
              "      <td>7.3978</td>\n",
              "      <td>1009.7</td>\n",
              "      <td>95.150</td>\n",
              "      <td>3.4976</td>\n",
              "      <td>19.765</td>\n",
              "      <td>1059.7</td>\n",
              "      <td>549.98</td>\n",
              "    </tr>\n",
              "    <tr>\n",
              "      <th>...</th>\n",
              "      <td>...</td>\n",
              "      <td>...</td>\n",
              "      <td>...</td>\n",
              "      <td>...</td>\n",
              "      <td>...</td>\n",
              "      <td>...</td>\n",
              "      <td>...</td>\n",
              "      <td>...</td>\n",
              "      <td>...</td>\n",
              "      <td>...</td>\n",
              "      <td>...</td>\n",
              "    </tr>\n",
              "    <tr>\n",
              "      <th>15034</th>\n",
              "      <td>111.61</td>\n",
              "      <td>10.400</td>\n",
              "      <td>4.5186</td>\n",
              "      <td>79.559</td>\n",
              "      <td>9.0301</td>\n",
              "      <td>1005.6</td>\n",
              "      <td>98.460</td>\n",
              "      <td>3.5421</td>\n",
              "      <td>19.164</td>\n",
              "      <td>1049.7</td>\n",
              "      <td>546.21</td>\n",
              "    </tr>\n",
              "    <tr>\n",
              "      <th>15035</th>\n",
              "      <td>111.78</td>\n",
              "      <td>10.433</td>\n",
              "      <td>4.8470</td>\n",
              "      <td>79.917</td>\n",
              "      <td>7.8879</td>\n",
              "      <td>1005.9</td>\n",
              "      <td>99.093</td>\n",
              "      <td>3.5059</td>\n",
              "      <td>19.414</td>\n",
              "      <td>1046.3</td>\n",
              "      <td>543.22</td>\n",
              "    </tr>\n",
              "    <tr>\n",
              "      <th>15036</th>\n",
              "      <td>110.19</td>\n",
              "      <td>10.483</td>\n",
              "      <td>7.9632</td>\n",
              "      <td>90.912</td>\n",
              "      <td>7.2647</td>\n",
              "      <td>1006.3</td>\n",
              "      <td>99.496</td>\n",
              "      <td>3.4770</td>\n",
              "      <td>19.530</td>\n",
              "      <td>1037.7</td>\n",
              "      <td>537.32</td>\n",
              "    </tr>\n",
              "    <tr>\n",
              "      <th>15037</th>\n",
              "      <td>110.74</td>\n",
              "      <td>10.533</td>\n",
              "      <td>6.2494</td>\n",
              "      <td>93.227</td>\n",
              "      <td>7.0060</td>\n",
              "      <td>1006.8</td>\n",
              "      <td>99.008</td>\n",
              "      <td>3.4486</td>\n",
              "      <td>19.377</td>\n",
              "      <td>1043.2</td>\n",
              "      <td>541.24</td>\n",
              "    </tr>\n",
              "    <tr>\n",
              "      <th>15038</th>\n",
              "      <td>111.58</td>\n",
              "      <td>10.583</td>\n",
              "      <td>4.9816</td>\n",
              "      <td>92.498</td>\n",
              "      <td>6.9279</td>\n",
              "      <td>1007.2</td>\n",
              "      <td>97.533</td>\n",
              "      <td>3.4275</td>\n",
              "      <td>19.306</td>\n",
              "      <td>1049.9</td>\n",
              "      <td>545.85</td>\n",
              "    </tr>\n",
              "  </tbody>\n",
              "</table>\n",
              "<p>15039 rows × 11 columns</p>\n",
              "</div>"
            ],
            "text/plain": [
              "          TEY     CDP      CO     NOX  ...    AFDP    GTEP     TIT     TAT\n",
              "0      114.70  10.605  3.1547  82.722  ...  3.5000  19.663  1059.2  550.00\n",
              "1      114.72  10.598  3.2363  82.776  ...  3.4998  19.728  1059.3  550.00\n",
              "2      114.71  10.601  3.2012  82.468  ...  3.4824  19.779  1059.4  549.87\n",
              "3      114.72  10.606  3.1923  82.670  ...  3.4805  19.792  1059.6  549.99\n",
              "4      114.72  10.612  3.2484  82.311  ...  3.4976  19.765  1059.7  549.98\n",
              "...       ...     ...     ...     ...  ...     ...     ...     ...     ...\n",
              "15034  111.61  10.400  4.5186  79.559  ...  3.5421  19.164  1049.7  546.21\n",
              "15035  111.78  10.433  4.8470  79.917  ...  3.5059  19.414  1046.3  543.22\n",
              "15036  110.19  10.483  7.9632  90.912  ...  3.4770  19.530  1037.7  537.32\n",
              "15037  110.74  10.533  6.2494  93.227  ...  3.4486  19.377  1043.2  541.24\n",
              "15038  111.58  10.583  4.9816  92.498  ...  3.4275  19.306  1049.9  545.85\n",
              "\n",
              "[15039 rows x 11 columns]"
            ]
          },
          "metadata": {
            "tags": []
          },
          "execution_count": 40
        }
      ]
    },
    {
      "cell_type": "code",
      "metadata": {
        "id": "VKGSF6-ouG-m"
      },
      "source": [
        "# fix random seed for reproducibility\n",
        "seed = 7\n",
        "numpy.random.seed(seed)\n",
        "X = df.iloc[:,1:10]\n",
        "Y = df.iloc[:,0]\n",
        "x = numpy.array(X)\n",
        "y = numpy.array(Y)\n"
      ],
      "execution_count": 46,
      "outputs": []
    },
    {
      "cell_type": "code",
      "metadata": {
        "id": "S0Lm0lAX4cLb"
      },
      "source": [
        "from keras.models import Sequential\n",
        "from keras.layers import Dense\n",
        "from keras.wrappers.scikit_learn import KerasRegressor\n",
        "from sklearn.model_selection import cross_val_score\n",
        "from sklearn.model_selection import KFold\n",
        "from sklearn.preprocessing import StandardScaler\n",
        "from sklearn.pipeline import Pipeline"
      ],
      "execution_count": 56,
      "outputs": []
    },
    {
      "cell_type": "code",
      "metadata": {
        "colab": {
          "base_uri": "https://localhost:8080/"
        },
        "id": "3GqZoB5vlZ0u",
        "outputId": "2ee06e87-04a3-4ad4-bde5-304681513d88"
      },
      "source": [
        "from keras.models import Sequential\n",
        "from keras.layers import Dense\n",
        " \n",
        "# create ANN model\n",
        "model = Sequential()\n",
        " \n",
        "# Defining the Input layer and FIRST hidden layer, both are same!\n",
        "model.add(Dense(units=5, input_dim=9, kernel_initializer='normal', activation='relu'))\n",
        " \n",
        "# Defining the Second layer of the model\n",
        "# after the first layer we don't have to specify input_dim as keras configure it automatically\n",
        "model.add(Dense(units=5, kernel_initializer='normal', activation='tanh'))\n",
        " \n",
        "# The output neuron is a single fully connected node \n",
        "# Since we will be predicting a single number\n",
        "model.add(Dense(1, kernel_initializer='normal'))\n",
        " \n",
        "# Compiling the model\n",
        "model.compile(loss='mean_squared_error', optimizer='adam')\n",
        " \n",
        "# Fitting the ANN to the Training set\n",
        "model.fit(x, y,batch_size = 20, epochs = 50, verbose=1)\n"
      ],
      "execution_count": 57,
      "outputs": [
        {
          "output_type": "stream",
          "text": [
            "Epoch 1/50\n",
            "752/752 [==============================] - 1s 1ms/step - loss: 17924.3227\n",
            "Epoch 2/50\n",
            "752/752 [==============================] - 1s 1ms/step - loss: 16797.4008\n",
            "Epoch 3/50\n",
            "752/752 [==============================] - 1s 1ms/step - loss: 15646.3679\n",
            "Epoch 4/50\n",
            "752/752 [==============================] - 1s 1ms/step - loss: 14643.7573\n",
            "Epoch 5/50\n",
            "752/752 [==============================] - 1s 1ms/step - loss: 13596.1665\n",
            "Epoch 6/50\n",
            "752/752 [==============================] - 1s 1ms/step - loss: 12574.6680\n",
            "Epoch 7/50\n",
            "752/752 [==============================] - 1s 1ms/step - loss: 11654.5807\n",
            "Epoch 8/50\n",
            "752/752 [==============================] - 1s 1ms/step - loss: 10766.0924\n",
            "Epoch 9/50\n",
            "752/752 [==============================] - 1s 1ms/step - loss: 9875.8885\n",
            "Epoch 10/50\n",
            "752/752 [==============================] - 1s 1ms/step - loss: 9073.7362\n",
            "Epoch 11/50\n",
            "752/752 [==============================] - 1s 1ms/step - loss: 8306.0839\n",
            "Epoch 12/50\n",
            "752/752 [==============================] - 1s 1ms/step - loss: 7564.0756\n",
            "Epoch 13/50\n",
            "752/752 [==============================] - 1s 1ms/step - loss: 6858.0226\n",
            "Epoch 14/50\n",
            "752/752 [==============================] - 1s 1ms/step - loss: 6199.9965\n",
            "Epoch 15/50\n",
            "752/752 [==============================] - 1s 1ms/step - loss: 5544.9764\n",
            "Epoch 16/50\n",
            "752/752 [==============================] - 1s 1ms/step - loss: 4976.7225\n",
            "Epoch 17/50\n",
            "752/752 [==============================] - 1s 1ms/step - loss: 4431.0180\n",
            "Epoch 18/50\n",
            "752/752 [==============================] - 1s 1ms/step - loss: 3916.2507\n",
            "Epoch 19/50\n",
            "752/752 [==============================] - 1s 1ms/step - loss: 3408.8702\n",
            "Epoch 20/50\n",
            "752/752 [==============================] - 1s 1ms/step - loss: 2986.1749\n",
            "Epoch 21/50\n",
            "752/752 [==============================] - 1s 1ms/step - loss: 2563.2226\n",
            "Epoch 22/50\n",
            "752/752 [==============================] - 1s 1ms/step - loss: 2193.4371\n",
            "Epoch 23/50\n",
            "752/752 [==============================] - 1s 1ms/step - loss: 1882.1693\n",
            "Epoch 24/50\n",
            "752/752 [==============================] - 1s 1ms/step - loss: 1557.1495\n",
            "Epoch 25/50\n",
            "752/752 [==============================] - 1s 1ms/step - loss: 1299.4962\n",
            "Epoch 26/50\n",
            "752/752 [==============================] - 1s 1ms/step - loss: 1065.0919\n",
            "Epoch 27/50\n",
            "752/752 [==============================] - 1s 1ms/step - loss: 867.1506\n",
            "Epoch 28/50\n",
            "752/752 [==============================] - 1s 1ms/step - loss: 695.4342\n",
            "Epoch 29/50\n",
            "752/752 [==============================] - 1s 1ms/step - loss: 558.8888\n",
            "Epoch 30/50\n",
            "752/752 [==============================] - 1s 1ms/step - loss: 455.9904\n",
            "Epoch 31/50\n",
            "752/752 [==============================] - 1s 1ms/step - loss: 381.4755\n",
            "Epoch 32/50\n",
            "752/752 [==============================] - 1s 1ms/step - loss: 325.4034\n",
            "Epoch 33/50\n",
            "752/752 [==============================] - 1s 1ms/step - loss: 284.5221\n",
            "Epoch 34/50\n",
            "752/752 [==============================] - 1s 1ms/step - loss: 263.6200\n",
            "Epoch 35/50\n",
            "752/752 [==============================] - 1s 1ms/step - loss: 258.4507\n",
            "Epoch 36/50\n",
            "752/752 [==============================] - 1s 1ms/step - loss: 251.9629\n",
            "Epoch 37/50\n",
            "752/752 [==============================] - 1s 1ms/step - loss: 251.4817\n",
            "Epoch 38/50\n",
            "752/752 [==============================] - 1s 1ms/step - loss: 253.8859\n",
            "Epoch 39/50\n",
            "752/752 [==============================] - 1s 1ms/step - loss: 250.6662\n",
            "Epoch 40/50\n",
            "752/752 [==============================] - 1s 1ms/step - loss: 254.7945\n",
            "Epoch 41/50\n",
            "752/752 [==============================] - 1s 1ms/step - loss: 248.8838\n",
            "Epoch 42/50\n",
            "752/752 [==============================] - 1s 1ms/step - loss: 255.6325\n",
            "Epoch 43/50\n",
            "752/752 [==============================] - 1s 1ms/step - loss: 249.3177\n",
            "Epoch 44/50\n",
            "752/752 [==============================] - 1s 1ms/step - loss: 248.4010\n",
            "Epoch 45/50\n",
            "752/752 [==============================] - 1s 1ms/step - loss: 252.4571\n",
            "Epoch 46/50\n",
            "752/752 [==============================] - 1s 1ms/step - loss: 250.2713\n",
            "Epoch 47/50\n",
            "752/752 [==============================] - 1s 1ms/step - loss: 253.0800\n",
            "Epoch 48/50\n",
            "752/752 [==============================] - 1s 1ms/step - loss: 254.6575\n",
            "Epoch 49/50\n",
            "752/752 [==============================] - 1s 1ms/step - loss: 245.2679\n",
            "Epoch 50/50\n",
            "752/752 [==============================] - 1s 1ms/step - loss: 255.0762\n"
          ],
          "name": "stdout"
        },
        {
          "output_type": "execute_result",
          "data": {
            "text/plain": [
              "<keras.callbacks.History at 0x7f222e564c50>"
            ]
          },
          "metadata": {
            "tags": []
          },
          "execution_count": 57
        }
      ]
    },
    {
      "cell_type": "markdown",
      "metadata": {
        "id": "U_OkqeeHmM9_"
      },
      "source": [
        "Finding best set of parameters using manual grid search"
      ]
    },
    {
      "cell_type": "code",
      "metadata": {
        "colab": {
          "base_uri": "https://localhost:8080/"
        },
        "id": "WqyPwxgimPmK",
        "outputId": "6c12f920-9bb0-410e-8a70-ed5e4ce20c7c"
      },
      "source": [
        "def FunctionFindBestParams(x,y):\n",
        "    \n",
        "    # Defining the list of hyper parameters to try\n",
        "    batch_size_list=[5, 10, 15, 20]\n",
        "    epoch_list  =   [5, 10, 50, 100]\n",
        "    \n",
        "    import pandas as pd\n",
        "    SearchResultsData=pd.DataFrame(columns=['TrialNumber', 'Parameters', 'Accuracy'])\n",
        "    \n",
        "    # initializing the trials\n",
        "    TrialNumber=0\n",
        "    for batch_size_trial in batch_size_list:\n",
        "        for epochs_trial in epoch_list:\n",
        "            TrialNumber+=1\n",
        "            # create ANN model\n",
        "            model = Sequential()\n",
        "            # Defining the first layer of the model\n",
        "            model.add(Dense(units=5, input_dim=x.shape[1], kernel_initializer='normal', activation='relu'))\n",
        " \n",
        "            # Defining the Second layer of the model\n",
        "            model.add(Dense(units=5, kernel_initializer='normal', activation='relu'))\n",
        " \n",
        "            # The output neuron is a single fully connected node \n",
        "            # Since we will be predicting a single number\n",
        "            model.add(Dense(1, kernel_initializer='normal'))\n",
        " \n",
        "            # Compiling the model\n",
        "            model.compile(loss='mean_squared_error', optimizer='adam')\n",
        " \n",
        "            # Fitting the ANN to the Training set\n",
        "            model.fit(x,y,batch_size = batch_size_trial, epochs = epochs_trial, verbose=0)\n",
        " \n",
        "            MAPE = np.mean(100 * (np.abs(y-model.predict(x))/y))\n",
        "            \n",
        "            # printing the results of the current iteration\n",
        "            print(TrialNumber, 'Parameters:','batch_size:', batch_size_trial,'-', 'epochs:',epochs_trial, 'Accuracy:', 100-MAPE)\n",
        "            \n",
        "            SearchResultsData=SearchResultsData.append(pd.DataFrame(data=[[TrialNumber, str(batch_size_trial)+'-'+str(epochs_trial), 100-MAPE]],\n",
        "                                                                    columns=['TrialNumber', 'Parameters', 'Accuracy'] ))\n",
        "    return(SearchResultsData)\n",
        " \n",
        " \n",
        "######################################################\n",
        "# Calling the function\n",
        "ResultsData=FunctionFindBestParams(x,y)"
      ],
      "execution_count": 60,
      "outputs": [
        {
          "output_type": "stream",
          "text": [
            "1 Parameters: batch_size: 5 - epochs: 5 Accuracy: 87.04243508015821\n",
            "2 Parameters: batch_size: 5 - epochs: 10 Accuracy: 86.9649541189529\n",
            "3 Parameters: batch_size: 5 - epochs: 50 Accuracy: 91.50282293730187\n",
            "4 Parameters: batch_size: 5 - epochs: 100 Accuracy: 86.92882920263293\n",
            "5 Parameters: batch_size: 10 - epochs: 5 Accuracy: 87.37315671493258\n",
            "6 Parameters: batch_size: 10 - epochs: 10 Accuracy: 86.99731288176451\n",
            "7 Parameters: batch_size: 10 - epochs: 50 Accuracy: 86.92045380412432\n",
            "8 Parameters: batch_size: 10 - epochs: 100 Accuracy: 86.94939891334491\n",
            "9 Parameters: batch_size: 15 - epochs: 5 Accuracy: 90.01606320292152\n",
            "10 Parameters: batch_size: 15 - epochs: 10 Accuracy: 87.12673144204007\n",
            "11 Parameters: batch_size: 15 - epochs: 50 Accuracy: 86.95787707875165\n",
            "12 Parameters: batch_size: 15 - epochs: 100 Accuracy: 86.9181715993974\n",
            "13 Parameters: batch_size: 20 - epochs: 5 Accuracy: 89.25873011507046\n",
            "14 Parameters: batch_size: 20 - epochs: 10 Accuracy: 5.6475012415829156\n",
            "15 Parameters: batch_size: 20 - epochs: 50 Accuracy: 86.97376611406388\n",
            "16 Parameters: batch_size: 20 - epochs: 100 Accuracy: 86.95860706543056\n"
          ],
          "name": "stdout"
        }
      ]
    },
    {
      "cell_type": "code",
      "metadata": {
        "colab": {
          "base_uri": "https://localhost:8080/",
          "height": 296
        },
        "id": "6BWfdOFIqnq6",
        "outputId": "f66ed3c2-1052-460d-c749-6822db421fab"
      },
      "source": [
        "%matplotlib inline\n",
        "ResultsData.plot(x='Parameters', y='Accuracy', figsize=(15,4), kind='line')"
      ],
      "execution_count": 61,
      "outputs": [
        {
          "output_type": "execute_result",
          "data": {
            "text/plain": [
              "<matplotlib.axes._subplots.AxesSubplot at 0x7f222e9d4e90>"
            ]
          },
          "metadata": {
            "tags": []
          },
          "execution_count": 61
        },
        {
          "output_type": "display_data",
          "data": {
            "image/png": "[encoded data removed]",
            "text/plain": [
              "<Figure size 1080x288 with 1 Axes>"
            ]
          },
          "metadata": {
            "tags": [],
            "needs_background": "light"
          }
        }
      ]
    },
    {
      "cell_type": "markdown",
      "metadata": {
        "id": "JwnfDnrBq-oE"
      },
      "source": [
        "Training the ANN model with the best parameters"
      ]
    },
    {
      "cell_type": "code",
      "metadata": {
        "id": "6jf0py5CrMbM"
      },
      "source": [
        "model.fit(x, y ,batch_size = 5, epochs = 15, verbose=0)\n",
        "# Generating Predictions on testing data\n",
        "Predictions=model.predict(x)\n"
      ],
      "execution_count": 63,
      "outputs": []
    },
    {
      "cell_type": "code",
      "metadata": {
        "colab": {
          "base_uri": "https://localhost:8080/"
        },
        "id": "vUGmLA4bsdTv",
        "outputId": "0abc4270-8b1d-40c2-8f42-5f4377d70c6f"
      },
      "source": [
        "APE=100*((np.abs(y-model.predict(x))/y))\n",
        "print('The Accuracy of ANN model is:', 100-np.mean(APE))\n"
      ],
      "execution_count": 64,
      "outputs": [
        {
          "output_type": "stream",
          "text": [
            "The Accuracy of ANN model is: 91.4929827677654\n"
          ],
          "name": "stdout"
        }
      ]
    },
    {
      "cell_type": "code",
      "metadata": {
        "colab": {
          "base_uri": "https://localhost:8080/"
        },
        "id": "c6MQZSzZtM16",
        "outputId": "abb38d84-abe0-442c-fc40-3378dc46f1d9"
      },
      "source": [
        "Predictions"
      ],
      "execution_count": 66,
      "outputs": [
        {
          "output_type": "execute_result",
          "data": {
            "text/plain": [
              "array([[134.07426],\n",
              "       [134.07426],\n",
              "       [134.07426],\n",
              "       ...,\n",
              "       [134.07426],\n",
              "       [134.07426],\n",
              "       [134.07426]], dtype=float32)"
            ]
          },
          "metadata": {
            "tags": []
          },
          "execution_count": 66
        }
      ]
    }
  ]
}