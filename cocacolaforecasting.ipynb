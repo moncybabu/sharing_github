{
  "nbformat": 4,
  "nbformat_minor": 0,
  "metadata": {
    "colab": {
      "name": "cocacolaforecasting",
      "provenance": [],
      "collapsed_sections": [],
      "toc_visible": true
    },
    "kernelspec": {
      "name": "python3",
      "display_name": "Python 3"
    },
    "language_info": {
      "name": "python"
    }
  },
  "cells": [
    {
      "cell_type": "code",
      "metadata": {
        "colab": {
          "base_uri": "https://localhost:8080/"
        },
        "id": "hvWbhlyTGYxx",
        "outputId": "f5151f97-ba4d-4947-e2bb-10314129b8a3"
      },
      "source": [
        "import pandas as pd\n",
        "import numpy as np\n",
        "import matplotlib.pyplot as plt\n",
        "import seaborn as sns\n",
        "import statsmodels.api as sm\n",
        "from statsmodels.tsa.seasonal import seasonal_decompose\n",
        "from statsmodels.tsa.holtwinters import SimpleExpSmoothing\n",
        "from statsmodels.tsa.holtwinters import Holt\n",
        "from statsmodels.tsa.holtwinters import ExponentialSmoothing\n",
        "import statsmodels.graphics.tsaplots as tsa_plots\n",
        "import statsmodels.tsa.statespace as tm_models\n",
        "from datetime import datetime,time\n",
        "import warnings\n",
        "import itertools\n",
        "import matplotlib.pyplot as plt\n",
        "warnings.filterwarnings(\"ignore\")\n",
        "plt.style.use('fivethirtyeight')\n",
        "import pandas as pd\n",
        "import statsmodels.api as sm\n",
        "import matplotlib\n",
        "from pylab import rcParams\n",
        "from statsmodels.tsa.arima_model import ARIMA\n",
        "from matplotlib import pyplot\n",
        "from sklearn.metrics import mean_squared_error\n",
        "import statsmodels.formula.api as smf"
      ],
      "execution_count": 1,
      "outputs": [
        {
          "output_type": "stream",
          "text": [
            "/usr/local/lib/python3.7/dist-packages/statsmodels/tools/_testing.py:19: FutureWarning: pandas.util.testing is deprecated. Use the functions in the public API at pandas.testing instead.\n",
            "  import pandas.util.testing as tm\n"
          ],
          "name": "stderr"
        }
      ]
    },
    {
      "cell_type": "markdown",
      "metadata": {
        "id": "Rn2ChJXvGgze"
      },
      "source": [
        "2 - Data collection and description"
      ]
    },
    {
      "cell_type": "code",
      "metadata": {
        "id": "u16PXES7Ga_a"
      },
      "source": [
        "df = pd.read_excel(\"/content/CocaCola_Sales_Rawdata.xlsx\")"
      ],
      "execution_count": 2,
      "outputs": []
    },
    {
      "cell_type": "code",
      "metadata": {
        "id": "EiyhKdWNHDVR"
      },
      "source": [
        "df1 = df.copy()"
      ],
      "execution_count": 3,
      "outputs": []
    },
    {
      "cell_type": "code",
      "metadata": {
        "colab": {
          "base_uri": "https://localhost:8080/"
        },
        "id": "PfXb11PcHG8r",
        "outputId": "2cb9e137-b343-4789-aec5-d457d36f9d6f"
      },
      "source": [
        "df1.isnull().sum()"
      ],
      "execution_count": 4,
      "outputs": [
        {
          "output_type": "execute_result",
          "data": {
            "text/plain": [
              "Quarter    0\n",
              "Sales      0\n",
              "dtype: int64"
            ]
          },
          "metadata": {},
          "execution_count": 4
        }
      ]
    },
    {
      "cell_type": "code",
      "metadata": {
        "colab": {
          "base_uri": "https://localhost:8080/"
        },
        "id": "od9cEgsVHM2B",
        "outputId": "d6908537-ed09-4de9-adb7-db63bd012640"
      },
      "source": [
        "df1.dtypes"
      ],
      "execution_count": 5,
      "outputs": [
        {
          "output_type": "execute_result",
          "data": {
            "text/plain": [
              "Quarter     object\n",
              "Sales      float64\n",
              "dtype: object"
            ]
          },
          "metadata": {},
          "execution_count": 5
        }
      ]
    },
    {
      "cell_type": "code",
      "metadata": {
        "id": "J4RtGb6vHQsd"
      },
      "source": [
        "temp = df1.Quarter.str.replace(r'(Q\\d)_(\\d+)', r'19\\2-\\1')"
      ],
      "execution_count": 6,
      "outputs": []
    },
    {
      "cell_type": "code",
      "metadata": {
        "id": "hQvpV0HLHWIW"
      },
      "source": [
        "df1['quater'] = pd.to_datetime(temp).dt.strftime('%b-%Y')"
      ],
      "execution_count": 7,
      "outputs": []
    },
    {
      "cell_type": "code",
      "metadata": {
        "id": "lFW-Bx04HgoR"
      },
      "source": [
        "df1 = df1.drop(['Quarter'], axis=1)"
      ],
      "execution_count": 8,
      "outputs": []
    },
    {
      "cell_type": "code",
      "metadata": {
        "id": "kgEiU7-pHh62"
      },
      "source": [
        "df1.reset_index(inplace=True)"
      ],
      "execution_count": 9,
      "outputs": []
    },
    {
      "cell_type": "code",
      "metadata": {
        "id": "hzOkwSJIHkT7"
      },
      "source": [
        "df1['quater'] = pd.to_datetime(df1['quater'])"
      ],
      "execution_count": 10,
      "outputs": []
    },
    {
      "cell_type": "code",
      "metadata": {
        "id": "R45BKM-uHnWI"
      },
      "source": [
        "df1 = df1.set_index('quater')"
      ],
      "execution_count": 11,
      "outputs": []
    },
    {
      "cell_type": "code",
      "metadata": {
        "colab": {
          "base_uri": "https://localhost:8080/",
          "height": 236
        },
        "id": "4JtNbxQ4Hvih",
        "outputId": "3e91075e-f68b-4dd1-f9e7-2bab524dde88"
      },
      "source": [
        "df1.head()"
      ],
      "execution_count": 12,
      "outputs": [
        {
          "output_type": "execute_result",
          "data": {
            "text/html": [
              "<div>\n",
              "<style scoped>\n",
              "    .dataframe tbody tr th:only-of-type {\n",
              "        vertical-align: middle;\n",
              "    }\n",
              "\n",
              "    .dataframe tbody tr th {\n",
              "        vertical-align: top;\n",
              "    }\n",
              "\n",
              "    .dataframe thead th {\n",
              "        text-align: right;\n",
              "    }\n",
              "</style>\n",
              "<table border=\"1\" class=\"dataframe\">\n",
              "  <thead>\n",
              "    <tr style=\"text-align: right;\">\n",
              "      <th></th>\n",
              "      <th>index</th>\n",
              "      <th>Sales</th>\n",
              "    </tr>\n",
              "    <tr>\n",
              "      <th>quater</th>\n",
              "      <th></th>\n",
              "      <th></th>\n",
              "    </tr>\n",
              "  </thead>\n",
              "  <tbody>\n",
              "    <tr>\n",
              "      <th>1986-01-01</th>\n",
              "      <td>0</td>\n",
              "      <td>1734.827000</td>\n",
              "    </tr>\n",
              "    <tr>\n",
              "      <th>1986-04-01</th>\n",
              "      <td>1</td>\n",
              "      <td>2244.960999</td>\n",
              "    </tr>\n",
              "    <tr>\n",
              "      <th>1986-07-01</th>\n",
              "      <td>2</td>\n",
              "      <td>2533.804993</td>\n",
              "    </tr>\n",
              "    <tr>\n",
              "      <th>1986-10-01</th>\n",
              "      <td>3</td>\n",
              "      <td>2154.962997</td>\n",
              "    </tr>\n",
              "    <tr>\n",
              "      <th>1987-01-01</th>\n",
              "      <td>4</td>\n",
              "      <td>1547.818996</td>\n",
              "    </tr>\n",
              "  </tbody>\n",
              "</table>\n",
              "</div>"
            ],
            "text/plain": [
              "            index        Sales\n",
              "quater                        \n",
              "1986-01-01      0  1734.827000\n",
              "1986-04-01      1  2244.960999\n",
              "1986-07-01      2  2533.804993\n",
              "1986-10-01      3  2154.962997\n",
              "1987-01-01      4  1547.818996"
            ]
          },
          "metadata": {},
          "execution_count": 12
        }
      ]
    },
    {
      "cell_type": "code",
      "metadata": {
        "colab": {
          "base_uri": "https://localhost:8080/",
          "height": 326
        },
        "id": "cxDrIC9hHrQ9",
        "outputId": "592a695e-8d86-4d24-947a-07e0a3dca84c"
      },
      "source": [
        "df1['Sales'].plot(figsize=(15, 6))\n",
        "plt.show()"
      ],
      "execution_count": 13,
      "outputs": [
        {
          "output_type": "display_data",
          "data": {
            "image/png": "[encoded data removed]",
            "text/plain": [
              "<Figure size 1080x432 with 1 Axes>"
            ]
          },
          "metadata": {
            "needs_background": "light"
          }
        }
      ]
    },
    {
      "cell_type": "code",
      "metadata": {
        "colab": {
          "base_uri": "https://localhost:8080/",
          "height": 297
        },
        "id": "iIGQv0iqH5ZB",
        "outputId": "0e1f6046-effb-4abd-d607-ca68c5e93594"
      },
      "source": [
        "for i in range(2,10,2):\n",
        "    df1[\"Sales\"].rolling(i).mean().plot(label=str(i))\n",
        "plt.legend(loc=3)"
      ],
      "execution_count": 14,
      "outputs": [
        {
          "output_type": "execute_result",
          "data": {
            "text/plain": [
              "<matplotlib.legend.Legend at 0x7f6770f2a290>"
            ]
          },
          "metadata": {},
          "execution_count": 14
        },
        {
          "output_type": "display_data",
          "data": {
            "image/png": "[encoded data removed]",
            "text/plain": [
              "<Figure size 432x288 with 1 Axes>"
            ]
          },
          "metadata": {
            "needs_background": "light"
          }
        }
      ]
    },
    {
      "cell_type": "code",
      "metadata": {
        "colab": {
          "base_uri": "https://localhost:8080/",
          "height": 299
        },
        "id": "7_LzOshsH_vd",
        "outputId": "52a4a5a3-c2cc-48e4-956e-452c95390b6b"
      },
      "source": [
        "ts_mul = seasonal_decompose(df1.Sales,model=\"multiplicative\")\n",
        "fig = ts_mul.plot()\n",
        "plt.show()\n"
      ],
      "execution_count": 15,
      "outputs": [
        {
          "output_type": "display_data",
          "data": {
            "image/png": "[encoded data removed]",
            "text/plain": [
              "<Figure size 432x288 with 4 Axes>"
            ]
          },
          "metadata": {
            "needs_background": "light"
          }
        }
      ]
    },
    {
      "cell_type": "code",
      "metadata": {
        "colab": {
          "base_uri": "https://localhost:8080/",
          "height": 541
        },
        "id": "R---ChvRIGVM",
        "outputId": "06af34b1-b09a-4cb0-dfee-5a28b3cb5dc0"
      },
      "source": [
        "tsa_plots.plot_acf(df1.Sales)"
      ],
      "execution_count": 16,
      "outputs": [
        {
          "output_type": "execute_result",
          "data": {
            "image/png": "[encoded data removed]",
            "text/plain": [
              "<Figure size 432x288 with 1 Axes>"
            ]
          },
          "metadata": {},
          "execution_count": 16
        },
        {
          "output_type": "display_data",
          "data": {
            "image/png": "[encoded data removed]",
            "text/plain": [
              "<Figure size 432x288 with 1 Axes>"
            ]
          },
          "metadata": {
            "needs_background": "light"
          }
        }
      ]
    },
    {
      "cell_type": "markdown",
      "metadata": {
        "id": "pE0vZZPNIOJ5"
      },
      "source": [
        "3 - Building Time series forecasting with ARIMA"
      ]
    },
    {
      "cell_type": "code",
      "metadata": {
        "id": "XwBuPAzSIKNo"
      },
      "source": [
        "X = df1['Sales'].values"
      ],
      "execution_count": 17,
      "outputs": []
    },
    {
      "cell_type": "code",
      "metadata": {
        "id": "6m5VdDxDITgK"
      },
      "source": [
        "size = int(len(X) * 0.66)"
      ],
      "execution_count": 18,
      "outputs": []
    },
    {
      "cell_type": "code",
      "metadata": {
        "id": "YOu8FuqkIWy5"
      },
      "source": [
        "train, test = X[0:size], X[size:len(X)]"
      ],
      "execution_count": 19,
      "outputs": []
    },
    {
      "cell_type": "code",
      "metadata": {
        "id": "uCbguANLIagn"
      },
      "source": [
        "model = ARIMA(train, order=(5,1,0))\n"
      ],
      "execution_count": 20,
      "outputs": []
    },
    {
      "cell_type": "code",
      "metadata": {
        "id": "1544JSSSIhYL"
      },
      "source": [
        "model_fit = model.fit(disp=0)"
      ],
      "execution_count": 21,
      "outputs": []
    },
    {
      "cell_type": "code",
      "metadata": {
        "colab": {
          "base_uri": "https://localhost:8080/"
        },
        "id": "mUsggfDfIkKC",
        "outputId": "61911b22-be20-47f8-df71-a70a0e66ee42"
      },
      "source": [
        "print(model_fit.summary())"
      ],
      "execution_count": 22,
      "outputs": [
        {
          "output_type": "stream",
          "text": [
            "                             ARIMA Model Results                              \n",
            "==============================================================================\n",
            "Dep. Variable:                    D.y   No. Observations:                   26\n",
            "Model:                 ARIMA(5, 1, 0)   Log Likelihood                -172.036\n",
            "Method:                       css-mle   S.D. of innovations            163.191\n",
            "Date:                Wed, 25 Aug 2021   AIC                            358.071\n",
            "Time:                        16:23:54   BIC                            366.878\n",
            "Sample:                             1   HQIC                           360.607\n",
            "                                                                              \n",
            "==============================================================================\n",
            "                 coef    std err          z      P>|z|      [0.025      0.975]\n",
            "------------------------------------------------------------------------------\n",
            "const         41.8431     26.509      1.578      0.130     -10.113      93.799\n",
            "ar.L1.D.y     -0.1479      0.195     -0.758      0.457      -0.530       0.234\n",
            "ar.L2.D.y     -0.3127      0.157     -1.996      0.060      -0.620      -0.006\n",
            "ar.L3.D.y     -0.1881      0.173     -1.090      0.289      -0.526       0.150\n",
            "ar.L4.D.y      0.6222      0.167      3.716      0.001       0.294       0.950\n",
            "ar.L5.D.y     -0.1766      0.220     -0.804      0.431      -0.607       0.254\n",
            "                                    Roots                                    \n",
            "=============================================================================\n",
            "                  Real          Imaginary           Modulus         Frequency\n",
            "-----------------------------------------------------------------------------\n",
            "AR.1           -1.0476           -0.0000j            1.0476           -0.5000\n",
            "AR.2           -0.0437           -1.0161j            1.0170           -0.2568\n",
            "AR.3           -0.0437           +1.0161j            1.0170            0.2568\n",
            "AR.4            1.8835           -0.0000j            1.8835           -0.0000\n",
            "AR.5            2.7753           -0.0000j            2.7753           -0.0000\n",
            "-----------------------------------------------------------------------------\n"
          ],
          "name": "stdout"
        }
      ]
    },
    {
      "cell_type": "markdown",
      "metadata": {
        "id": "ivWkmx2tIrp_"
      },
      "source": [
        "This summarizes the coefficient values used as well as the skill of the fit on the on the in-sample observations"
      ]
    },
    {
      "cell_type": "code",
      "metadata": {
        "colab": {
          "base_uri": "https://localhost:8080/",
          "height": 671
        },
        "id": "5-vmQXYxInXy",
        "outputId": "4bada421-1f08-4d7a-cc80-ba2e4fc483c7"
      },
      "source": [
        "residuals = pd.DataFrame(model_fit.resid)\n",
        "residuals.plot()\n",
        "pyplot.show()\n",
        "residuals.plot(kind='kde')\n",
        "pyplot.show()\n",
        "print(residuals.describe())"
      ],
      "execution_count": 23,
      "outputs": [
        {
          "output_type": "display_data",
          "data": {
            "image/png": "[encoded data removed]",
            "text/plain": [
              "<Figure size 432x288 with 1 Axes>"
            ]
          },
          "metadata": {
            "needs_background": "light"
          }
        },
        {
          "output_type": "display_data",
          "data": {
            "image/png": "[encoded data removed]",
            "text/plain": [
              "<Figure size 432x288 with 1 Axes>"
            ]
          },
          "metadata": {
            "needs_background": "light"
          }
        },
        {
          "output_type": "stream",
          "text": [
            "                0\n",
            "count   26.000000\n",
            "mean    31.326256\n",
            "std    202.029681\n",
            "min   -438.903715\n",
            "25%    -58.602548\n",
            "50%     -9.189985\n",
            "75%    200.236296\n",
            "max    468.290903\n"
          ],
          "name": "stdout"
        }
      ]
    },
    {
      "cell_type": "code",
      "metadata": {
        "id": "vDOs-fKrIxkE"
      },
      "source": [
        "history = [x for x in train]"
      ],
      "execution_count": 24,
      "outputs": []
    },
    {
      "cell_type": "code",
      "metadata": {
        "id": "eiVVEwrHJACH"
      },
      "source": [
        "predictions = list()"
      ],
      "execution_count": 25,
      "outputs": []
    },
    {
      "cell_type": "code",
      "metadata": {
        "colab": {
          "base_uri": "https://localhost:8080/"
        },
        "id": "JgoHO2-8JCnK",
        "outputId": "986ec07a-8f1f-473f-f4c3-bd9f5adde59c"
      },
      "source": [
        "for t in range(len(test)):\n",
        "\tmodel = ARIMA(history, order=(5,1,0))\n",
        "\tmodel_fit = model.fit(disp=0)\n",
        "\toutput = model_fit.forecast()\n",
        "\tyhat = output[0]\n",
        "\tpredictions.append(yhat)\n",
        "\tobs = test[t]\n",
        "\thistory.append(obs)\n",
        "\tprint('predicted=%f, expected=%f' % (yhat, obs))"
      ],
      "execution_count": 26,
      "outputs": [
        {
          "output_type": "stream",
          "text": [
            "predicted=3135.585854, expected=3243.859993\n",
            "predicted=3188.846115, expected=3056.000000\n",
            "predicted=3734.224247, expected=3899.000000\n",
            "predicted=3782.621454, expected=3629.000000\n",
            "predicted=3355.126287, expected=3373.000000\n",
            "predicted=3297.217039, expected=3352.000000\n",
            "predicted=4112.813074, expected=4342.000000\n",
            "predicted=3961.044662, expected=4461.000000\n",
            "predicted=4130.786472, expected=4017.000000\n",
            "predicted=3912.795208, expected=3854.000000\n",
            "predicted=4687.044021, expected=4936.000000\n",
            "predicted=4970.518614, expected=4895.000000\n",
            "predicted=4384.040633, expected=4333.000000\n",
            "predicted=4207.687173, expected=4194.000000\n",
            "predicted=5261.672027, expected=5253.000000\n"
          ],
          "name": "stdout"
        }
      ]
    },
    {
      "cell_type": "code",
      "metadata": {
        "colab": {
          "base_uri": "https://localhost:8080/"
        },
        "id": "tDhaygJnJGHx",
        "outputId": "364d1b90-1124-4449-c103-9e4dbf93bf1e"
      },
      "source": [
        "error = mean_squared_error(test, predictions)\n",
        "print('Test MSE: %.3f' % error)"
      ],
      "execution_count": 27,
      "outputs": [
        {
          "output_type": "stream",
          "text": [
            "Test MSE: 31525.245\n"
          ],
          "name": "stdout"
        }
      ]
    },
    {
      "cell_type": "code",
      "metadata": {
        "colab": {
          "base_uri": "https://localhost:8080/",
          "height": 262
        },
        "id": "MHuqolUwJLyW",
        "outputId": "e296a248-e70f-47ef-8c5d-3c18c085f9d4"
      },
      "source": [
        "pyplot.plot(test)\n",
        "pyplot.plot(predictions, color='red')\n",
        "pyplot.show()"
      ],
      "execution_count": 28,
      "outputs": [
        {
          "output_type": "display_data",
          "data": {
            "image/png": "[encoded data removed]",
            "text/plain": [
              "<Figure size 432x288 with 1 Axes>"
            ]
          },
          "metadata": {
            "needs_background": "light"
          }
        }
      ]
    },
    {
      "cell_type": "markdown",
      "metadata": {
        "id": "dYUiZrQdJdKE"
      },
      "source": [
        "A line plot is created showing the expected values (blue) compared to the rolling forecast predictions (red). We can see the values show some trend and are in the correct scale¶"
      ]
    },
    {
      "cell_type": "markdown",
      "metadata": {
        "id": "n8crWlvIJhnG"
      },
      "source": [
        "4 - Comparing Multiple Models"
      ]
    },
    {
      "cell_type": "code",
      "metadata": {
        "id": "n1bYQUvoJRxE"
      },
      "source": [
        "df2 = pd.get_dummies(df, columns = ['Quarter'])"
      ],
      "execution_count": 29,
      "outputs": []
    },
    {
      "cell_type": "code",
      "metadata": {
        "id": "n5T1u1PfJmSb"
      },
      "source": [
        "df2.columns = ['Sales','Q1','Q1','Q1','Q1','Q1','Q1','Q1','Q1','Q1','Q1','Q1','Q2','Q2','Q2','Q2','Q2','Q2','Q2','Q2','Q2','Q2','Q2','Q3','Q3','Q3','Q3','Q3','Q3','Q3','Q3','Q3','Q3','Q4','Q4','Q4','Q4','Q4','Q4','Q4','Q4','Q4','Q4']"
      ],
      "execution_count": 30,
      "outputs": []
    },
    {
      "cell_type": "code",
      "metadata": {
        "colab": {
          "base_uri": "https://localhost:8080/",
          "height": 225
        },
        "id": "DeQxzYQqJp0z",
        "outputId": "a0988c73-98f9-473a-df6c-16f5fca7ec39"
      },
      "source": [
        "df2.head()"
      ],
      "execution_count": 31,
      "outputs": [
        {
          "output_type": "execute_result",
          "data": {
            "text/html": [
              "<div>\n",
              "<style scoped>\n",
              "    .dataframe tbody tr th:only-of-type {\n",
              "        vertical-align: middle;\n",
              "    }\n",
              "\n",
              "    .dataframe tbody tr th {\n",
              "        vertical-align: top;\n",
              "    }\n",
              "\n",
              "    .dataframe thead th {\n",
              "        text-align: right;\n",
              "    }\n",
              "</style>\n",
              "<table border=\"1\" class=\"dataframe\">\n",
              "  <thead>\n",
              "    <tr style=\"text-align: right;\">\n",
              "      <th></th>\n",
              "      <th>Sales</th>\n",
              "      <th>Q1</th>\n",
              "      <th>Q1</th>\n",
              "      <th>Q1</th>\n",
              "      <th>Q1</th>\n",
              "      <th>Q1</th>\n",
              "      <th>Q1</th>\n",
              "      <th>Q1</th>\n",
              "      <th>Q1</th>\n",
              "      <th>Q1</th>\n",
              "      <th>Q1</th>\n",
              "      <th>Q1</th>\n",
              "      <th>Q2</th>\n",
              "      <th>Q2</th>\n",
              "      <th>Q2</th>\n",
              "      <th>Q2</th>\n",
              "      <th>Q2</th>\n",
              "      <th>Q2</th>\n",
              "      <th>Q2</th>\n",
              "      <th>Q2</th>\n",
              "      <th>Q2</th>\n",
              "      <th>Q2</th>\n",
              "      <th>Q2</th>\n",
              "      <th>Q3</th>\n",
              "      <th>Q3</th>\n",
              "      <th>Q3</th>\n",
              "      <th>Q3</th>\n",
              "      <th>Q3</th>\n",
              "      <th>Q3</th>\n",
              "      <th>Q3</th>\n",
              "      <th>Q3</th>\n",
              "      <th>Q3</th>\n",
              "      <th>Q3</th>\n",
              "      <th>Q4</th>\n",
              "      <th>Q4</th>\n",
              "      <th>Q4</th>\n",
              "      <th>Q4</th>\n",
              "      <th>Q4</th>\n",
              "      <th>Q4</th>\n",
              "      <th>Q4</th>\n",
              "      <th>Q4</th>\n",
              "      <th>Q4</th>\n",
              "      <th>Q4</th>\n",
              "    </tr>\n",
              "  </thead>\n",
              "  <tbody>\n",
              "    <tr>\n",
              "      <th>0</th>\n",
              "      <td>1734.827000</td>\n",
              "      <td>1</td>\n",
              "      <td>0</td>\n",
              "      <td>0</td>\n",
              "      <td>0</td>\n",
              "      <td>0</td>\n",
              "      <td>0</td>\n",
              "      <td>0</td>\n",
              "      <td>0</td>\n",
              "      <td>0</td>\n",
              "      <td>0</td>\n",
              "      <td>0</td>\n",
              "      <td>0</td>\n",
              "      <td>0</td>\n",
              "      <td>0</td>\n",
              "      <td>0</td>\n",
              "      <td>0</td>\n",
              "      <td>0</td>\n",
              "      <td>0</td>\n",
              "      <td>0</td>\n",
              "      <td>0</td>\n",
              "      <td>0</td>\n",
              "      <td>0</td>\n",
              "      <td>0</td>\n",
              "      <td>0</td>\n",
              "      <td>0</td>\n",
              "      <td>0</td>\n",
              "      <td>0</td>\n",
              "      <td>0</td>\n",
              "      <td>0</td>\n",
              "      <td>0</td>\n",
              "      <td>0</td>\n",
              "      <td>0</td>\n",
              "      <td>0</td>\n",
              "      <td>0</td>\n",
              "      <td>0</td>\n",
              "      <td>0</td>\n",
              "      <td>0</td>\n",
              "      <td>0</td>\n",
              "      <td>0</td>\n",
              "      <td>0</td>\n",
              "      <td>0</td>\n",
              "      <td>0</td>\n",
              "    </tr>\n",
              "    <tr>\n",
              "      <th>1</th>\n",
              "      <td>2244.960999</td>\n",
              "      <td>0</td>\n",
              "      <td>0</td>\n",
              "      <td>0</td>\n",
              "      <td>0</td>\n",
              "      <td>0</td>\n",
              "      <td>0</td>\n",
              "      <td>0</td>\n",
              "      <td>0</td>\n",
              "      <td>0</td>\n",
              "      <td>0</td>\n",
              "      <td>0</td>\n",
              "      <td>1</td>\n",
              "      <td>0</td>\n",
              "      <td>0</td>\n",
              "      <td>0</td>\n",
              "      <td>0</td>\n",
              "      <td>0</td>\n",
              "      <td>0</td>\n",
              "      <td>0</td>\n",
              "      <td>0</td>\n",
              "      <td>0</td>\n",
              "      <td>0</td>\n",
              "      <td>0</td>\n",
              "      <td>0</td>\n",
              "      <td>0</td>\n",
              "      <td>0</td>\n",
              "      <td>0</td>\n",
              "      <td>0</td>\n",
              "      <td>0</td>\n",
              "      <td>0</td>\n",
              "      <td>0</td>\n",
              "      <td>0</td>\n",
              "      <td>0</td>\n",
              "      <td>0</td>\n",
              "      <td>0</td>\n",
              "      <td>0</td>\n",
              "      <td>0</td>\n",
              "      <td>0</td>\n",
              "      <td>0</td>\n",
              "      <td>0</td>\n",
              "      <td>0</td>\n",
              "      <td>0</td>\n",
              "    </tr>\n",
              "    <tr>\n",
              "      <th>2</th>\n",
              "      <td>2533.804993</td>\n",
              "      <td>0</td>\n",
              "      <td>0</td>\n",
              "      <td>0</td>\n",
              "      <td>0</td>\n",
              "      <td>0</td>\n",
              "      <td>0</td>\n",
              "      <td>0</td>\n",
              "      <td>0</td>\n",
              "      <td>0</td>\n",
              "      <td>0</td>\n",
              "      <td>0</td>\n",
              "      <td>0</td>\n",
              "      <td>0</td>\n",
              "      <td>0</td>\n",
              "      <td>0</td>\n",
              "      <td>0</td>\n",
              "      <td>0</td>\n",
              "      <td>0</td>\n",
              "      <td>0</td>\n",
              "      <td>0</td>\n",
              "      <td>0</td>\n",
              "      <td>0</td>\n",
              "      <td>1</td>\n",
              "      <td>0</td>\n",
              "      <td>0</td>\n",
              "      <td>0</td>\n",
              "      <td>0</td>\n",
              "      <td>0</td>\n",
              "      <td>0</td>\n",
              "      <td>0</td>\n",
              "      <td>0</td>\n",
              "      <td>0</td>\n",
              "      <td>0</td>\n",
              "      <td>0</td>\n",
              "      <td>0</td>\n",
              "      <td>0</td>\n",
              "      <td>0</td>\n",
              "      <td>0</td>\n",
              "      <td>0</td>\n",
              "      <td>0</td>\n",
              "      <td>0</td>\n",
              "      <td>0</td>\n",
              "    </tr>\n",
              "    <tr>\n",
              "      <th>3</th>\n",
              "      <td>2154.962997</td>\n",
              "      <td>0</td>\n",
              "      <td>0</td>\n",
              "      <td>0</td>\n",
              "      <td>0</td>\n",
              "      <td>0</td>\n",
              "      <td>0</td>\n",
              "      <td>0</td>\n",
              "      <td>0</td>\n",
              "      <td>0</td>\n",
              "      <td>0</td>\n",
              "      <td>0</td>\n",
              "      <td>0</td>\n",
              "      <td>0</td>\n",
              "      <td>0</td>\n",
              "      <td>0</td>\n",
              "      <td>0</td>\n",
              "      <td>0</td>\n",
              "      <td>0</td>\n",
              "      <td>0</td>\n",
              "      <td>0</td>\n",
              "      <td>0</td>\n",
              "      <td>0</td>\n",
              "      <td>0</td>\n",
              "      <td>0</td>\n",
              "      <td>0</td>\n",
              "      <td>0</td>\n",
              "      <td>0</td>\n",
              "      <td>0</td>\n",
              "      <td>0</td>\n",
              "      <td>0</td>\n",
              "      <td>0</td>\n",
              "      <td>0</td>\n",
              "      <td>1</td>\n",
              "      <td>0</td>\n",
              "      <td>0</td>\n",
              "      <td>0</td>\n",
              "      <td>0</td>\n",
              "      <td>0</td>\n",
              "      <td>0</td>\n",
              "      <td>0</td>\n",
              "      <td>0</td>\n",
              "      <td>0</td>\n",
              "    </tr>\n",
              "    <tr>\n",
              "      <th>4</th>\n",
              "      <td>1547.818996</td>\n",
              "      <td>0</td>\n",
              "      <td>1</td>\n",
              "      <td>0</td>\n",
              "      <td>0</td>\n",
              "      <td>0</td>\n",
              "      <td>0</td>\n",
              "      <td>0</td>\n",
              "      <td>0</td>\n",
              "      <td>0</td>\n",
              "      <td>0</td>\n",
              "      <td>0</td>\n",
              "      <td>0</td>\n",
              "      <td>0</td>\n",
              "      <td>0</td>\n",
              "      <td>0</td>\n",
              "      <td>0</td>\n",
              "      <td>0</td>\n",
              "      <td>0</td>\n",
              "      <td>0</td>\n",
              "      <td>0</td>\n",
              "      <td>0</td>\n",
              "      <td>0</td>\n",
              "      <td>0</td>\n",
              "      <td>0</td>\n",
              "      <td>0</td>\n",
              "      <td>0</td>\n",
              "      <td>0</td>\n",
              "      <td>0</td>\n",
              "      <td>0</td>\n",
              "      <td>0</td>\n",
              "      <td>0</td>\n",
              "      <td>0</td>\n",
              "      <td>0</td>\n",
              "      <td>0</td>\n",
              "      <td>0</td>\n",
              "      <td>0</td>\n",
              "      <td>0</td>\n",
              "      <td>0</td>\n",
              "      <td>0</td>\n",
              "      <td>0</td>\n",
              "      <td>0</td>\n",
              "      <td>0</td>\n",
              "    </tr>\n",
              "  </tbody>\n",
              "</table>\n",
              "</div>"
            ],
            "text/plain": [
              "         Sales  Q1  Q1  Q1  Q1  Q1  Q1  Q1  ...  Q4  Q4  Q4  Q4  Q4  Q4  Q4  Q4\n",
              "0  1734.827000   1   0   0   0   0   0   0  ...   0   0   0   0   0   0   0   0\n",
              "1  2244.960999   0   0   0   0   0   0   0  ...   0   0   0   0   0   0   0   0\n",
              "2  2533.804993   0   0   0   0   0   0   0  ...   0   0   0   0   0   0   0   0\n",
              "3  2154.962997   0   0   0   0   0   0   0  ...   0   0   0   0   0   0   0   0\n",
              "4  1547.818996   0   1   0   0   0   0   0  ...   0   0   0   0   0   0   0   0\n",
              "\n",
              "[5 rows x 43 columns]"
            ]
          },
          "metadata": {},
          "execution_count": 31
        }
      ]
    },
    {
      "cell_type": "code",
      "metadata": {
        "id": "QfMwRq1dJv5l"
      },
      "source": [
        "t= np.arange(1,43)"
      ],
      "execution_count": 32,
      "outputs": []
    },
    {
      "cell_type": "code",
      "metadata": {
        "id": "u51J10LiJxHV"
      },
      "source": [
        "df2['t'] = t"
      ],
      "execution_count": 33,
      "outputs": []
    },
    {
      "cell_type": "code",
      "metadata": {
        "id": "eKHoYIpDJ0P0"
      },
      "source": [
        "df2['t_sq'] = df2['t']*df2['t']"
      ],
      "execution_count": 34,
      "outputs": []
    },
    {
      "cell_type": "code",
      "metadata": {
        "id": "G-zz3OcGJ4Yp"
      },
      "source": [
        "log_Sales=np.log(df2['Sales'])"
      ],
      "execution_count": 35,
      "outputs": []
    },
    {
      "cell_type": "code",
      "metadata": {
        "id": "qTv-ewErJ6-0"
      },
      "source": [
        "df2['log_Sales']=log_Sales"
      ],
      "execution_count": 36,
      "outputs": []
    },
    {
      "cell_type": "code",
      "metadata": {
        "colab": {
          "base_uri": "https://localhost:8080/",
          "height": 225
        },
        "id": "vYOU9B8EJ8X7",
        "outputId": "f66f95d0-2dff-4447-f1c5-95800acae770"
      },
      "source": [
        "df2.head()"
      ],
      "execution_count": 37,
      "outputs": [
        {
          "output_type": "execute_result",
          "data": {
            "text/html": [
              "<div>\n",
              "<style scoped>\n",
              "    .dataframe tbody tr th:only-of-type {\n",
              "        vertical-align: middle;\n",
              "    }\n",
              "\n",
              "    .dataframe tbody tr th {\n",
              "        vertical-align: top;\n",
              "    }\n",
              "\n",
              "    .dataframe thead th {\n",
              "        text-align: right;\n",
              "    }\n",
              "</style>\n",
              "<table border=\"1\" class=\"dataframe\">\n",
              "  <thead>\n",
              "    <tr style=\"text-align: right;\">\n",
              "      <th></th>\n",
              "      <th>Sales</th>\n",
              "      <th>Q1</th>\n",
              "      <th>Q1</th>\n",
              "      <th>Q1</th>\n",
              "      <th>Q1</th>\n",
              "      <th>Q1</th>\n",
              "      <th>Q1</th>\n",
              "      <th>Q1</th>\n",
              "      <th>Q1</th>\n",
              "      <th>Q1</th>\n",
              "      <th>Q1</th>\n",
              "      <th>Q1</th>\n",
              "      <th>Q2</th>\n",
              "      <th>Q2</th>\n",
              "      <th>Q2</th>\n",
              "      <th>Q2</th>\n",
              "      <th>Q2</th>\n",
              "      <th>Q2</th>\n",
              "      <th>Q2</th>\n",
              "      <th>Q2</th>\n",
              "      <th>Q2</th>\n",
              "      <th>Q2</th>\n",
              "      <th>Q2</th>\n",
              "      <th>Q3</th>\n",
              "      <th>Q3</th>\n",
              "      <th>Q3</th>\n",
              "      <th>Q3</th>\n",
              "      <th>Q3</th>\n",
              "      <th>Q3</th>\n",
              "      <th>Q3</th>\n",
              "      <th>Q3</th>\n",
              "      <th>Q3</th>\n",
              "      <th>Q3</th>\n",
              "      <th>Q4</th>\n",
              "      <th>Q4</th>\n",
              "      <th>Q4</th>\n",
              "      <th>Q4</th>\n",
              "      <th>Q4</th>\n",
              "      <th>Q4</th>\n",
              "      <th>Q4</th>\n",
              "      <th>Q4</th>\n",
              "      <th>Q4</th>\n",
              "      <th>Q4</th>\n",
              "      <th>t</th>\n",
              "      <th>t_sq</th>\n",
              "      <th>log_Sales</th>\n",
              "    </tr>\n",
              "  </thead>\n",
              "  <tbody>\n",
              "    <tr>\n",
              "      <th>0</th>\n",
              "      <td>1734.827000</td>\n",
              "      <td>1</td>\n",
              "      <td>0</td>\n",
              "      <td>0</td>\n",
              "      <td>0</td>\n",
              "      <td>0</td>\n",
              "      <td>0</td>\n",
              "      <td>0</td>\n",
              "      <td>0</td>\n",
              "      <td>0</td>\n",
              "      <td>0</td>\n",
              "      <td>0</td>\n",
              "      <td>0</td>\n",
              "      <td>0</td>\n",
              "      <td>0</td>\n",
              "      <td>0</td>\n",
              "      <td>0</td>\n",
              "      <td>0</td>\n",
              "      <td>0</td>\n",
              "      <td>0</td>\n",
              "      <td>0</td>\n",
              "      <td>0</td>\n",
              "      <td>0</td>\n",
              "      <td>0</td>\n",
              "      <td>0</td>\n",
              "      <td>0</td>\n",
              "      <td>0</td>\n",
              "      <td>0</td>\n",
              "      <td>0</td>\n",
              "      <td>0</td>\n",
              "      <td>0</td>\n",
              "      <td>0</td>\n",
              "      <td>0</td>\n",
              "      <td>0</td>\n",
              "      <td>0</td>\n",
              "      <td>0</td>\n",
              "      <td>0</td>\n",
              "      <td>0</td>\n",
              "      <td>0</td>\n",
              "      <td>0</td>\n",
              "      <td>0</td>\n",
              "      <td>0</td>\n",
              "      <td>0</td>\n",
              "      <td>1</td>\n",
              "      <td>1</td>\n",
              "      <td>7.458663</td>\n",
              "    </tr>\n",
              "    <tr>\n",
              "      <th>1</th>\n",
              "      <td>2244.960999</td>\n",
              "      <td>0</td>\n",
              "      <td>0</td>\n",
              "      <td>0</td>\n",
              "      <td>0</td>\n",
              "      <td>0</td>\n",
              "      <td>0</td>\n",
              "      <td>0</td>\n",
              "      <td>0</td>\n",
              "      <td>0</td>\n",
              "      <td>0</td>\n",
              "      <td>0</td>\n",
              "      <td>1</td>\n",
              "      <td>0</td>\n",
              "      <td>0</td>\n",
              "      <td>0</td>\n",
              "      <td>0</td>\n",
              "      <td>0</td>\n",
              "      <td>0</td>\n",
              "      <td>0</td>\n",
              "      <td>0</td>\n",
              "      <td>0</td>\n",
              "      <td>0</td>\n",
              "      <td>0</td>\n",
              "      <td>0</td>\n",
              "      <td>0</td>\n",
              "      <td>0</td>\n",
              "      <td>0</td>\n",
              "      <td>0</td>\n",
              "      <td>0</td>\n",
              "      <td>0</td>\n",
              "      <td>0</td>\n",
              "      <td>0</td>\n",
              "      <td>0</td>\n",
              "      <td>0</td>\n",
              "      <td>0</td>\n",
              "      <td>0</td>\n",
              "      <td>0</td>\n",
              "      <td>0</td>\n",
              "      <td>0</td>\n",
              "      <td>0</td>\n",
              "      <td>0</td>\n",
              "      <td>0</td>\n",
              "      <td>2</td>\n",
              "      <td>4</td>\n",
              "      <td>7.716443</td>\n",
              "    </tr>\n",
              "    <tr>\n",
              "      <th>2</th>\n",
              "      <td>2533.804993</td>\n",
              "      <td>0</td>\n",
              "      <td>0</td>\n",
              "      <td>0</td>\n",
              "      <td>0</td>\n",
              "      <td>0</td>\n",
              "      <td>0</td>\n",
              "      <td>0</td>\n",
              "      <td>0</td>\n",
              "      <td>0</td>\n",
              "      <td>0</td>\n",
              "      <td>0</td>\n",
              "      <td>0</td>\n",
              "      <td>0</td>\n",
              "      <td>0</td>\n",
              "      <td>0</td>\n",
              "      <td>0</td>\n",
              "      <td>0</td>\n",
              "      <td>0</td>\n",
              "      <td>0</td>\n",
              "      <td>0</td>\n",
              "      <td>0</td>\n",
              "      <td>0</td>\n",
              "      <td>1</td>\n",
              "      <td>0</td>\n",
              "      <td>0</td>\n",
              "      <td>0</td>\n",
              "      <td>0</td>\n",
              "      <td>0</td>\n",
              "      <td>0</td>\n",
              "      <td>0</td>\n",
              "      <td>0</td>\n",
              "      <td>0</td>\n",
              "      <td>0</td>\n",
              "      <td>0</td>\n",
              "      <td>0</td>\n",
              "      <td>0</td>\n",
              "      <td>0</td>\n",
              "      <td>0</td>\n",
              "      <td>0</td>\n",
              "      <td>0</td>\n",
              "      <td>0</td>\n",
              "      <td>0</td>\n",
              "      <td>3</td>\n",
              "      <td>9</td>\n",
              "      <td>7.837477</td>\n",
              "    </tr>\n",
              "    <tr>\n",
              "      <th>3</th>\n",
              "      <td>2154.962997</td>\n",
              "      <td>0</td>\n",
              "      <td>0</td>\n",
              "      <td>0</td>\n",
              "      <td>0</td>\n",
              "      <td>0</td>\n",
              "      <td>0</td>\n",
              "      <td>0</td>\n",
              "      <td>0</td>\n",
              "      <td>0</td>\n",
              "      <td>0</td>\n",
              "      <td>0</td>\n",
              "      <td>0</td>\n",
              "      <td>0</td>\n",
              "      <td>0</td>\n",
              "      <td>0</td>\n",
              "      <td>0</td>\n",
              "      <td>0</td>\n",
              "      <td>0</td>\n",
              "      <td>0</td>\n",
              "      <td>0</td>\n",
              "      <td>0</td>\n",
              "      <td>0</td>\n",
              "      <td>0</td>\n",
              "      <td>0</td>\n",
              "      <td>0</td>\n",
              "      <td>0</td>\n",
              "      <td>0</td>\n",
              "      <td>0</td>\n",
              "      <td>0</td>\n",
              "      <td>0</td>\n",
              "      <td>0</td>\n",
              "      <td>0</td>\n",
              "      <td>1</td>\n",
              "      <td>0</td>\n",
              "      <td>0</td>\n",
              "      <td>0</td>\n",
              "      <td>0</td>\n",
              "      <td>0</td>\n",
              "      <td>0</td>\n",
              "      <td>0</td>\n",
              "      <td>0</td>\n",
              "      <td>0</td>\n",
              "      <td>4</td>\n",
              "      <td>16</td>\n",
              "      <td>7.675529</td>\n",
              "    </tr>\n",
              "    <tr>\n",
              "      <th>4</th>\n",
              "      <td>1547.818996</td>\n",
              "      <td>0</td>\n",
              "      <td>1</td>\n",
              "      <td>0</td>\n",
              "      <td>0</td>\n",
              "      <td>0</td>\n",
              "      <td>0</td>\n",
              "      <td>0</td>\n",
              "      <td>0</td>\n",
              "      <td>0</td>\n",
              "      <td>0</td>\n",
              "      <td>0</td>\n",
              "      <td>0</td>\n",
              "      <td>0</td>\n",
              "      <td>0</td>\n",
              "      <td>0</td>\n",
              "      <td>0</td>\n",
              "      <td>0</td>\n",
              "      <td>0</td>\n",
              "      <td>0</td>\n",
              "      <td>0</td>\n",
              "      <td>0</td>\n",
              "      <td>0</td>\n",
              "      <td>0</td>\n",
              "      <td>0</td>\n",
              "      <td>0</td>\n",
              "      <td>0</td>\n",
              "      <td>0</td>\n",
              "      <td>0</td>\n",
              "      <td>0</td>\n",
              "      <td>0</td>\n",
              "      <td>0</td>\n",
              "      <td>0</td>\n",
              "      <td>0</td>\n",
              "      <td>0</td>\n",
              "      <td>0</td>\n",
              "      <td>0</td>\n",
              "      <td>0</td>\n",
              "      <td>0</td>\n",
              "      <td>0</td>\n",
              "      <td>0</td>\n",
              "      <td>0</td>\n",
              "      <td>0</td>\n",
              "      <td>5</td>\n",
              "      <td>25</td>\n",
              "      <td>7.344602</td>\n",
              "    </tr>\n",
              "  </tbody>\n",
              "</table>\n",
              "</div>"
            ],
            "text/plain": [
              "         Sales  Q1  Q1  Q1  Q1  Q1  Q1  ...  Q4  Q4  Q4  Q4  t  t_sq  log_Sales\n",
              "0  1734.827000   1   0   0   0   0   0  ...   0   0   0   0  1     1   7.458663\n",
              "1  2244.960999   0   0   0   0   0   0  ...   0   0   0   0  2     4   7.716443\n",
              "2  2533.804993   0   0   0   0   0   0  ...   0   0   0   0  3     9   7.837477\n",
              "3  2154.962997   0   0   0   0   0   0  ...   0   0   0   0  4    16   7.675529\n",
              "4  1547.818996   0   1   0   0   0   0  ...   0   0   0   0  5    25   7.344602\n",
              "\n",
              "[5 rows x 46 columns]"
            ]
          },
          "metadata": {},
          "execution_count": 37
        }
      ]
    },
    {
      "cell_type": "code",
      "metadata": {
        "id": "B19uTs-6KAWW"
      },
      "source": [
        "train1, test1 = np.split(df2, [int(.67 *len(df2))])"
      ],
      "execution_count": 38,
      "outputs": []
    },
    {
      "cell_type": "code",
      "metadata": {
        "colab": {
          "base_uri": "https://localhost:8080/"
        },
        "id": "SQzV8RDiKFtQ",
        "outputId": "d7f1a720-b745-462a-c6f3-ca4b752a3776"
      },
      "source": [
        "linear= smf.ols('Sales ~ t',data=train1).fit()\n",
        "predlin=pd.Series(linear.predict(pd.DataFrame(test1['t'])))\n",
        "rmselin=np.sqrt((np.mean(np.array(test1['Sales'])-np.array(predlin))**2))\n",
        "rmselin\n"
      ],
      "execution_count": 39,
      "outputs": [
        {
          "output_type": "execute_result",
          "data": {
            "text/plain": [
              "580.1224130918632"
            ]
          },
          "metadata": {},
          "execution_count": 39
        }
      ]
    },
    {
      "cell_type": "code",
      "metadata": {
        "colab": {
          "base_uri": "https://localhost:8080/"
        },
        "id": "4LW9wb5iKMIJ",
        "outputId": "d8037489-2f16-4df9-8bea-441120c8e096"
      },
      "source": [
        "quad=smf.ols('Sales~t+t_sq',data=train1).fit()\n",
        "predquad=pd.Series(quad.predict(pd.DataFrame(test1[['t','t_sq']])))\n",
        "rmsequad=np.sqrt(np.mean((np.array(test1['Sales'])-np.array(predquad))**2))\n",
        "rmsequad\n"
      ],
      "execution_count": 40,
      "outputs": [
        {
          "output_type": "execute_result",
          "data": {
            "text/plain": [
              "783.729797503746"
            ]
          },
          "metadata": {},
          "execution_count": 40
        }
      ]
    },
    {
      "cell_type": "code",
      "metadata": {
        "colab": {
          "base_uri": "https://localhost:8080/"
        },
        "id": "nYWbifjfKOCz",
        "outputId": "fff0efb0-ecfa-41a7-a316-8e547acee7a8"
      },
      "source": [
        "expo=smf.ols('log_Sales~t',data=train1).fit()\n",
        "predexp=pd.Series(expo.predict(pd.DataFrame(test1['t'])))\n",
        "rmseexpo=np.sqrt(np.mean((np.array(test1['Sales'])-np.array(np.exp(predexp)))**2))\n",
        "rmseexpo"
      ],
      "execution_count": 41,
      "outputs": [
        {
          "output_type": "execute_result",
          "data": {
            "text/plain": [
              "588.1405104900199"
            ]
          },
          "metadata": {},
          "execution_count": 41
        }
      ]
    },
    {
      "cell_type": "code",
      "metadata": {
        "colab": {
          "base_uri": "https://localhost:8080/"
        },
        "id": "Rk-NSK6nKVH-",
        "outputId": "58375eec-a613-426a-cba0-23affe6e164a"
      },
      "source": [
        "additive= smf.ols('Sales~ Q1+Q2+Q3+Q4',data=train1).fit()\n",
        "predadd=pd.Series(additive.predict(pd.DataFrame(test1[['Q1','Q2','Q3','Q4']])))\n",
        "rmseadd=np.sqrt(np.mean((np.array(test1['Sales'])-np.array(predadd))**2))\n",
        "rmseadd"
      ],
      "execution_count": 42,
      "outputs": [
        {
          "output_type": "execute_result",
          "data": {
            "text/plain": [
              "1869.7188209186959"
            ]
          },
          "metadata": {},
          "execution_count": 42
        }
      ]
    },
    {
      "cell_type": "code",
      "metadata": {
        "colab": {
          "base_uri": "https://localhost:8080/"
        },
        "id": "Vhe1w3QgKWw_",
        "outputId": "bd1e8399-b1c0-41d4-fe29-b2e6ca9c2591"
      },
      "source": [
        "addlinear= smf.ols('Sales~t+Q1+Q2+Q3+Q4',data=train1).fit()\n",
        "predaddlinear=pd.Series(addlinear.predict(pd.DataFrame(test1[['t','Q1','Q2','Q3','Q4']])))\n",
        "rmseaddlinear=np.sqrt(np.mean((np.array(test1['Sales'])-np.array(predaddlinear))**2))\n",
        "rmseaddlinear"
      ],
      "execution_count": 43,
      "outputs": [
        {
          "output_type": "execute_result",
          "data": {
            "text/plain": [
              "596.1526282372303"
            ]
          },
          "metadata": {},
          "execution_count": 43
        }
      ]
    },
    {
      "cell_type": "code",
      "metadata": {
        "colab": {
          "base_uri": "https://localhost:8080/"
        },
        "id": "rLryir3uKZ9V",
        "outputId": "620aecb0-afc5-41f7-8278-4841f4428c39"
      },
      "source": [
        "addquad=smf.ols('Sales~t+t_sq+Q1+Q2+Q3+Q4',data=train1).fit()\n",
        "predaddquad=pd.Series(addquad.predict(pd.DataFrame(test1[['t','t_sq','Q1','Q2','Q3','Q4']])))\n",
        "rmseaddquad=np.sqrt(np.mean((np.array(test1['Sales'])-np.array(predaddquad))**2))\n",
        "rmseaddquad"
      ],
      "execution_count": 44,
      "outputs": [
        {
          "output_type": "execute_result",
          "data": {
            "text/plain": [
              "412.11444360534546"
            ]
          },
          "metadata": {},
          "execution_count": 44
        }
      ]
    },
    {
      "cell_type": "code",
      "metadata": {
        "colab": {
          "base_uri": "https://localhost:8080/"
        },
        "id": "cmVUzB5nKc6Z",
        "outputId": "7ac9f754-672e-4266-b964-eac4eb5930a3"
      },
      "source": [
        "mulsea=smf.ols('log_Sales~Q1+Q2+Q3+Q4',data=train1).fit()\n",
        "predmul= pd.Series(mulsea.predict(pd.DataFrame(test1[['Q1','Q2','Q3','Q4']])))\n",
        "rmsemul= np.sqrt(np.mean((np.array(test1['Sales'])-np.array(np.exp(predmul)))**2))\n",
        "rmsemul"
      ],
      "execution_count": 45,
      "outputs": [
        {
          "output_type": "execute_result",
          "data": {
            "text/plain": [
              "2374.9194407954456"
            ]
          },
          "metadata": {},
          "execution_count": 45
        }
      ]
    },
    {
      "cell_type": "code",
      "metadata": {
        "colab": {
          "base_uri": "https://localhost:8080/"
        },
        "id": "74QufTYlKgU_",
        "outputId": "fbf20c5c-fc07-40b6-b01e-9437787ac848"
      },
      "source": [
        "mullin= smf.ols('log_Sales~t+Q1+Q2+Q3+Q4',data=train1).fit()\n",
        "predmullin= pd.Series(mullin.predict(pd.DataFrame(test1[['t','Q1','Q2','Q3','Q4']])))\n",
        "rmsemulin=np.sqrt(np.mean((np.array(test1['Sales'])-np.array(np.exp(predmullin)))**2))\n",
        "rmsemulin"
      ],
      "execution_count": 46,
      "outputs": [
        {
          "output_type": "execute_result",
          "data": {
            "text/plain": [
              "5359.687911933206"
            ]
          },
          "metadata": {},
          "execution_count": 46
        }
      ]
    },
    {
      "cell_type": "code",
      "metadata": {
        "colab": {
          "base_uri": "https://localhost:8080/"
        },
        "id": "RjpV09n8Kj1g",
        "outputId": "450df88c-287e-4d1b-dde6-26e7074887c5"
      },
      "source": [
        "mul_quad= smf.ols('log_Sales~t+t_sq+Q1+Q2+Q3+Q4',data=train1).fit()\n",
        "pred_mul_quad= pd.Series(mul_quad.predict(test1[['t','t_sq','Q1','Q2','Q3','Q4']]))\n",
        "rmse_mul_quad=np.sqrt(np.mean((np.array(test1['Sales'])-np.array(np.exp(pred_mul_quad)))**2))\n",
        "rmse_mul_quad"
      ],
      "execution_count": 47,
      "outputs": [
        {
          "output_type": "execute_result",
          "data": {
            "text/plain": [
              "3630.561946734645"
            ]
          },
          "metadata": {},
          "execution_count": 47
        }
      ]
    },
    {
      "cell_type": "markdown",
      "metadata": {
        "id": "uxS79v4XKqTv"
      },
      "source": [
        "5 - Conclusion"
      ]
    },
    {
      "cell_type": "code",
      "metadata": {
        "id": "n8Qfb-feKsav"
      },
      "source": [
        "output = {'Model':pd.Series(['rmse_mul_quad','rmseadd','rmseaddlinear','rmseaddquad','rmseexpo','rmselin','rmsemul','rmsemulin','rmsequad']),\n",
        "          'Values':pd.Series([rmse_mul_quad,rmseadd,rmseaddlinear,rmseaddquad,rmseexpo,rmselin,rmsemul,rmsemulin,rmsequad])}"
      ],
      "execution_count": 48,
      "outputs": []
    },
    {
      "cell_type": "code",
      "metadata": {
        "id": "jeHC0dNeKv_Z"
      },
      "source": [
        "rmse=pd.DataFrame(output)"
      ],
      "execution_count": 49,
      "outputs": []
    },
    {
      "cell_type": "code",
      "metadata": {
        "colab": {
          "base_uri": "https://localhost:8080/"
        },
        "id": "JxVMVYobK1j-",
        "outputId": "08a2f1a4-49b6-4ffc-b055-a88f0ea1b486"
      },
      "source": [
        "print(rmse)"
      ],
      "execution_count": 50,
      "outputs": [
        {
          "output_type": "stream",
          "text": [
            "           Model       Values\n",
            "0  rmse_mul_quad  3630.561947\n",
            "1        rmseadd  1869.718821\n",
            "2  rmseaddlinear   596.152628\n",
            "3    rmseaddquad   412.114444\n",
            "4       rmseexpo   588.140510\n",
            "5        rmselin   580.122413\n",
            "6        rmsemul  2374.919441\n",
            "7      rmsemulin  5359.687912\n",
            "8       rmsequad   783.729798\n"
          ],
          "name": "stdout"
        }
      ]
    },
    {
      "cell_type": "markdown",
      "metadata": {
        "id": "7ORu5QqLK74_"
      },
      "source": [
        "Additive seasonality with quadratic trend has the best RMSE value"
      ]
    }
  ]
}