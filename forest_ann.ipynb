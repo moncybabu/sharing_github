{
  "nbformat": 4,
  "nbformat_minor": 0,
  "metadata": {
    "colab": {
      "name": "forest ann",
      "provenance": [],
      "collapsed_sections": []
    },
    "kernelspec": {
      "name": "python3",
      "display_name": "Python 3"
    },
    "language_info": {
      "name": "python"
    }
  },
  "cells": [
    {
      "cell_type": "code",
      "metadata": {
        "id": "eD9FbAn-vNdO"
      },
      "source": [
        "# Create your first MLP in Keras\n",
        "from tensorflow import keras\n",
        "from keras.models import Sequential\n",
        "from keras.layers import Dense\n",
        "import numpy\n",
        "from pandas import read_csv\n",
        "import pandas as pd\n",
        "import numpy as np\n"
      ],
      "execution_count": null,
      "outputs": []
    },
    {
      "cell_type": "code",
      "metadata": {
        "id": "QN_7yNx5xcbg"
      },
      "source": [
        "\n",
        "# import some data to play with\n",
        "forest = pd.read_csv('/content/forestfires.csv')"
      ],
      "execution_count": null,
      "outputs": []
    },
    {
      "cell_type": "code",
      "metadata": {
        "colab": {
          "base_uri": "https://localhost:8080/",
          "height": 224
        },
        "id": "ZjYa0dwzxuhf",
        "outputId": "c7dcce99-1f1c-4119-a261-d271963e48c6"
      },
      "source": [
        "forest.head()"
      ],
      "execution_count": null,
      "outputs": [
        {
          "output_type": "execute_result",
          "data": {
            "text/html": [
              "<div>\n",
              "<style scoped>\n",
              "    .dataframe tbody tr th:only-of-type {\n",
              "        vertical-align: middle;\n",
              "    }\n",
              "\n",
              "    .dataframe tbody tr th {\n",
              "        vertical-align: top;\n",
              "    }\n",
              "\n",
              "    .dataframe thead th {\n",
              "        text-align: right;\n",
              "    }\n",
              "</style>\n",
              "<table border=\"1\" class=\"dataframe\">\n",
              "  <thead>\n",
              "    <tr style=\"text-align: right;\">\n",
              "      <th></th>\n",
              "      <th>month</th>\n",
              "      <th>day</th>\n",
              "      <th>FFMC</th>\n",
              "      <th>DMC</th>\n",
              "      <th>DC</th>\n",
              "      <th>ISI</th>\n",
              "      <th>temp</th>\n",
              "      <th>RH</th>\n",
              "      <th>wind</th>\n",
              "      <th>rain</th>\n",
              "      <th>area</th>\n",
              "      <th>dayfri</th>\n",
              "      <th>daymon</th>\n",
              "      <th>daysat</th>\n",
              "      <th>daysun</th>\n",
              "      <th>daythu</th>\n",
              "      <th>daytue</th>\n",
              "      <th>daywed</th>\n",
              "      <th>monthapr</th>\n",
              "      <th>monthaug</th>\n",
              "      <th>monthdec</th>\n",
              "      <th>monthfeb</th>\n",
              "      <th>monthjan</th>\n",
              "      <th>monthjul</th>\n",
              "      <th>monthjun</th>\n",
              "      <th>monthmar</th>\n",
              "      <th>monthmay</th>\n",
              "      <th>monthnov</th>\n",
              "      <th>monthoct</th>\n",
              "      <th>monthsep</th>\n",
              "      <th>size_category</th>\n",
              "    </tr>\n",
              "  </thead>\n",
              "  <tbody>\n",
              "    <tr>\n",
              "      <th>0</th>\n",
              "      <td>mar</td>\n",
              "      <td>fri</td>\n",
              "      <td>86.2</td>\n",
              "      <td>26.2</td>\n",
              "      <td>94.3</td>\n",
              "      <td>5.1</td>\n",
              "      <td>8.2</td>\n",
              "      <td>51</td>\n",
              "      <td>6.7</td>\n",
              "      <td>0.0</td>\n",
              "      <td>0.0</td>\n",
              "      <td>1</td>\n",
              "      <td>0</td>\n",
              "      <td>0</td>\n",
              "      <td>0</td>\n",
              "      <td>0</td>\n",
              "      <td>0</td>\n",
              "      <td>0</td>\n",
              "      <td>0</td>\n",
              "      <td>0</td>\n",
              "      <td>0</td>\n",
              "      <td>0</td>\n",
              "      <td>0</td>\n",
              "      <td>0</td>\n",
              "      <td>0</td>\n",
              "      <td>1</td>\n",
              "      <td>0</td>\n",
              "      <td>0</td>\n",
              "      <td>0</td>\n",
              "      <td>0</td>\n",
              "      <td>small</td>\n",
              "    </tr>\n",
              "    <tr>\n",
              "      <th>1</th>\n",
              "      <td>oct</td>\n",
              "      <td>tue</td>\n",
              "      <td>90.6</td>\n",
              "      <td>35.4</td>\n",
              "      <td>669.1</td>\n",
              "      <td>6.7</td>\n",
              "      <td>18.0</td>\n",
              "      <td>33</td>\n",
              "      <td>0.9</td>\n",
              "      <td>0.0</td>\n",
              "      <td>0.0</td>\n",
              "      <td>0</td>\n",
              "      <td>0</td>\n",
              "      <td>0</td>\n",
              "      <td>0</td>\n",
              "      <td>0</td>\n",
              "      <td>1</td>\n",
              "      <td>0</td>\n",
              "      <td>0</td>\n",
              "      <td>0</td>\n",
              "      <td>0</td>\n",
              "      <td>0</td>\n",
              "      <td>0</td>\n",
              "      <td>0</td>\n",
              "      <td>0</td>\n",
              "      <td>0</td>\n",
              "      <td>0</td>\n",
              "      <td>0</td>\n",
              "      <td>1</td>\n",
              "      <td>0</td>\n",
              "      <td>small</td>\n",
              "    </tr>\n",
              "    <tr>\n",
              "      <th>2</th>\n",
              "      <td>oct</td>\n",
              "      <td>sat</td>\n",
              "      <td>90.6</td>\n",
              "      <td>43.7</td>\n",
              "      <td>686.9</td>\n",
              "      <td>6.7</td>\n",
              "      <td>14.6</td>\n",
              "      <td>33</td>\n",
              "      <td>1.3</td>\n",
              "      <td>0.0</td>\n",
              "      <td>0.0</td>\n",
              "      <td>0</td>\n",
              "      <td>0</td>\n",
              "      <td>1</td>\n",
              "      <td>0</td>\n",
              "      <td>0</td>\n",
              "      <td>0</td>\n",
              "      <td>0</td>\n",
              "      <td>0</td>\n",
              "      <td>0</td>\n",
              "      <td>0</td>\n",
              "      <td>0</td>\n",
              "      <td>0</td>\n",
              "      <td>0</td>\n",
              "      <td>0</td>\n",
              "      <td>0</td>\n",
              "      <td>0</td>\n",
              "      <td>0</td>\n",
              "      <td>1</td>\n",
              "      <td>0</td>\n",
              "      <td>small</td>\n",
              "    </tr>\n",
              "    <tr>\n",
              "      <th>3</th>\n",
              "      <td>mar</td>\n",
              "      <td>fri</td>\n",
              "      <td>91.7</td>\n",
              "      <td>33.3</td>\n",
              "      <td>77.5</td>\n",
              "      <td>9.0</td>\n",
              "      <td>8.3</td>\n",
              "      <td>97</td>\n",
              "      <td>4.0</td>\n",
              "      <td>0.2</td>\n",
              "      <td>0.0</td>\n",
              "      <td>1</td>\n",
              "      <td>0</td>\n",
              "      <td>0</td>\n",
              "      <td>0</td>\n",
              "      <td>0</td>\n",
              "      <td>0</td>\n",
              "      <td>0</td>\n",
              "      <td>0</td>\n",
              "      <td>0</td>\n",
              "      <td>0</td>\n",
              "      <td>0</td>\n",
              "      <td>0</td>\n",
              "      <td>0</td>\n",
              "      <td>0</td>\n",
              "      <td>1</td>\n",
              "      <td>0</td>\n",
              "      <td>0</td>\n",
              "      <td>0</td>\n",
              "      <td>0</td>\n",
              "      <td>small</td>\n",
              "    </tr>\n",
              "    <tr>\n",
              "      <th>4</th>\n",
              "      <td>mar</td>\n",
              "      <td>sun</td>\n",
              "      <td>89.3</td>\n",
              "      <td>51.3</td>\n",
              "      <td>102.2</td>\n",
              "      <td>9.6</td>\n",
              "      <td>11.4</td>\n",
              "      <td>99</td>\n",
              "      <td>1.8</td>\n",
              "      <td>0.0</td>\n",
              "      <td>0.0</td>\n",
              "      <td>0</td>\n",
              "      <td>0</td>\n",
              "      <td>0</td>\n",
              "      <td>1</td>\n",
              "      <td>0</td>\n",
              "      <td>0</td>\n",
              "      <td>0</td>\n",
              "      <td>0</td>\n",
              "      <td>0</td>\n",
              "      <td>0</td>\n",
              "      <td>0</td>\n",
              "      <td>0</td>\n",
              "      <td>0</td>\n",
              "      <td>0</td>\n",
              "      <td>1</td>\n",
              "      <td>0</td>\n",
              "      <td>0</td>\n",
              "      <td>0</td>\n",
              "      <td>0</td>\n",
              "      <td>small</td>\n",
              "    </tr>\n",
              "  </tbody>\n",
              "</table>\n",
              "</div>"
            ],
            "text/plain": [
              "  month  day  FFMC   DMC  ...  monthnov  monthoct  monthsep  size_category\n",
              "0   mar  fri  86.2  26.2  ...         0         0         0          small\n",
              "1   oct  tue  90.6  35.4  ...         0         1         0          small\n",
              "2   oct  sat  90.6  43.7  ...         0         1         0          small\n",
              "3   mar  fri  91.7  33.3  ...         0         0         0          small\n",
              "4   mar  sun  89.3  51.3  ...         0         0         0          small\n",
              "\n",
              "[5 rows x 31 columns]"
            ]
          },
          "metadata": {
            "tags": []
          },
          "execution_count": 4
        }
      ]
    },
    {
      "cell_type": "code",
      "metadata": {
        "id": "nJ7Fz_nByAIw"
      },
      "source": [
        "# Import label encoder\n",
        "from sklearn import preprocessing\n",
        "# label_encoder object knows how to understand word labels.\n",
        "label_encoder = preprocessing.LabelEncoder()\n",
        "  \n",
        "# Encode labels in column 'species'.\n",
        "forest['size_category']= label_encoder.fit_transform(forest['size_category'])"
      ],
      "execution_count": null,
      "outputs": []
    },
    {
      "cell_type": "code",
      "metadata": {
        "id": "FcoBkaOzyFhr"
      },
      "source": [
        "# fix random seed for reproducibility\n",
        "seed = 7\n",
        "numpy.random.seed(seed)\n",
        "X = forest.iloc[:,2:29]\n",
        "Y = forest.iloc[:,30]\n",
        "x = numpy.array(X)\n",
        "y = numpy.array(Y)"
      ],
      "execution_count": null,
      "outputs": []
    },
    {
      "cell_type": "code",
      "metadata": {
        "id": "uSh-2D4ayicU"
      },
      "source": [
        " #create model\n",
        "model = Sequential()\n",
        "model.add(Dense(12, input_dim=27, kernel_initializer='uniform', activation='relu'))\n",
        "model.add(Dense(8, kernel_initializer='uniform', activation='relu'))\n",
        "model.add(Dense(1, kernel_initializer='uniform', activation='sigmoid'))"
      ],
      "execution_count": null,
      "outputs": []
    },
    {
      "cell_type": "code",
      "metadata": {
        "id": "kBHiwuAWymv0"
      },
      "source": [
        "# Compile model\n",
        "model.compile(loss='binary_crossentropy', optimizer='adam', metrics=['accuracy'])"
      ],
      "execution_count": null,
      "outputs": []
    },
    {
      "cell_type": "code",
      "metadata": {
        "colab": {
          "base_uri": "https://localhost:8080/"
        },
        "id": "R2_ZYDKb5qkC",
        "outputId": "5e261f39-12bb-47df-85d1-eb730c3d1356"
      },
      "source": [
        "#Fit the model\n",
        "history=model.fit(x, y, validation_split=0.33, epochs=150, batch_size=10)"
      ],
      "execution_count": null,
      "outputs": [
        {
          "output_type": "stream",
          "text": [
            "Epoch 1/150\n",
            "35/35 [==============================] - 15s 21ms/step - loss: 0.6237 - accuracy: 0.7567 - val_loss: 0.6742 - val_accuracy: 0.6784\n",
            "Epoch 2/150\n",
            "35/35 [==============================] - 0s 3ms/step - loss: 0.5761 - accuracy: 0.7363 - val_loss: 0.6472 - val_accuracy: 0.6784\n",
            "Epoch 3/150\n",
            "35/35 [==============================] - 0s 2ms/step - loss: 0.5961 - accuracy: 0.7142 - val_loss: 0.6776 - val_accuracy: 0.6784\n",
            "Epoch 4/150\n",
            "35/35 [==============================] - 0s 3ms/step - loss: 0.5329 - accuracy: 0.7570 - val_loss: 0.6181 - val_accuracy: 0.6784\n",
            "Epoch 5/150\n",
            "35/35 [==============================] - 0s 2ms/step - loss: 0.4978 - accuracy: 0.7492 - val_loss: 0.5594 - val_accuracy: 0.6784\n",
            "Epoch 6/150\n",
            "35/35 [==============================] - 0s 2ms/step - loss: 0.4857 - accuracy: 0.7332 - val_loss: 0.5239 - val_accuracy: 0.6784\n",
            "Epoch 7/150\n",
            "35/35 [==============================] - 0s 2ms/step - loss: 0.4419 - accuracy: 0.7344 - val_loss: 0.4846 - val_accuracy: 0.6784\n",
            "Epoch 8/150\n",
            "35/35 [==============================] - 0s 2ms/step - loss: 0.4047 - accuracy: 0.7425 - val_loss: 0.6121 - val_accuracy: 0.6784\n",
            "Epoch 9/150\n",
            "35/35 [==============================] - 0s 2ms/step - loss: 0.4142 - accuracy: 0.7731 - val_loss: 0.4688 - val_accuracy: 0.8070\n",
            "Epoch 10/150\n",
            "35/35 [==============================] - 0s 3ms/step - loss: 0.3806 - accuracy: 0.8583 - val_loss: 0.4145 - val_accuracy: 0.8129\n",
            "Epoch 11/150\n",
            "35/35 [==============================] - 0s 2ms/step - loss: 0.3465 - accuracy: 0.8573 - val_loss: 0.4205 - val_accuracy: 0.8129\n",
            "Epoch 12/150\n",
            "35/35 [==============================] - 0s 2ms/step - loss: 0.3342 - accuracy: 0.8848 - val_loss: 0.3811 - val_accuracy: 0.9006\n",
            "Epoch 13/150\n",
            "35/35 [==============================] - 0s 3ms/step - loss: 0.3168 - accuracy: 0.8993 - val_loss: 0.3893 - val_accuracy: 0.8421\n",
            "Epoch 14/150\n",
            "35/35 [==============================] - 0s 2ms/step - loss: 0.2769 - accuracy: 0.9048 - val_loss: 0.3486 - val_accuracy: 0.9298\n",
            "Epoch 15/150\n",
            "35/35 [==============================] - 0s 2ms/step - loss: 0.2474 - accuracy: 0.9450 - val_loss: 0.3174 - val_accuracy: 0.8772\n",
            "Epoch 16/150\n",
            "35/35 [==============================] - 0s 2ms/step - loss: 0.2164 - accuracy: 0.9393 - val_loss: 0.2997 - val_accuracy: 0.9298\n",
            "Epoch 17/150\n",
            "35/35 [==============================] - 0s 2ms/step - loss: 0.2195 - accuracy: 0.9639 - val_loss: 0.3124 - val_accuracy: 0.9532\n",
            "Epoch 18/150\n",
            "35/35 [==============================] - 0s 2ms/step - loss: 0.2184 - accuracy: 0.9593 - val_loss: 0.2760 - val_accuracy: 0.9298\n",
            "Epoch 19/150\n",
            "35/35 [==============================] - 0s 3ms/step - loss: 0.1947 - accuracy: 0.9590 - val_loss: 0.2688 - val_accuracy: 0.9123\n",
            "Epoch 20/150\n",
            "35/35 [==============================] - 0s 2ms/step - loss: 0.1912 - accuracy: 0.9629 - val_loss: 0.2954 - val_accuracy: 0.8947\n",
            "Epoch 21/150\n",
            "35/35 [==============================] - 0s 3ms/step - loss: 0.1887 - accuracy: 0.9743 - val_loss: 0.2652 - val_accuracy: 0.9123\n",
            "Epoch 22/150\n",
            "35/35 [==============================] - 0s 3ms/step - loss: 0.1669 - accuracy: 0.9678 - val_loss: 0.2454 - val_accuracy: 0.9591\n",
            "Epoch 23/150\n",
            "35/35 [==============================] - 0s 3ms/step - loss: 0.1647 - accuracy: 0.9697 - val_loss: 0.2389 - val_accuracy: 0.9415\n",
            "Epoch 24/150\n",
            "35/35 [==============================] - 0s 3ms/step - loss: 0.1637 - accuracy: 0.9606 - val_loss: 0.2760 - val_accuracy: 0.9591\n",
            "Epoch 25/150\n",
            "35/35 [==============================] - 0s 2ms/step - loss: 0.1975 - accuracy: 0.9783 - val_loss: 0.2571 - val_accuracy: 0.9181\n",
            "Epoch 26/150\n",
            "35/35 [==============================] - 0s 2ms/step - loss: 0.1521 - accuracy: 0.9935 - val_loss: 0.2249 - val_accuracy: 0.9532\n",
            "Epoch 27/150\n",
            "35/35 [==============================] - 0s 2ms/step - loss: 0.1647 - accuracy: 0.9635 - val_loss: 0.2166 - val_accuracy: 0.9766\n",
            "Epoch 28/150\n",
            "35/35 [==============================] - 0s 2ms/step - loss: 0.1666 - accuracy: 0.9795 - val_loss: 0.2417 - val_accuracy: 0.9123\n",
            "Epoch 29/150\n",
            "35/35 [==============================] - 0s 2ms/step - loss: 0.1492 - accuracy: 0.9759 - val_loss: 0.2097 - val_accuracy: 0.9591\n",
            "Epoch 30/150\n",
            "35/35 [==============================] - 0s 2ms/step - loss: 0.1473 - accuracy: 0.9753 - val_loss: 0.2257 - val_accuracy: 0.9298\n",
            "Epoch 31/150\n",
            "35/35 [==============================] - 0s 2ms/step - loss: 0.1452 - accuracy: 0.9755 - val_loss: 0.2054 - val_accuracy: 0.9766\n",
            "Epoch 32/150\n",
            "35/35 [==============================] - 0s 2ms/step - loss: 0.1382 - accuracy: 0.9840 - val_loss: 0.1959 - val_accuracy: 0.9766\n",
            "Epoch 33/150\n",
            "35/35 [==============================] - 0s 2ms/step - loss: 0.1486 - accuracy: 0.9840 - val_loss: 0.1914 - val_accuracy: 0.9766\n",
            "Epoch 34/150\n",
            "35/35 [==============================] - 0s 2ms/step - loss: 0.1441 - accuracy: 0.9724 - val_loss: 0.2990 - val_accuracy: 0.9298\n",
            "Epoch 35/150\n",
            "35/35 [==============================] - 0s 3ms/step - loss: 0.1616 - accuracy: 0.9705 - val_loss: 0.2441 - val_accuracy: 0.9123\n",
            "Epoch 36/150\n",
            "35/35 [==============================] - 0s 3ms/step - loss: 0.1654 - accuracy: 0.9702 - val_loss: 0.2036 - val_accuracy: 0.9532\n",
            "Epoch 37/150\n",
            "35/35 [==============================] - 0s 2ms/step - loss: 0.1054 - accuracy: 0.9911 - val_loss: 0.1832 - val_accuracy: 0.9825\n",
            "Epoch 38/150\n",
            "35/35 [==============================] - 0s 2ms/step - loss: 0.1278 - accuracy: 0.9885 - val_loss: 0.1799 - val_accuracy: 0.9825\n",
            "Epoch 39/150\n",
            "35/35 [==============================] - 0s 2ms/step - loss: 0.1099 - accuracy: 0.9890 - val_loss: 0.1832 - val_accuracy: 0.9708\n",
            "Epoch 40/150\n",
            "35/35 [==============================] - 0s 2ms/step - loss: 0.1368 - accuracy: 0.9794 - val_loss: 0.1934 - val_accuracy: 0.9591\n",
            "Epoch 41/150\n",
            "35/35 [==============================] - 0s 2ms/step - loss: 0.1162 - accuracy: 0.9834 - val_loss: 0.1950 - val_accuracy: 0.9708\n",
            "Epoch 42/150\n",
            "35/35 [==============================] - 0s 2ms/step - loss: 0.1002 - accuracy: 0.9881 - val_loss: 0.1689 - val_accuracy: 0.9766\n",
            "Epoch 43/150\n",
            "35/35 [==============================] - 0s 2ms/step - loss: 0.1086 - accuracy: 0.9899 - val_loss: 0.1650 - val_accuracy: 0.9825\n",
            "Epoch 44/150\n",
            "35/35 [==============================] - 0s 2ms/step - loss: 0.1131 - accuracy: 0.9871 - val_loss: 0.2000 - val_accuracy: 0.9708\n",
            "Epoch 45/150\n",
            "35/35 [==============================] - 0s 2ms/step - loss: 0.1209 - accuracy: 0.9816 - val_loss: 0.1621 - val_accuracy: 0.9649\n",
            "Epoch 46/150\n",
            "35/35 [==============================] - 0s 3ms/step - loss: 0.1066 - accuracy: 0.9904 - val_loss: 0.1727 - val_accuracy: 0.9708\n",
            "Epoch 47/150\n",
            "35/35 [==============================] - 0s 2ms/step - loss: 0.1246 - accuracy: 0.9835 - val_loss: 0.1586 - val_accuracy: 0.9825\n",
            "Epoch 48/150\n",
            "35/35 [==============================] - 0s 2ms/step - loss: 0.1077 - accuracy: 0.9924 - val_loss: 0.1600 - val_accuracy: 0.9649\n",
            "Epoch 49/150\n",
            "35/35 [==============================] - 0s 2ms/step - loss: 0.1056 - accuracy: 0.9947 - val_loss: 0.1571 - val_accuracy: 0.9766\n",
            "Epoch 50/150\n",
            "35/35 [==============================] - 0s 3ms/step - loss: 0.0901 - accuracy: 0.9946 - val_loss: 0.1602 - val_accuracy: 0.9649\n",
            "Epoch 51/150\n",
            "35/35 [==============================] - 0s 3ms/step - loss: 0.1035 - accuracy: 0.9908 - val_loss: 0.1518 - val_accuracy: 0.9825\n",
            "Epoch 52/150\n",
            "35/35 [==============================] - 0s 2ms/step - loss: 0.0901 - accuracy: 0.9869 - val_loss: 0.1675 - val_accuracy: 0.9532\n",
            "Epoch 53/150\n",
            "35/35 [==============================] - 0s 2ms/step - loss: 0.1017 - accuracy: 0.9860 - val_loss: 0.1461 - val_accuracy: 0.9825\n",
            "Epoch 54/150\n",
            "35/35 [==============================] - 0s 2ms/step - loss: 0.1032 - accuracy: 0.9861 - val_loss: 0.1675 - val_accuracy: 0.9649\n",
            "Epoch 55/150\n",
            "35/35 [==============================] - 0s 2ms/step - loss: 0.1200 - accuracy: 0.9639 - val_loss: 0.1534 - val_accuracy: 0.9708\n",
            "Epoch 56/150\n",
            "35/35 [==============================] - 0s 2ms/step - loss: 0.0888 - accuracy: 0.9918 - val_loss: 0.1408 - val_accuracy: 0.9825\n",
            "Epoch 57/150\n",
            "35/35 [==============================] - 0s 3ms/step - loss: 0.0866 - accuracy: 0.9914 - val_loss: 0.1598 - val_accuracy: 0.9591\n",
            "Epoch 58/150\n",
            "35/35 [==============================] - 0s 3ms/step - loss: 0.1020 - accuracy: 0.9824 - val_loss: 0.1878 - val_accuracy: 0.9474\n",
            "Epoch 59/150\n",
            "35/35 [==============================] - 0s 2ms/step - loss: 0.0798 - accuracy: 0.9956 - val_loss: 0.2163 - val_accuracy: 0.9415\n",
            "Epoch 60/150\n",
            "35/35 [==============================] - 0s 2ms/step - loss: 0.1089 - accuracy: 0.9713 - val_loss: 0.1335 - val_accuracy: 0.9766\n",
            "Epoch 61/150\n",
            "35/35 [==============================] - 0s 2ms/step - loss: 0.0845 - accuracy: 0.9880 - val_loss: 0.1359 - val_accuracy: 0.9591\n",
            "Epoch 62/150\n",
            "35/35 [==============================] - 0s 2ms/step - loss: 0.0761 - accuracy: 0.9982 - val_loss: 0.2737 - val_accuracy: 0.9123\n",
            "Epoch 63/150\n",
            "35/35 [==============================] - 0s 2ms/step - loss: 0.0906 - accuracy: 0.9884 - val_loss: 0.1357 - val_accuracy: 0.9825\n",
            "Epoch 64/150\n",
            "35/35 [==============================] - 0s 2ms/step - loss: 0.0661 - accuracy: 0.9955 - val_loss: 0.1347 - val_accuracy: 0.9825\n",
            "Epoch 65/150\n",
            "35/35 [==============================] - 0s 2ms/step - loss: 0.0597 - accuracy: 0.9992 - val_loss: 0.2208 - val_accuracy: 0.9181\n",
            "Epoch 66/150\n",
            "35/35 [==============================] - 0s 2ms/step - loss: 0.0957 - accuracy: 0.9870 - val_loss: 0.1571 - val_accuracy: 0.9532\n",
            "Epoch 67/150\n",
            "35/35 [==============================] - 0s 2ms/step - loss: 0.0780 - accuracy: 0.9904 - val_loss: 0.1575 - val_accuracy: 0.9708\n",
            "Epoch 68/150\n",
            "35/35 [==============================] - 0s 3ms/step - loss: 0.0887 - accuracy: 0.9869 - val_loss: 0.1450 - val_accuracy: 0.9591\n",
            "Epoch 69/150\n",
            "35/35 [==============================] - 0s 2ms/step - loss: 0.1155 - accuracy: 0.9832 - val_loss: 0.5405 - val_accuracy: 0.7135\n",
            "Epoch 70/150\n",
            "35/35 [==============================] - 0s 2ms/step - loss: 0.1381 - accuracy: 0.9499 - val_loss: 0.2524 - val_accuracy: 0.9240\n",
            "Epoch 71/150\n",
            "35/35 [==============================] - 0s 2ms/step - loss: 0.1267 - accuracy: 0.9617 - val_loss: 0.1453 - val_accuracy: 0.9649\n",
            "Epoch 72/150\n",
            "35/35 [==============================] - 0s 3ms/step - loss: 0.1067 - accuracy: 0.9652 - val_loss: 0.1275 - val_accuracy: 0.9532\n",
            "Epoch 73/150\n",
            "35/35 [==============================] - 0s 2ms/step - loss: 0.0811 - accuracy: 0.9847 - val_loss: 0.1346 - val_accuracy: 0.9591\n",
            "Epoch 74/150\n",
            "35/35 [==============================] - 0s 3ms/step - loss: 0.0664 - accuracy: 0.9979 - val_loss: 0.1204 - val_accuracy: 0.9766\n",
            "Epoch 75/150\n",
            "35/35 [==============================] - 0s 2ms/step - loss: 0.0726 - accuracy: 0.9935 - val_loss: 0.1201 - val_accuracy: 0.9766\n",
            "Epoch 76/150\n",
            "35/35 [==============================] - 0s 2ms/step - loss: 0.0616 - accuracy: 0.9982 - val_loss: 0.1997 - val_accuracy: 0.9474\n",
            "Epoch 77/150\n",
            "35/35 [==============================] - 0s 3ms/step - loss: 0.0998 - accuracy: 0.9545 - val_loss: 0.1222 - val_accuracy: 0.9825\n",
            "Epoch 78/150\n",
            "35/35 [==============================] - 0s 2ms/step - loss: 0.0621 - accuracy: 0.9960 - val_loss: 0.1578 - val_accuracy: 0.9591\n",
            "Epoch 79/150\n",
            "35/35 [==============================] - 0s 2ms/step - loss: 0.0991 - accuracy: 0.9664 - val_loss: 0.1221 - val_accuracy: 0.9708\n",
            "Epoch 80/150\n",
            "35/35 [==============================] - 0s 2ms/step - loss: 0.0669 - accuracy: 0.9849 - val_loss: 0.1261 - val_accuracy: 0.9532\n",
            "Epoch 81/150\n",
            "35/35 [==============================] - 0s 2ms/step - loss: 0.0675 - accuracy: 0.9915 - val_loss: 0.1505 - val_accuracy: 0.9649\n",
            "Epoch 82/150\n",
            "35/35 [==============================] - 0s 2ms/step - loss: 0.0736 - accuracy: 0.9906 - val_loss: 0.1172 - val_accuracy: 0.9708\n",
            "Epoch 83/150\n",
            "35/35 [==============================] - 0s 3ms/step - loss: 0.0562 - accuracy: 0.9975 - val_loss: 0.1197 - val_accuracy: 0.9649\n",
            "Epoch 84/150\n",
            "35/35 [==============================] - 0s 3ms/step - loss: 0.1208 - accuracy: 0.9666 - val_loss: 0.1401 - val_accuracy: 0.9591\n",
            "Epoch 85/150\n",
            "35/35 [==============================] - 0s 2ms/step - loss: 0.0533 - accuracy: 0.9951 - val_loss: 0.1915 - val_accuracy: 0.9240\n",
            "Epoch 86/150\n",
            "35/35 [==============================] - 0s 2ms/step - loss: 0.0962 - accuracy: 0.9845 - val_loss: 0.1157 - val_accuracy: 0.9591\n",
            "Epoch 87/150\n",
            "35/35 [==============================] - 0s 2ms/step - loss: 0.0501 - accuracy: 0.9977 - val_loss: 0.1110 - val_accuracy: 0.9766\n",
            "Epoch 88/150\n",
            "35/35 [==============================] - 0s 3ms/step - loss: 0.0670 - accuracy: 0.9923 - val_loss: 0.1213 - val_accuracy: 0.9825\n",
            "Epoch 89/150\n",
            "35/35 [==============================] - 0s 2ms/step - loss: 0.0640 - accuracy: 0.9925 - val_loss: 0.1305 - val_accuracy: 0.9532\n",
            "Epoch 90/150\n",
            "35/35 [==============================] - 0s 3ms/step - loss: 0.0774 - accuracy: 0.9805 - val_loss: 0.1111 - val_accuracy: 0.9708\n",
            "Epoch 91/150\n",
            "35/35 [==============================] - 0s 3ms/step - loss: 0.0699 - accuracy: 0.9740 - val_loss: 0.1403 - val_accuracy: 0.9591\n",
            "Epoch 92/150\n",
            "35/35 [==============================] - 0s 3ms/step - loss: 0.0469 - accuracy: 0.9970 - val_loss: 0.1111 - val_accuracy: 0.9708\n",
            "Epoch 93/150\n",
            "35/35 [==============================] - 0s 2ms/step - loss: 0.0473 - accuracy: 0.9925 - val_loss: 0.1102 - val_accuracy: 0.9708\n",
            "Epoch 94/150\n",
            "35/35 [==============================] - 0s 2ms/step - loss: 0.0490 - accuracy: 1.0000 - val_loss: 0.1148 - val_accuracy: 0.9532\n",
            "Epoch 95/150\n",
            "35/35 [==============================] - 0s 2ms/step - loss: 0.0447 - accuracy: 0.9992 - val_loss: 0.1239 - val_accuracy: 0.9708\n",
            "Epoch 96/150\n",
            "35/35 [==============================] - 0s 2ms/step - loss: 0.0530 - accuracy: 0.9925 - val_loss: 0.1417 - val_accuracy: 0.9591\n",
            "Epoch 97/150\n",
            "35/35 [==============================] - 0s 2ms/step - loss: 0.0587 - accuracy: 0.9896 - val_loss: 0.1503 - val_accuracy: 0.9532\n",
            "Epoch 98/150\n",
            "35/35 [==============================] - 0s 2ms/step - loss: 0.0676 - accuracy: 0.9935 - val_loss: 0.1115 - val_accuracy: 0.9708\n",
            "Epoch 99/150\n",
            "35/35 [==============================] - 0s 3ms/step - loss: 0.0805 - accuracy: 0.9802 - val_loss: 0.1185 - val_accuracy: 0.9532\n",
            "Epoch 100/150\n",
            "35/35 [==============================] - 0s 2ms/step - loss: 0.0518 - accuracy: 0.9948 - val_loss: 0.1266 - val_accuracy: 0.9591\n",
            "Epoch 101/150\n",
            "35/35 [==============================] - 0s 3ms/step - loss: 0.0496 - accuracy: 0.9946 - val_loss: 0.1179 - val_accuracy: 0.9532\n",
            "Epoch 102/150\n",
            "35/35 [==============================] - 0s 3ms/step - loss: 0.0603 - accuracy: 0.9846 - val_loss: 0.1780 - val_accuracy: 0.9532\n",
            "Epoch 103/150\n",
            "35/35 [==============================] - 0s 2ms/step - loss: 0.0771 - accuracy: 0.9839 - val_loss: 0.1223 - val_accuracy: 0.9649\n",
            "Epoch 104/150\n",
            "35/35 [==============================] - 0s 2ms/step - loss: 0.0473 - accuracy: 0.9921 - val_loss: 0.1050 - val_accuracy: 0.9708\n",
            "Epoch 105/150\n",
            "35/35 [==============================] - 0s 3ms/step - loss: 0.0448 - accuracy: 0.9963 - val_loss: 0.1108 - val_accuracy: 0.9532\n",
            "Epoch 106/150\n",
            "35/35 [==============================] - 0s 3ms/step - loss: 0.0713 - accuracy: 0.9822 - val_loss: 0.2097 - val_accuracy: 0.9181\n",
            "Epoch 107/150\n",
            "35/35 [==============================] - 0s 3ms/step - loss: 0.1053 - accuracy: 0.9554 - val_loss: 0.1141 - val_accuracy: 0.9532\n",
            "Epoch 108/150\n",
            "35/35 [==============================] - 0s 2ms/step - loss: 0.0417 - accuracy: 0.9945 - val_loss: 0.1105 - val_accuracy: 0.9532\n",
            "Epoch 109/150\n",
            "35/35 [==============================] - 0s 2ms/step - loss: 0.0418 - accuracy: 0.9984 - val_loss: 0.1010 - val_accuracy: 0.9766\n",
            "Epoch 110/150\n",
            "35/35 [==============================] - 0s 2ms/step - loss: 0.0426 - accuracy: 0.9993 - val_loss: 0.1026 - val_accuracy: 0.9825\n",
            "Epoch 111/150\n",
            "35/35 [==============================] - 0s 3ms/step - loss: 0.0576 - accuracy: 0.9803 - val_loss: 0.0962 - val_accuracy: 0.9766\n",
            "Epoch 112/150\n",
            "35/35 [==============================] - 0s 3ms/step - loss: 0.0594 - accuracy: 0.9813 - val_loss: 0.1337 - val_accuracy: 0.9591\n",
            "Epoch 113/150\n",
            "35/35 [==============================] - 0s 3ms/step - loss: 0.0537 - accuracy: 0.9902 - val_loss: 0.0998 - val_accuracy: 0.9708\n",
            "Epoch 114/150\n",
            "35/35 [==============================] - 0s 2ms/step - loss: 0.0349 - accuracy: 0.9993 - val_loss: 0.0973 - val_accuracy: 0.9708\n",
            "Epoch 115/150\n",
            "35/35 [==============================] - 0s 2ms/step - loss: 0.0398 - accuracy: 0.9935 - val_loss: 0.1118 - val_accuracy: 0.9532\n",
            "Epoch 116/150\n",
            "35/35 [==============================] - 0s 2ms/step - loss: 0.0340 - accuracy: 0.9983 - val_loss: 0.1059 - val_accuracy: 0.9532\n",
            "Epoch 117/150\n",
            "35/35 [==============================] - 0s 3ms/step - loss: 0.0864 - accuracy: 0.9735 - val_loss: 0.1182 - val_accuracy: 0.9649\n",
            "Epoch 118/150\n",
            "35/35 [==============================] - 0s 3ms/step - loss: 0.0539 - accuracy: 0.9914 - val_loss: 0.1146 - val_accuracy: 0.9708\n",
            "Epoch 119/150\n",
            "35/35 [==============================] - 0s 2ms/step - loss: 0.0494 - accuracy: 0.9902 - val_loss: 0.0949 - val_accuracy: 0.9708\n",
            "Epoch 120/150\n",
            "35/35 [==============================] - 0s 3ms/step - loss: 0.0394 - accuracy: 0.9981 - val_loss: 0.1042 - val_accuracy: 0.9825\n",
            "Epoch 121/150\n",
            "35/35 [==============================] - 0s 4ms/step - loss: 0.0429 - accuracy: 0.9959 - val_loss: 0.0995 - val_accuracy: 0.9591\n",
            "Epoch 122/150\n",
            "35/35 [==============================] - 0s 3ms/step - loss: 0.0339 - accuracy: 0.9966 - val_loss: 0.0958 - val_accuracy: 0.9766\n",
            "Epoch 123/150\n",
            "35/35 [==============================] - 0s 3ms/step - loss: 0.0393 - accuracy: 1.0000 - val_loss: 0.1039 - val_accuracy: 0.9532\n",
            "Epoch 124/150\n",
            "35/35 [==============================] - 0s 2ms/step - loss: 0.0306 - accuracy: 0.9990 - val_loss: 0.2651 - val_accuracy: 0.9357\n",
            "Epoch 125/150\n",
            "35/35 [==============================] - 0s 3ms/step - loss: 0.1327 - accuracy: 0.9450 - val_loss: 0.1062 - val_accuracy: 0.9532\n",
            "Epoch 126/150\n",
            "35/35 [==============================] - 0s 3ms/step - loss: 0.0307 - accuracy: 0.9997 - val_loss: 0.0964 - val_accuracy: 0.9766\n",
            "Epoch 127/150\n",
            "35/35 [==============================] - 0s 2ms/step - loss: 0.0560 - accuracy: 0.9796 - val_loss: 0.0993 - val_accuracy: 0.9591\n",
            "Epoch 128/150\n",
            "35/35 [==============================] - 0s 3ms/step - loss: 0.0324 - accuracy: 0.9952 - val_loss: 0.1473 - val_accuracy: 0.9532\n",
            "Epoch 129/150\n",
            "35/35 [==============================] - 0s 3ms/step - loss: 0.0495 - accuracy: 0.9909 - val_loss: 0.1362 - val_accuracy: 0.9532\n",
            "Epoch 130/150\n",
            "35/35 [==============================] - 0s 2ms/step - loss: 0.0323 - accuracy: 0.9993 - val_loss: 0.1101 - val_accuracy: 0.9766\n",
            "Epoch 131/150\n",
            "35/35 [==============================] - 0s 3ms/step - loss: 0.0376 - accuracy: 0.9926 - val_loss: 0.1235 - val_accuracy: 0.9532\n",
            "Epoch 132/150\n",
            "35/35 [==============================] - 0s 3ms/step - loss: 0.0325 - accuracy: 0.9994 - val_loss: 0.1100 - val_accuracy: 0.9532\n",
            "Epoch 133/150\n",
            "35/35 [==============================] - 0s 3ms/step - loss: 0.0294 - accuracy: 0.9985 - val_loss: 0.1244 - val_accuracy: 0.9532\n",
            "Epoch 134/150\n",
            "35/35 [==============================] - 0s 3ms/step - loss: 0.0301 - accuracy: 0.9980 - val_loss: 0.1024 - val_accuracy: 0.9708\n",
            "Epoch 135/150\n",
            "35/35 [==============================] - 0s 2ms/step - loss: 0.0368 - accuracy: 0.9933 - val_loss: 0.1096 - val_accuracy: 0.9532\n",
            "Epoch 136/150\n",
            "35/35 [==============================] - 0s 2ms/step - loss: 0.0453 - accuracy: 0.9912 - val_loss: 0.0994 - val_accuracy: 0.9708\n",
            "Epoch 137/150\n",
            "35/35 [==============================] - 0s 2ms/step - loss: 0.0342 - accuracy: 0.9903 - val_loss: 0.1058 - val_accuracy: 0.9766\n",
            "Epoch 138/150\n",
            "35/35 [==============================] - 0s 3ms/step - loss: 0.0362 - accuracy: 0.9959 - val_loss: 0.0996 - val_accuracy: 0.9708\n",
            "Epoch 139/150\n",
            "35/35 [==============================] - 0s 2ms/step - loss: 0.0341 - accuracy: 0.9909 - val_loss: 0.0958 - val_accuracy: 0.9708\n",
            "Epoch 140/150\n",
            "35/35 [==============================] - 0s 3ms/step - loss: 0.0391 - accuracy: 0.9911 - val_loss: 0.1033 - val_accuracy: 0.9532\n",
            "Epoch 141/150\n",
            "35/35 [==============================] - 0s 3ms/step - loss: 0.0310 - accuracy: 0.9966 - val_loss: 0.1637 - val_accuracy: 0.9357\n",
            "Epoch 142/150\n",
            "35/35 [==============================] - 0s 2ms/step - loss: 0.0768 - accuracy: 0.9775 - val_loss: 0.1527 - val_accuracy: 0.9474\n",
            "Epoch 143/150\n",
            "35/35 [==============================] - 0s 2ms/step - loss: 0.0338 - accuracy: 0.9898 - val_loss: 0.1103 - val_accuracy: 0.9532\n",
            "Epoch 144/150\n",
            "35/35 [==============================] - 0s 3ms/step - loss: 0.0355 - accuracy: 0.9966 - val_loss: 0.1677 - val_accuracy: 0.9357\n",
            "Epoch 145/150\n",
            "35/35 [==============================] - 0s 3ms/step - loss: 0.0449 - accuracy: 0.9889 - val_loss: 0.1356 - val_accuracy: 0.9532\n",
            "Epoch 146/150\n",
            "35/35 [==============================] - 0s 3ms/step - loss: 0.0569 - accuracy: 0.9791 - val_loss: 0.1498 - val_accuracy: 0.9532\n",
            "Epoch 147/150\n",
            "35/35 [==============================] - 0s 2ms/step - loss: 0.0541 - accuracy: 0.9896 - val_loss: 0.1138 - val_accuracy: 0.9766\n",
            "Epoch 148/150\n",
            "35/35 [==============================] - 0s 2ms/step - loss: 0.0292 - accuracy: 0.9988 - val_loss: 0.1378 - val_accuracy: 0.9474\n",
            "Epoch 149/150\n",
            "35/35 [==============================] - 0s 3ms/step - loss: 0.0363 - accuracy: 0.9869 - val_loss: 0.2765 - val_accuracy: 0.9357\n",
            "Epoch 150/150\n",
            "35/35 [==============================] - 0s 3ms/step - loss: 0.0586 - accuracy: 0.9848 - val_loss: 0.2325 - val_accuracy: 0.9474\n"
          ],
          "name": "stdout"
        }
      ]
    },
    {
      "cell_type": "code",
      "metadata": {
        "colab": {
          "base_uri": "https://localhost:8080/"
        },
        "id": "4H4BV5uU-N1e",
        "outputId": "26d7530f-0991-414e-dc1b-0a2d06dbb1b4"
      },
      "source": [
        "# evaluate the model\n",
        "scores = model.evaluate(X, Y)\n",
        "print(\"%s: %.2f%%\" % (model.metrics_names[1], scores[1]*100))"
      ],
      "execution_count": null,
      "outputs": [
        {
          "output_type": "stream",
          "text": [
            "17/17 [==============================] - 0s 2ms/step - loss: 0.1355 - accuracy: 0.9632\n",
            "accuracy: 96.32%\n"
          ],
          "name": "stdout"
        }
      ]
    },
    {
      "cell_type": "code",
      "metadata": {
        "colab": {
          "base_uri": "https://localhost:8080/"
        },
        "id": "34tQZYT3-PfP",
        "outputId": "c7fadfe2-7951-48a1-943f-b1e9a2dda8b3"
      },
      "source": [
        "# Visualize training history\n",
        "\n",
        "# list all data in history\n",
        "model.history.history.keys()\n"
      ],
      "execution_count": null,
      "outputs": [
        {
          "output_type": "execute_result",
          "data": {
            "text/plain": [
              "dict_keys([])"
            ]
          },
          "metadata": {
            "tags": []
          },
          "execution_count": 11
        }
      ]
    },
    {
      "cell_type": "code",
      "metadata": {
        "colab": {
          "base_uri": "https://localhost:8080/"
        },
        "id": "t62xWj6g_JAj",
        "outputId": "9778ca14-b860-4075-c500-dbd4cb6c4caf"
      },
      "source": [
        "model.metrics_names"
      ],
      "execution_count": null,
      "outputs": [
        {
          "output_type": "execute_result",
          "data": {
            "text/plain": [
              "['loss', 'accuracy']"
            ]
          },
          "metadata": {
            "tags": []
          },
          "execution_count": 12
        }
      ]
    },
    {
      "cell_type": "code",
      "metadata": {
        "colab": {
          "base_uri": "https://localhost:8080/",
          "height": 573
        },
        "id": "u5vkUCsT-XGN",
        "outputId": "9881fb5e-a12d-4746-eeb0-3bd1505dae65"
      },
      "source": [
        "# summarize history for accuracy\n",
        "import matplotlib.pyplot as plt\n",
        "plt.plot(history.history['accuracy'])\n",
        "plt.plot(history.history['val_accuracy'])\n",
        "plt.title('model accuracy')\n",
        "plt.ylabel('accuracy')\n",
        "plt.xlabel('epoch')\n",
        "plt.legend(['train', 'test'], loc='upper left')\n",
        "plt.show()\n",
        "# summarize history for loss\n",
        "plt.plot(history.history['loss'])\n",
        "plt.plot(history.history['val_loss'])\n",
        "plt.title('model loss')\n",
        "plt.ylabel('loss')\n",
        "plt.xlabel('epoch')\n",
        "plt.legend(['train', 'test'], loc='upper left')\n",
        "plt.show()\n"
      ],
      "execution_count": null,
      "outputs": [
        {
          "output_type": "display_data",
          "data": {
            "image/png": "[encoded data removed]",
            "text/plain": [
              "<Figure size 432x288 with 1 Axes>"
            ]
          },
          "metadata": {
            "tags": [],
            "needs_background": "light"
          }
        },
        {
          "output_type": "display_data",
          "data": {
            "image/png": "[encoded data removed]",
            "text/plain": [
              "<Figure size 432x288 with 1 Axes>"
            ]
          },
          "metadata": {
            "tags": [],
            "needs_background": "light"
          }
        }
      ]
    },
    {
      "cell_type": "markdown",
      "metadata": {
        "id": "hNnlMRoodMop"
      },
      "source": [
        "Tuning of Hyperparameters:- batch size and epochs\n",
        "\n"
      ]
    },
    {
      "cell_type": "code",
      "metadata": {
        "id": "4b59i2AUWQql"
      },
      "source": [
        "# Importing the necessary packages\n",
        "from sklearn.model_selection import GridSearchCV, KFold\n",
        "from keras.models import Sequential\n",
        "from keras.layers import Dense\n",
        "from keras.wrappers.scikit_learn import KerasClassifier\n",
        "from keras.optimizers import Adam\n",
        "from keras.layers import Dropout"
      ],
      "execution_count": null,
      "outputs": []
    },
    {
      "cell_type": "code",
      "metadata": {
        "id": "BSCaapbNrhCW"
      },
      "source": [
        "# create model\n",
        "def create_model():\n",
        "    model = Sequential()\n",
        "    model.add(Dense(12, input_dim=27, activation='relu'))\n",
        "    model.add(Dense(8,  activation='relu'))\n",
        "    model.add(Dense(1, activation='sigmoid'))\n",
        "    \n",
        "    adam=Adam(lr=0.01)\n",
        "    model.compile(loss='binary_crossentropy', optimizer=adam, metrics=['accuracy'])\n",
        "    return model"
      ],
      "execution_count": null,
      "outputs": []
    },
    {
      "cell_type": "code",
      "metadata": {
        "colab": {
          "base_uri": "https://localhost:8080/"
        },
        "id": "xrjjQhGJri6J",
        "outputId": "fe1a798c-e2fd-491d-ca9c-9c5cbe45a519"
      },
      "source": [
        "# Create the model\n",
        "model = KerasClassifier(build_fn = create_model,verbose = 0)\n",
        "# Define the grid search parameters\n",
        "batch_size = [10,20,40]\n",
        "epochs = [10,50,100]\n",
        "# Make a dictionary of the grid search parameters\n",
        "param_grid = dict(batch_size = batch_size,epochs = epochs)\n",
        "# Build and fit the GridSearchCV\n",
        "grid = GridSearchCV(estimator = model,param_grid = param_grid,cv = KFold(),verbose = 10)\n",
        "grid_result = grid.fit(x,y)"
      ],
      "execution_count": null,
      "outputs": [
        {
          "output_type": "stream",
          "text": [
            "Fitting 5 folds for each of 9 candidates, totalling 45 fits\n",
            "[CV] batch_size=10, epochs=10 ........................................\n"
          ],
          "name": "stdout"
        },
        {
          "output_type": "stream",
          "text": [
            "[Parallel(n_jobs=1)]: Using backend SequentialBackend with 1 concurrent workers.\n",
            "/usr/local/lib/python3.7/dist-packages/tensorflow/python/keras/optimizer_v2/optimizer_v2.py:375: UserWarning: The `lr` argument is deprecated, use `learning_rate` instead.\n",
            "  \"The `lr` argument is deprecated, use `learning_rate` instead.\")\n"
          ],
          "name": "stderr"
        },
        {
          "output_type": "stream",
          "text": [
            "[CV] ............ batch_size=10, epochs=10, score=1.000, total=   1.5s\n",
            "[CV] batch_size=10, epochs=10 ........................................\n"
          ],
          "name": "stdout"
        },
        {
          "output_type": "stream",
          "text": [
            "[Parallel(n_jobs=1)]: Done   1 out of   1 | elapsed:    1.5s remaining:    0.0s\n"
          ],
          "name": "stderr"
        },
        {
          "output_type": "stream",
          "text": [
            "[CV] ............ batch_size=10, epochs=10, score=0.865, total=   1.5s\n",
            "[CV] batch_size=10, epochs=10 ........................................\n"
          ],
          "name": "stdout"
        },
        {
          "output_type": "stream",
          "text": [
            "[Parallel(n_jobs=1)]: Done   2 out of   2 | elapsed:    3.0s remaining:    0.0s\n"
          ],
          "name": "stderr"
        },
        {
          "output_type": "stream",
          "text": [
            "[CV] ............ batch_size=10, epochs=10, score=0.748, total=   1.7s\n",
            "[CV] batch_size=10, epochs=10 ........................................\n"
          ],
          "name": "stdout"
        },
        {
          "output_type": "stream",
          "text": [
            "[Parallel(n_jobs=1)]: Done   3 out of   3 | elapsed:    4.7s remaining:    0.0s\n"
          ],
          "name": "stderr"
        },
        {
          "output_type": "stream",
          "text": [
            "[CV] ............ batch_size=10, epochs=10, score=0.932, total=   1.7s\n",
            "[CV] batch_size=10, epochs=10 ........................................\n"
          ],
          "name": "stdout"
        },
        {
          "output_type": "stream",
          "text": [
            "[Parallel(n_jobs=1)]: Done   4 out of   4 | elapsed:    6.4s remaining:    0.0s\n"
          ],
          "name": "stderr"
        },
        {
          "output_type": "stream",
          "text": [
            "[CV] ............ batch_size=10, epochs=10, score=0.990, total=   1.8s\n",
            "[CV] batch_size=10, epochs=50 ........................................\n"
          ],
          "name": "stdout"
        },
        {
          "output_type": "stream",
          "text": [
            "[Parallel(n_jobs=1)]: Done   5 out of   5 | elapsed:    8.2s remaining:    0.0s\n"
          ],
          "name": "stderr"
        },
        {
          "output_type": "stream",
          "text": [
            "[CV] ............ batch_size=10, epochs=50, score=1.000, total=   3.1s\n",
            "[CV] batch_size=10, epochs=50 ........................................\n"
          ],
          "name": "stdout"
        },
        {
          "output_type": "stream",
          "text": [
            "[Parallel(n_jobs=1)]: Done   6 out of   6 | elapsed:   11.3s remaining:    0.0s\n"
          ],
          "name": "stderr"
        },
        {
          "output_type": "stream",
          "text": [
            "[CV] ............ batch_size=10, epochs=50, score=0.990, total=   3.6s\n",
            "[CV] batch_size=10, epochs=50 ........................................\n"
          ],
          "name": "stdout"
        },
        {
          "output_type": "stream",
          "text": [
            "[Parallel(n_jobs=1)]: Done   7 out of   7 | elapsed:   15.0s remaining:    0.0s\n"
          ],
          "name": "stderr"
        },
        {
          "output_type": "stream",
          "text": [
            "[CV] ............ batch_size=10, epochs=50, score=0.981, total=   3.0s\n",
            "[CV] batch_size=10, epochs=50 ........................................\n"
          ],
          "name": "stdout"
        },
        {
          "output_type": "stream",
          "text": [
            "[Parallel(n_jobs=1)]: Done   8 out of   8 | elapsed:   18.0s remaining:    0.0s\n"
          ],
          "name": "stderr"
        },
        {
          "output_type": "stream",
          "text": [
            "[CV] ............ batch_size=10, epochs=50, score=0.961, total=   3.1s\n",
            "[CV] batch_size=10, epochs=50 ........................................\n"
          ],
          "name": "stdout"
        },
        {
          "output_type": "stream",
          "text": [
            "[Parallel(n_jobs=1)]: Done   9 out of   9 | elapsed:   21.1s remaining:    0.0s\n"
          ],
          "name": "stderr"
        },
        {
          "output_type": "stream",
          "text": [
            "[CV] ............ batch_size=10, epochs=50, score=0.990, total=   3.6s\n",
            "[CV] batch_size=10, epochs=100 .......................................\n",
            "[CV] ........... batch_size=10, epochs=100, score=1.000, total=   6.2s\n",
            "[CV] batch_size=10, epochs=100 .......................................\n",
            "[CV] ........... batch_size=10, epochs=100, score=0.962, total=   6.2s\n",
            "[CV] batch_size=10, epochs=100 .......................................\n",
            "[CV] ........... batch_size=10, epochs=100, score=0.990, total=   6.2s\n",
            "[CV] batch_size=10, epochs=100 .......................................\n",
            "[CV] ........... batch_size=10, epochs=100, score=0.961, total=   6.2s\n",
            "[CV] batch_size=10, epochs=100 .......................................\n",
            "[CV] ........... batch_size=10, epochs=100, score=0.951, total=   6.6s\n",
            "[CV] batch_size=20, epochs=10 ........................................\n",
            "[CV] ............ batch_size=20, epochs=10, score=1.000, total=   1.3s\n",
            "[CV] batch_size=20, epochs=10 ........................................\n",
            "[CV] ............ batch_size=20, epochs=10, score=0.894, total=   1.4s\n",
            "[CV] batch_size=20, epochs=10 ........................................\n",
            "[CV] ............ batch_size=20, epochs=10, score=0.961, total=   1.4s\n",
            "[CV] batch_size=20, epochs=10 ........................................\n",
            "[CV] ............ batch_size=20, epochs=10, score=0.903, total=   1.4s\n",
            "[CV] batch_size=20, epochs=10 ........................................\n",
            "[CV] ............ batch_size=20, epochs=10, score=0.738, total=   1.3s\n",
            "[CV] batch_size=20, epochs=50 ........................................\n",
            "[CV] ............ batch_size=20, epochs=50, score=1.000, total=   2.3s\n",
            "[CV] batch_size=20, epochs=50 ........................................\n",
            "[CV] ............ batch_size=20, epochs=50, score=0.808, total=   2.3s\n",
            "[CV] batch_size=20, epochs=50 ........................................\n",
            "[CV] ............ batch_size=20, epochs=50, score=1.000, total=   2.1s\n",
            "[CV] batch_size=20, epochs=50 ........................................\n",
            "[CV] ............ batch_size=20, epochs=50, score=0.961, total=   2.7s\n",
            "[CV] batch_size=20, epochs=50 ........................................\n",
            "[CV] ............ batch_size=20, epochs=50, score=0.981, total=   2.1s\n",
            "[CV] batch_size=20, epochs=100 .......................................\n",
            "[CV] ........... batch_size=20, epochs=100, score=1.000, total=   3.1s\n",
            "[CV] batch_size=20, epochs=100 .......................................\n",
            "[CV] ........... batch_size=20, epochs=100, score=0.971, total=   3.2s\n",
            "[CV] batch_size=20, epochs=100 .......................................\n",
            "[CV] ........... batch_size=20, epochs=100, score=0.524, total=   3.1s\n",
            "[CV] batch_size=20, epochs=100 .......................................\n",
            "[CV] ........... batch_size=20, epochs=100, score=0.922, total=   3.6s\n",
            "[CV] batch_size=20, epochs=100 .......................................\n",
            "[CV] ........... batch_size=20, epochs=100, score=0.981, total=   3.2s\n",
            "[CV] batch_size=40, epochs=10 ........................................\n",
            "[CV] ............ batch_size=40, epochs=10, score=0.990, total=   1.2s\n",
            "[CV] batch_size=40, epochs=10 ........................................\n",
            "[CV] ............ batch_size=40, epochs=10, score=0.750, total=   1.2s\n",
            "[CV] batch_size=40, epochs=10 ........................................\n",
            "[CV] ............ batch_size=40, epochs=10, score=0.981, total=   1.2s\n",
            "[CV] batch_size=40, epochs=10 ........................................\n",
            "WARNING:tensorflow:5 out of the last 16 calls to <function Model.make_test_function.<locals>.test_function at 0x7f375fb9d320> triggered tf.function retracing. Tracing is expensive and the excessive number of tracings could be due to (1) creating @tf.function repeatedly in a loop, (2) passing tensors with different shapes, (3) passing Python objects instead of tensors. For (1), please define your @tf.function outside of the loop. For (2), @tf.function has experimental_relax_shapes=True option that relaxes argument shapes that can avoid unnecessary retracing. For (3), please refer to https://www.tensorflow.org/guide/function#controlling_retracing and https://www.tensorflow.org/api_docs/python/tf/function for  more details.\n",
            "[CV] ............ batch_size=40, epochs=10, score=0.951, total=   1.6s\n",
            "[CV] batch_size=40, epochs=10 ........................................\n",
            "WARNING:tensorflow:5 out of the last 13 calls to <function Model.make_test_function.<locals>.test_function at 0x7f376ae49680> triggered tf.function retracing. Tracing is expensive and the excessive number of tracings could be due to (1) creating @tf.function repeatedly in a loop, (2) passing tensors with different shapes, (3) passing Python objects instead of tensors. For (1), please define your @tf.function outside of the loop. For (2), @tf.function has experimental_relax_shapes=True option that relaxes argument shapes that can avoid unnecessary retracing. For (3), please refer to https://www.tensorflow.org/guide/function#controlling_retracing and https://www.tensorflow.org/api_docs/python/tf/function for  more details.\n",
            "[CV] ............ batch_size=40, epochs=10, score=0.825, total=   1.2s\n",
            "[CV] batch_size=40, epochs=50 ........................................\n",
            "[CV] ............ batch_size=40, epochs=50, score=1.000, total=   1.7s\n",
            "[CV] batch_size=40, epochs=50 ........................................\n",
            "[CV] ............ batch_size=40, epochs=50, score=0.942, total=   1.7s\n",
            "[CV] batch_size=40, epochs=50 ........................................\n",
            "[CV] ............ batch_size=40, epochs=50, score=0.641, total=   1.6s\n",
            "[CV] batch_size=40, epochs=50 ........................................\n",
            "[CV] ............ batch_size=40, epochs=50, score=0.951, total=   1.6s\n",
            "[CV] batch_size=40, epochs=50 ........................................\n",
            "[CV] ............ batch_size=40, epochs=50, score=0.951, total=   1.7s\n",
            "[CV] batch_size=40, epochs=100 .......................................\n",
            "[CV] ........... batch_size=40, epochs=100, score=1.000, total=   2.3s\n",
            "[CV] batch_size=40, epochs=100 .......................................\n",
            "[CV] ........... batch_size=40, epochs=100, score=0.952, total=   2.3s\n",
            "[CV] batch_size=40, epochs=100 .......................................\n",
            "[CV] ........... batch_size=40, epochs=100, score=1.000, total=   2.2s\n",
            "[CV] batch_size=40, epochs=100 .......................................\n",
            "[CV] ........... batch_size=40, epochs=100, score=0.961, total=   2.6s\n",
            "[CV] batch_size=40, epochs=100 .......................................\n",
            "[CV] ........... batch_size=40, epochs=100, score=0.932, total=   2.4s\n"
          ],
          "name": "stdout"
        },
        {
          "output_type": "stream",
          "text": [
            "[Parallel(n_jobs=1)]: Done  45 out of  45 | elapsed:  2.0min finished\n"
          ],
          "name": "stderr"
        }
      ]
    },
    {
      "cell_type": "code",
      "metadata": {
        "colab": {
          "base_uri": "https://localhost:8080/"
        },
        "id": "mOfzAFxvtjj4",
        "outputId": "00aaa05d-d358-4f3e-f55a-be25fe0e4f9f"
      },
      "source": [
        "# Summarize the results\n",
        "print('Best : {}, using {}'.format(grid_result.best_score_,grid_result.best_params_))\n",
        "means = grid_result.cv_results_['mean_test_score']\n",
        "stds = grid_result.cv_results_['std_test_score']\n",
        "params = grid_result.cv_results_['params']\n",
        "for mean, stdev, param in zip(means, stds, params):\n",
        "  print('{},{} with: {}'.format(mean, stdev, param))"
      ],
      "execution_count": null,
      "outputs": [
        {
          "output_type": "stream",
          "text": [
            "Best : 0.9844846963882447, using {'batch_size': 10, 'epochs': 50}\n",
            "0.9070575118064881,0.09312595273288042 with: {'batch_size': 10, 'epochs': 10}\n",
            "0.9844846963882447,0.013177873089215 with: {'batch_size': 10, 'epochs': 50}\n",
            "0.9728902101516723,0.01878025737808246 with: {'batch_size': 10, 'epochs': 100}\n",
            "0.8992345094680786,0.08951878090465931 with: {'batch_size': 20, 'epochs': 10}\n",
            "0.9498879790306092,0.07254153572904518 with: {'batch_size': 20, 'epochs': 50}\n",
            "0.8796676635742188,0.17953254578393166 with: {'batch_size': 20, 'epochs': 100}\n",
            "0.8995332360267639,0.09528719151428772 with: {'batch_size': 40, 'epochs': 10}\n",
            "0.8971994042396545,0.1298021197859664 with: {'batch_size': 40, 'epochs': 50}\n",
            "0.9690253973007202,0.026985668170623152 with: {'batch_size': 40, 'epochs': 100}\n"
          ],
          "name": "stdout"
        }
      ]
    },
    {
      "cell_type": "markdown",
      "metadata": {
        "id": "LkzNnJkZuIv0"
      },
      "source": [
        "Tuning of Hyperparameters:- Learning rate and Drop out rate"
      ]
    },
    {
      "cell_type": "code",
      "metadata": {
        "colab": {
          "base_uri": "https://localhost:8080/"
        },
        "id": "UeIecSwouD35",
        "outputId": "4f1bcfd1-5199-4df5-dcd1-cb5bf90981d6"
      },
      "source": [
        "from keras.layers import Dropout\n",
        "\n",
        "# Defining the model\n",
        "\n",
        "def create_model(learning_rate,dropout_rate):\n",
        "    model = Sequential()\n",
        "    model.add(Dense(8,input_dim = 27,kernel_initializer = 'normal',activation = 'relu'))\n",
        "    model.add(Dropout(dropout_rate))\n",
        "    model.add(Dense(4,input_dim = 8,kernel_initializer = 'normal',activation = 'relu'))\n",
        "    model.add(Dropout(dropout_rate))\n",
        "    model.add(Dense(1,activation = 'sigmoid'))\n",
        "    \n",
        "    adam = Adam(lr = learning_rate)\n",
        "    model.compile(loss = 'binary_crossentropy',optimizer = adam,metrics = ['accuracy'])\n",
        "    return model\n",
        "\n",
        "# Create the model\n",
        "\n",
        "model = KerasClassifier(build_fn = create_model,verbose = 0,batch_size = 40,epochs = 10)\n",
        "\n",
        "# Define the grid search parameters\n",
        "\n",
        "learning_rate = [0.001,0.01,0.1]\n",
        "dropout_rate = [0.0,0.1,0.2]\n",
        "\n",
        "# Make a dictionary of the grid search parameters\n",
        "\n",
        "param_grids = dict(learning_rate = learning_rate,dropout_rate = dropout_rate)\n",
        "\n",
        "# Build and fit the GridSearchCV\n",
        "\n",
        "grid = GridSearchCV(estimator = model,param_grid = param_grids,cv = KFold(),verbose = 10)\n",
        "grid_result = grid.fit(x,y)"
      ],
      "execution_count": null,
      "outputs": [
        {
          "output_type": "stream",
          "text": [
            "Fitting 5 folds for each of 9 candidates, totalling 45 fits\n",
            "[CV] dropout_rate=0.0, learning_rate=0.001 ...........................\n"
          ],
          "name": "stdout"
        },
        {
          "output_type": "stream",
          "text": [
            "[Parallel(n_jobs=1)]: Using backend SequentialBackend with 1 concurrent workers.\n",
            "/usr/local/lib/python3.7/dist-packages/tensorflow/python/keras/optimizer_v2/optimizer_v2.py:375: UserWarning: The `lr` argument is deprecated, use `learning_rate` instead.\n",
            "  \"The `lr` argument is deprecated, use `learning_rate` instead.\")\n"
          ],
          "name": "stderr"
        },
        {
          "output_type": "stream",
          "text": [
            "[CV]  dropout_rate=0.0, learning_rate=0.001, score=1.000, total=   1.7s\n",
            "[CV] dropout_rate=0.0, learning_rate=0.001 ...........................\n"
          ],
          "name": "stdout"
        },
        {
          "output_type": "stream",
          "text": [
            "[Parallel(n_jobs=1)]: Done   1 out of   1 | elapsed:    1.7s remaining:    0.0s\n"
          ],
          "name": "stderr"
        },
        {
          "output_type": "stream",
          "text": [
            "[CV]  dropout_rate=0.0, learning_rate=0.001, score=0.750, total=   1.6s\n",
            "[CV] dropout_rate=0.0, learning_rate=0.001 ...........................\n"
          ],
          "name": "stdout"
        },
        {
          "output_type": "stream",
          "text": [
            "[Parallel(n_jobs=1)]: Done   2 out of   2 | elapsed:    3.3s remaining:    0.0s\n"
          ],
          "name": "stderr"
        },
        {
          "output_type": "stream",
          "text": [
            "[CV]  dropout_rate=0.0, learning_rate=0.001, score=0.524, total=   1.3s\n",
            "[CV] dropout_rate=0.0, learning_rate=0.001 ...........................\n"
          ],
          "name": "stdout"
        },
        {
          "output_type": "stream",
          "text": [
            "[Parallel(n_jobs=1)]: Done   3 out of   3 | elapsed:    4.6s remaining:    0.0s\n"
          ],
          "name": "stderr"
        },
        {
          "output_type": "stream",
          "text": [
            "[CV]  dropout_rate=0.0, learning_rate=0.001, score=0.709, total=   1.4s\n",
            "[CV] dropout_rate=0.0, learning_rate=0.001 ...........................\n"
          ],
          "name": "stdout"
        },
        {
          "output_type": "stream",
          "text": [
            "[Parallel(n_jobs=1)]: Done   4 out of   4 | elapsed:    6.0s remaining:    0.0s\n"
          ],
          "name": "stderr"
        },
        {
          "output_type": "stream",
          "text": [
            "[CV]  dropout_rate=0.0, learning_rate=0.001, score=0.796, total=   1.3s\n",
            "[CV] dropout_rate=0.0, learning_rate=0.01 ............................\n"
          ],
          "name": "stdout"
        },
        {
          "output_type": "stream",
          "text": [
            "[Parallel(n_jobs=1)]: Done   5 out of   5 | elapsed:    7.4s remaining:    0.0s\n"
          ],
          "name": "stderr"
        },
        {
          "output_type": "stream",
          "text": [
            "[CV]  dropout_rate=0.0, learning_rate=0.01, score=1.000, total=   1.3s\n",
            "[CV] dropout_rate=0.0, learning_rate=0.01 ............................\n"
          ],
          "name": "stdout"
        },
        {
          "output_type": "stream",
          "text": [
            "[Parallel(n_jobs=1)]: Done   6 out of   6 | elapsed:    8.7s remaining:    0.0s\n"
          ],
          "name": "stderr"
        },
        {
          "output_type": "stream",
          "text": [
            "[CV]  dropout_rate=0.0, learning_rate=0.01, score=0.865, total=   1.3s\n",
            "[CV] dropout_rate=0.0, learning_rate=0.01 ............................\n"
          ],
          "name": "stdout"
        },
        {
          "output_type": "stream",
          "text": [
            "[Parallel(n_jobs=1)]: Done   7 out of   7 | elapsed:   10.0s remaining:    0.0s\n"
          ],
          "name": "stderr"
        },
        {
          "output_type": "stream",
          "text": [
            "[CV]  dropout_rate=0.0, learning_rate=0.01, score=0.893, total=   1.3s\n",
            "[CV] dropout_rate=0.0, learning_rate=0.01 ............................\n"
          ],
          "name": "stdout"
        },
        {
          "output_type": "stream",
          "text": [
            "[Parallel(n_jobs=1)]: Done   8 out of   8 | elapsed:   11.3s remaining:    0.0s\n"
          ],
          "name": "stderr"
        },
        {
          "output_type": "stream",
          "text": [
            "[CV]  dropout_rate=0.0, learning_rate=0.01, score=0.699, total=   1.3s\n",
            "[CV] dropout_rate=0.0, learning_rate=0.01 ............................\n"
          ],
          "name": "stdout"
        },
        {
          "output_type": "stream",
          "text": [
            "[Parallel(n_jobs=1)]: Done   9 out of   9 | elapsed:   12.6s remaining:    0.0s\n"
          ],
          "name": "stderr"
        },
        {
          "output_type": "stream",
          "text": [
            "[CV]  dropout_rate=0.0, learning_rate=0.01, score=0.903, total=   1.3s\n",
            "[CV] dropout_rate=0.0, learning_rate=0.1 .............................\n",
            "[CV] . dropout_rate=0.0, learning_rate=0.1, score=1.000, total=   1.3s\n",
            "[CV] dropout_rate=0.0, learning_rate=0.1 .............................\n",
            "[CV] . dropout_rate=0.0, learning_rate=0.1, score=0.750, total=   1.8s\n",
            "[CV] dropout_rate=0.0, learning_rate=0.1 .............................\n",
            "[CV] . dropout_rate=0.0, learning_rate=0.1, score=0.524, total=   1.3s\n",
            "[CV] dropout_rate=0.0, learning_rate=0.1 .............................\n",
            "[CV] . dropout_rate=0.0, learning_rate=0.1, score=0.680, total=   1.3s\n",
            "[CV] dropout_rate=0.0, learning_rate=0.1 .............................\n",
            "[CV] . dropout_rate=0.0, learning_rate=0.1, score=0.699, total=   1.3s\n",
            "[CV] dropout_rate=0.1, learning_rate=0.001 ...........................\n",
            "[CV]  dropout_rate=0.1, learning_rate=0.001, score=1.000, total=   1.4s\n",
            "[CV] dropout_rate=0.1, learning_rate=0.001 ...........................\n",
            "[CV]  dropout_rate=0.1, learning_rate=0.001, score=0.750, total=   1.4s\n",
            "[CV] dropout_rate=0.1, learning_rate=0.001 ...........................\n",
            "[CV]  dropout_rate=0.1, learning_rate=0.001, score=0.602, total=   1.4s\n",
            "[CV] dropout_rate=0.1, learning_rate=0.001 ...........................\n",
            "[CV]  dropout_rate=0.1, learning_rate=0.001, score=0.728, total=   1.3s\n",
            "[CV] dropout_rate=0.1, learning_rate=0.001 ...........................\n",
            "[CV]  dropout_rate=0.1, learning_rate=0.001, score=0.699, total=   1.4s\n",
            "[CV] dropout_rate=0.1, learning_rate=0.01 ............................\n",
            "[CV]  dropout_rate=0.1, learning_rate=0.01, score=1.000, total=   1.7s\n",
            "[CV] dropout_rate=0.1, learning_rate=0.01 ............................\n",
            "[CV]  dropout_rate=0.1, learning_rate=0.01, score=0.962, total=   1.4s\n",
            "[CV] dropout_rate=0.1, learning_rate=0.01 ............................\n",
            "[CV]  dropout_rate=0.1, learning_rate=0.01, score=0.524, total=   1.4s\n",
            "[CV] dropout_rate=0.1, learning_rate=0.01 ............................\n",
            "[CV]  dropout_rate=0.1, learning_rate=0.01, score=0.913, total=   1.3s\n",
            "[CV] dropout_rate=0.1, learning_rate=0.01 ............................\n",
            "[CV]  dropout_rate=0.1, learning_rate=0.01, score=0.913, total=   1.4s\n",
            "[CV] dropout_rate=0.1, learning_rate=0.1 .............................\n",
            "[CV] . dropout_rate=0.1, learning_rate=0.1, score=1.000, total=   1.4s\n",
            "[CV] dropout_rate=0.1, learning_rate=0.1 .............................\n",
            "[CV] . dropout_rate=0.1, learning_rate=0.1, score=0.750, total=   1.4s\n",
            "[CV] dropout_rate=0.1, learning_rate=0.1 .............................\n",
            "[CV] . dropout_rate=0.1, learning_rate=0.1, score=0.524, total=   1.4s\n",
            "[CV] dropout_rate=0.1, learning_rate=0.1 .............................\n",
            "[CV] . dropout_rate=0.1, learning_rate=0.1, score=0.680, total=   1.4s\n",
            "[CV] dropout_rate=0.1, learning_rate=0.1 .............................\n",
            "[CV] . dropout_rate=0.1, learning_rate=0.1, score=0.699, total=   1.8s\n",
            "[CV] dropout_rate=0.2, learning_rate=0.001 ...........................\n",
            "[CV]  dropout_rate=0.2, learning_rate=0.001, score=1.000, total=   1.4s\n",
            "[CV] dropout_rate=0.2, learning_rate=0.001 ...........................\n",
            "[CV]  dropout_rate=0.2, learning_rate=0.001, score=0.750, total=   1.4s\n",
            "[CV] dropout_rate=0.2, learning_rate=0.001 ...........................\n",
            "[CV]  dropout_rate=0.2, learning_rate=0.001, score=0.524, total=   1.4s\n",
            "[CV] dropout_rate=0.2, learning_rate=0.001 ...........................\n",
            "[CV]  dropout_rate=0.2, learning_rate=0.001, score=0.680, total=   1.4s\n",
            "[CV] dropout_rate=0.2, learning_rate=0.001 ...........................\n",
            "[CV]  dropout_rate=0.2, learning_rate=0.001, score=0.718, total=   1.4s\n",
            "[CV] dropout_rate=0.2, learning_rate=0.01 ............................\n",
            "[CV]  dropout_rate=0.2, learning_rate=0.01, score=1.000, total=   1.4s\n",
            "[CV] dropout_rate=0.2, learning_rate=0.01 ............................\n",
            "[CV]  dropout_rate=0.2, learning_rate=0.01, score=0.846, total=   1.4s\n",
            "[CV] dropout_rate=0.2, learning_rate=0.01 ............................\n",
            "[CV]  dropout_rate=0.2, learning_rate=0.01, score=0.524, total=   1.4s\n",
            "[CV] dropout_rate=0.2, learning_rate=0.01 ............................\n",
            "[CV]  dropout_rate=0.2, learning_rate=0.01, score=0.680, total=   1.8s\n",
            "[CV] dropout_rate=0.2, learning_rate=0.01 ............................\n",
            "[CV]  dropout_rate=0.2, learning_rate=0.01, score=0.699, total=   1.5s\n",
            "[CV] dropout_rate=0.2, learning_rate=0.1 .............................\n",
            "[CV] . dropout_rate=0.2, learning_rate=0.1, score=1.000, total=   1.4s\n",
            "[CV] dropout_rate=0.2, learning_rate=0.1 .............................\n",
            "[CV] . dropout_rate=0.2, learning_rate=0.1, score=0.750, total=   1.4s\n",
            "[CV] dropout_rate=0.2, learning_rate=0.1 .............................\n",
            "[CV] . dropout_rate=0.2, learning_rate=0.1, score=0.524, total=   1.4s\n",
            "[CV] dropout_rate=0.2, learning_rate=0.1 .............................\n",
            "[CV] . dropout_rate=0.2, learning_rate=0.1, score=0.680, total=   1.4s\n",
            "[CV] dropout_rate=0.2, learning_rate=0.1 .............................\n",
            "[CV] . dropout_rate=0.2, learning_rate=0.1, score=0.699, total=   1.3s\n"
          ],
          "name": "stdout"
        },
        {
          "output_type": "stream",
          "text": [
            "[Parallel(n_jobs=1)]: Done  45 out of  45 | elapsed:  1.1min finished\n"
          ],
          "name": "stderr"
        }
      ]
    },
    {
      "cell_type": "code",
      "metadata": {
        "colab": {
          "base_uri": "https://localhost:8080/"
        },
        "id": "E5DGu_Wlu6LW",
        "outputId": "fa8e4a19-21a6-4ae1-86cd-a0480b273c4f"
      },
      "source": [
        "# Summarize the results\n",
        "print('Best : {}, using {}'.format(grid_result.best_score_,grid_result.best_params_))\n",
        "means = grid_result.cv_results_['mean_test_score']\n",
        "stds = grid_result.cv_results_['std_test_score']\n",
        "params = grid_result.cv_results_['params']\n",
        "for mean, stdev, param in zip(means, stds, params):\n",
        "  print('{},{} with: {}'.format(mean, stdev, param))"
      ],
      "execution_count": null,
      "outputs": [
        {
          "output_type": "stream",
          "text": [
            "Best : 0.8721060514450073, using {'dropout_rate': 0.0, 'learning_rate': 0.01}\n",
            "0.7558252453804016,0.15304432795809092 with: {'dropout_rate': 0.0, 'learning_rate': 0.001}\n",
            "0.8721060514450073,0.0977259595690044 with: {'dropout_rate': 0.0, 'learning_rate': 0.01}\n",
            "0.7305825233459473,0.15435061319000673 with: {'dropout_rate': 0.0, 'learning_rate': 0.1}\n",
            "0.7558252453804016,0.1321565675868344 with: {'dropout_rate': 0.1, 'learning_rate': 0.001}\n",
            "0.8622106075286865,0.1721261352624201 with: {'dropout_rate': 0.1, 'learning_rate': 0.01}\n",
            "0.7305825233459473,0.15435061319000673 with: {'dropout_rate': 0.1, 'learning_rate': 0.1}\n",
            "0.734466016292572,0.1537509780062806 with: {'dropout_rate': 0.2, 'learning_rate': 0.001}\n",
            "0.7498132944107055,0.1614008305786882 with: {'dropout_rate': 0.2, 'learning_rate': 0.01}\n",
            "0.7305825233459473,0.15435061319000673 with: {'dropout_rate': 0.2, 'learning_rate': 0.1}\n"
          ],
          "name": "stdout"
        }
      ]
    },
    {
      "cell_type": "markdown",
      "metadata": {
        "id": "EYDATqcUvDI6"
      },
      "source": [
        "Tuning of Hyperparameters:- Activation Function and Kernel Initializer"
      ]
    },
    {
      "cell_type": "code",
      "metadata": {
        "colab": {
          "base_uri": "https://localhost:8080/"
        },
        "id": "zoBVc0HOu9Ks",
        "outputId": "f4a5f4b9-28ea-47f1-cb0f-0a9d852ebcc9"
      },
      "source": [
        "# Defining the model\n",
        "\n",
        "def create_model(activation_function,init):\n",
        "    model = Sequential()\n",
        "    model.add(Dense(8,input_dim = 27,kernel_initializer = init,activation = activation_function))\n",
        "    model.add(Dropout(0.1))\n",
        "    model.add(Dense(4,input_dim = 27,kernel_initializer = init,activation = activation_function))\n",
        "    model.add(Dropout(0.1))\n",
        "    model.add(Dense(1,activation = 'sigmoid'))\n",
        "    \n",
        "    adam = Adam(lr = 0.001)\n",
        "    model.compile(loss = 'binary_crossentropy',optimizer = adam,metrics = ['accuracy'])\n",
        "    return model\n",
        "\n",
        "# Create the model\n",
        "\n",
        "model = KerasClassifier(build_fn = create_model,verbose = 0,batch_size = 40,epochs = 10)\n",
        "\n",
        "# Define the grid search parameters\n",
        "activation_function = ['softmax','relu','tanh','linear']\n",
        "init = ['uniform','normal','zero']\n",
        "\n",
        "# Make a dictionary of the grid search parameters\n",
        "param_grids = dict(activation_function = activation_function,init = init)\n",
        "\n",
        "# Build and fit the GridSearchCV\n",
        "\n",
        "grid = GridSearchCV(estimator = model,param_grid = param_grids,cv = KFold(),verbose = 10)\n",
        "grid_result = grid.fit(x,y)\n",
        "\n"
      ],
      "execution_count": null,
      "outputs": [
        {
          "output_type": "stream",
          "text": [
            "Fitting 5 folds for each of 12 candidates, totalling 60 fits\n",
            "[CV] activation_function=softmax, init=uniform .......................\n"
          ],
          "name": "stdout"
        },
        {
          "output_type": "stream",
          "text": [
            "[Parallel(n_jobs=1)]: Using backend SequentialBackend with 1 concurrent workers.\n",
            "/usr/local/lib/python3.7/dist-packages/tensorflow/python/keras/optimizer_v2/optimizer_v2.py:375: UserWarning: The `lr` argument is deprecated, use `learning_rate` instead.\n",
            "  \"The `lr` argument is deprecated, use `learning_rate` instead.\")\n"
          ],
          "name": "stderr"
        },
        {
          "output_type": "stream",
          "text": [
            "[CV]  activation_function=softmax, init=uniform, score=1.000, total=   1.5s\n",
            "[CV] activation_function=softmax, init=uniform .......................\n"
          ],
          "name": "stdout"
        },
        {
          "output_type": "stream",
          "text": [
            "[Parallel(n_jobs=1)]: Done   1 out of   1 | elapsed:    1.5s remaining:    0.0s\n"
          ],
          "name": "stderr"
        },
        {
          "output_type": "stream",
          "text": [
            "[CV]  activation_function=softmax, init=uniform, score=0.250, total=   1.4s\n",
            "[CV] activation_function=softmax, init=uniform .......................\n"
          ],
          "name": "stdout"
        },
        {
          "output_type": "stream",
          "text": [
            "[Parallel(n_jobs=1)]: Done   2 out of   2 | elapsed:    2.9s remaining:    0.0s\n"
          ],
          "name": "stderr"
        },
        {
          "output_type": "stream",
          "text": [
            "[CV]  activation_function=softmax, init=uniform, score=0.524, total=   1.4s\n",
            "[CV] activation_function=softmax, init=uniform .......................\n"
          ],
          "name": "stdout"
        },
        {
          "output_type": "stream",
          "text": [
            "[Parallel(n_jobs=1)]: Done   3 out of   3 | elapsed:    4.3s remaining:    0.0s\n"
          ],
          "name": "stderr"
        },
        {
          "output_type": "stream",
          "text": [
            "[CV]  activation_function=softmax, init=uniform, score=0.680, total=   1.5s\n",
            "[CV] activation_function=softmax, init=uniform .......................\n"
          ],
          "name": "stdout"
        },
        {
          "output_type": "stream",
          "text": [
            "[Parallel(n_jobs=1)]: Done   4 out of   4 | elapsed:    5.8s remaining:    0.0s\n"
          ],
          "name": "stderr"
        },
        {
          "output_type": "stream",
          "text": [
            "[CV]  activation_function=softmax, init=uniform, score=0.301, total=   1.7s\n",
            "[CV] activation_function=softmax, init=normal ........................\n"
          ],
          "name": "stdout"
        },
        {
          "output_type": "stream",
          "text": [
            "[Parallel(n_jobs=1)]: Done   5 out of   5 | elapsed:    7.5s remaining:    0.0s\n"
          ],
          "name": "stderr"
        },
        {
          "output_type": "stream",
          "text": [
            "[CV]  activation_function=softmax, init=normal, score=1.000, total=   1.4s\n",
            "[CV] activation_function=softmax, init=normal ........................\n"
          ],
          "name": "stdout"
        },
        {
          "output_type": "stream",
          "text": [
            "[Parallel(n_jobs=1)]: Done   6 out of   6 | elapsed:    8.9s remaining:    0.0s\n"
          ],
          "name": "stderr"
        },
        {
          "output_type": "stream",
          "text": [
            "[CV]  activation_function=softmax, init=normal, score=0.750, total=   1.4s\n",
            "[CV] activation_function=softmax, init=normal ........................\n"
          ],
          "name": "stdout"
        },
        {
          "output_type": "stream",
          "text": [
            "[Parallel(n_jobs=1)]: Done   7 out of   7 | elapsed:   10.3s remaining:    0.0s\n"
          ],
          "name": "stderr"
        },
        {
          "output_type": "stream",
          "text": [
            "[CV]  activation_function=softmax, init=normal, score=0.544, total=   1.4s\n",
            "[CV] activation_function=softmax, init=normal ........................\n"
          ],
          "name": "stdout"
        },
        {
          "output_type": "stream",
          "text": [
            "[Parallel(n_jobs=1)]: Done   8 out of   8 | elapsed:   11.7s remaining:    0.0s\n"
          ],
          "name": "stderr"
        },
        {
          "output_type": "stream",
          "text": [
            "[CV]  activation_function=softmax, init=normal, score=0.680, total=   1.4s\n",
            "[CV] activation_function=softmax, init=normal ........................\n"
          ],
          "name": "stdout"
        },
        {
          "output_type": "stream",
          "text": [
            "[Parallel(n_jobs=1)]: Done   9 out of   9 | elapsed:   13.1s remaining:    0.0s\n"
          ],
          "name": "stderr"
        },
        {
          "output_type": "stream",
          "text": [
            "[CV]  activation_function=softmax, init=normal, score=0.757, total=   1.4s\n",
            "[CV] activation_function=softmax, init=zero ..........................\n",
            "[CV]  activation_function=softmax, init=zero, score=1.000, total=   1.4s\n",
            "[CV] activation_function=softmax, init=zero ..........................\n",
            "[CV]  activation_function=softmax, init=zero, score=0.750, total=   1.3s\n",
            "[CV] activation_function=softmax, init=zero ..........................\n",
            "[CV]  activation_function=softmax, init=zero, score=0.524, total=   1.4s\n",
            "[CV] activation_function=softmax, init=zero ..........................\n",
            "[CV]  activation_function=softmax, init=zero, score=0.680, total=   1.8s\n",
            "[CV] activation_function=softmax, init=zero ..........................\n",
            "[CV]  activation_function=softmax, init=zero, score=0.699, total=   1.4s\n",
            "[CV] activation_function=relu, init=uniform ..........................\n",
            "[CV]  activation_function=relu, init=uniform, score=1.000, total=   1.4s\n",
            "[CV] activation_function=relu, init=uniform ..........................\n",
            "[CV]  activation_function=relu, init=uniform, score=0.750, total=   1.4s\n",
            "[CV] activation_function=relu, init=uniform ..........................\n",
            "[CV]  activation_function=relu, init=uniform, score=0.524, total=   1.4s\n",
            "[CV] activation_function=relu, init=uniform ..........................\n",
            "[CV]  activation_function=relu, init=uniform, score=0.757, total=   1.4s\n",
            "[CV] activation_function=relu, init=uniform ..........................\n",
            "[CV]  activation_function=relu, init=uniform, score=0.699, total=   1.4s\n",
            "[CV] activation_function=relu, init=normal ...........................\n",
            "[CV]  activation_function=relu, init=normal, score=1.000, total=   1.4s\n",
            "[CV] activation_function=relu, init=normal ...........................\n",
            "[CV]  activation_function=relu, init=normal, score=0.750, total=   1.4s\n",
            "[CV] activation_function=relu, init=normal ...........................\n",
            "[CV]  activation_function=relu, init=normal, score=0.660, total=   1.7s\n",
            "[CV] activation_function=relu, init=normal ...........................\n",
            "[CV]  activation_function=relu, init=normal, score=0.738, total=   1.4s\n",
            "[CV] activation_function=relu, init=normal ...........................\n",
            "[CV]  activation_function=relu, init=normal, score=0.699, total=   1.4s\n",
            "[CV] activation_function=relu, init=zero .............................\n",
            "[CV] . activation_function=relu, init=zero, score=1.000, total=   1.4s\n",
            "[CV] activation_function=relu, init=zero .............................\n",
            "[CV] . activation_function=relu, init=zero, score=0.750, total=   1.4s\n",
            "[CV] activation_function=relu, init=zero .............................\n",
            "[CV] . activation_function=relu, init=zero, score=0.524, total=   1.4s\n",
            "[CV] activation_function=relu, init=zero .............................\n",
            "[CV] . activation_function=relu, init=zero, score=0.680, total=   1.4s\n",
            "[CV] activation_function=relu, init=zero .............................\n",
            "[CV] . activation_function=relu, init=zero, score=0.699, total=   1.4s\n",
            "[CV] activation_function=tanh, init=uniform ..........................\n",
            "[CV]  activation_function=tanh, init=uniform, score=1.000, total=   1.4s\n",
            "[CV] activation_function=tanh, init=uniform ..........................\n",
            "[CV]  activation_function=tanh, init=uniform, score=0.750, total=   1.7s\n",
            "[CV] activation_function=tanh, init=uniform ..........................\n",
            "[CV]  activation_function=tanh, init=uniform, score=0.524, total=   1.4s\n",
            "[CV] activation_function=tanh, init=uniform ..........................\n",
            "[CV]  activation_function=tanh, init=uniform, score=0.680, total=   1.4s\n",
            "[CV] activation_function=tanh, init=uniform ..........................\n",
            "[CV]  activation_function=tanh, init=uniform, score=0.699, total=   1.4s\n",
            "[CV] activation_function=tanh, init=normal ...........................\n",
            "[CV]  activation_function=tanh, init=normal, score=1.000, total=   1.3s\n",
            "[CV] activation_function=tanh, init=normal ...........................\n",
            "[CV]  activation_function=tanh, init=normal, score=0.750, total=   1.3s\n",
            "[CV] activation_function=tanh, init=normal ...........................\n",
            "[CV]  activation_function=tanh, init=normal, score=0.563, total=   1.4s\n",
            "[CV] activation_function=tanh, init=normal ...........................\n",
            "[CV]  activation_function=tanh, init=normal, score=0.680, total=   1.3s\n",
            "[CV] activation_function=tanh, init=normal ...........................\n",
            "[CV]  activation_function=tanh, init=normal, score=0.796, total=   1.4s\n",
            "[CV] activation_function=tanh, init=zero .............................\n",
            "[CV] . activation_function=tanh, init=zero, score=1.000, total=   1.8s\n",
            "[CV] activation_function=tanh, init=zero .............................\n",
            "[CV] . activation_function=tanh, init=zero, score=0.750, total=   1.4s\n",
            "[CV] activation_function=tanh, init=zero .............................\n",
            "[CV] . activation_function=tanh, init=zero, score=0.524, total=   1.4s\n",
            "[CV] activation_function=tanh, init=zero .............................\n",
            "[CV] . activation_function=tanh, init=zero, score=0.680, total=   1.4s\n",
            "[CV] activation_function=tanh, init=zero .............................\n",
            "[CV] . activation_function=tanh, init=zero, score=0.699, total=   1.4s\n",
            "[CV] activation_function=linear, init=uniform ........................\n",
            "[CV]  activation_function=linear, init=uniform, score=1.000, total=   1.4s\n",
            "[CV] activation_function=linear, init=uniform ........................\n",
            "[CV]  activation_function=linear, init=uniform, score=0.750, total=   1.3s\n",
            "[CV] activation_function=linear, init=uniform ........................\n",
            "[CV]  activation_function=linear, init=uniform, score=0.650, total=   1.3s\n",
            "[CV] activation_function=linear, init=uniform ........................\n",
            "[CV]  activation_function=linear, init=uniform, score=0.689, total=   1.4s\n",
            "[CV] activation_function=linear, init=uniform ........................\n",
            "[CV]  activation_function=linear, init=uniform, score=0.728, total=   1.4s\n",
            "[CV] activation_function=linear, init=normal .........................\n",
            "[CV]  activation_function=linear, init=normal, score=1.000, total=   1.7s\n",
            "[CV] activation_function=linear, init=normal .........................\n",
            "[CV]  activation_function=linear, init=normal, score=0.750, total=   1.4s\n",
            "[CV] activation_function=linear, init=normal .........................\n",
            "[CV]  activation_function=linear, init=normal, score=0.563, total=   1.4s\n",
            "[CV] activation_function=linear, init=normal .........................\n",
            "[CV]  activation_function=linear, init=normal, score=0.728, total=   1.3s\n",
            "[CV] activation_function=linear, init=normal .........................\n",
            "[CV]  activation_function=linear, init=normal, score=0.796, total=   1.3s\n",
            "[CV] activation_function=linear, init=zero ...........................\n",
            "[CV]  activation_function=linear, init=zero, score=1.000, total=   1.4s\n",
            "[CV] activation_function=linear, init=zero ...........................\n",
            "[CV]  activation_function=linear, init=zero, score=0.750, total=   1.4s\n",
            "[CV] activation_function=linear, init=zero ...........................\n",
            "[CV]  activation_function=linear, init=zero, score=0.524, total=   1.4s\n",
            "[CV] activation_function=linear, init=zero ...........................\n",
            "[CV]  activation_function=linear, init=zero, score=0.680, total=   1.4s\n",
            "[CV] activation_function=linear, init=zero ...........................\n",
            "[CV]  activation_function=linear, init=zero, score=0.699, total=   1.8s\n"
          ],
          "name": "stdout"
        },
        {
          "output_type": "stream",
          "text": [
            "[Parallel(n_jobs=1)]: Done  60 out of  60 | elapsed:  1.4min finished\n"
          ],
          "name": "stderr"
        }
      ]
    },
    {
      "cell_type": "code",
      "metadata": {
        "colab": {
          "base_uri": "https://localhost:8080/"
        },
        "id": "0eh96jx7vc-0",
        "outputId": "14aee2ef-6eb3-40e8-8385-bfad374fbaf8"
      },
      "source": [
        "# Summarize the results\n",
        "print('Best : {}, using {}'.format(grid_result.best_score_,grid_result.best_params_))\n",
        "means = grid_result.cv_results_['mean_test_score']\n",
        "stds = grid_result.cv_results_['std_test_score']\n",
        "params = grid_result.cv_results_['params']\n",
        "for mean, stdev, param in zip(means, stds, params):\n",
        "  print('{},{} with: {}'.format(mean, stdev, param))"
      ],
      "execution_count": null,
      "outputs": [
        {
          "output_type": "stream",
          "text": [
            "Best : 0.7694174766540527, using {'activation_function': 'relu', 'init': 'normal'}\n",
            "0.550970870256424,0.272753331560599 with: {'activation_function': 'softmax', 'init': 'uniform'}\n",
            "0.7461164951324463,0.14832143267806627 with: {'activation_function': 'softmax', 'init': 'normal'}\n",
            "0.7305825233459473,0.15435061319000673 with: {'activation_function': 'softmax', 'init': 'zero'}\n",
            "0.7461165070533753,0.15233439575253718 with: {'activation_function': 'relu', 'init': 'uniform'}\n",
            "0.7694174766540527,0.11952004482633187 with: {'activation_function': 'relu', 'init': 'normal'}\n",
            "0.7305825233459473,0.15435061319000673 with: {'activation_function': 'relu', 'init': 'zero'}\n",
            "0.7305825233459473,0.15435061319000673 with: {'activation_function': 'tanh', 'init': 'uniform'}\n",
            "0.7577669858932495,0.14436668943600475 with: {'activation_function': 'tanh', 'init': 'normal'}\n",
            "0.7305825233459473,0.15435061319000673 with: {'activation_function': 'tanh', 'init': 'zero'}\n",
            "0.7635922312736512,0.12299480200553922 with: {'activation_function': 'linear', 'init': 'uniform'}\n",
            "0.7674757242202759,0.14036096141566767 with: {'activation_function': 'linear', 'init': 'normal'}\n",
            "0.7305825233459473,0.15435061319000673 with: {'activation_function': 'linear', 'init': 'zero'}\n"
          ],
          "name": "stdout"
        }
      ]
    },
    {
      "cell_type": "markdown",
      "metadata": {
        "id": "6G9srnLovhuI"
      },
      "source": [
        "Tuning of Hyperparameter :-Number of Neurons in activation layer\n"
      ]
    },
    {
      "cell_type": "code",
      "metadata": {
        "colab": {
          "base_uri": "https://localhost:8080/"
        },
        "id": "uEjmN89rvkMM",
        "outputId": "21fd75a6-7427-41a3-fd8b-a469c99f4d32"
      },
      "source": [
        "# Defining the model\n",
        "\n",
        "def create_model(neuron1,neuron2):\n",
        "    model = Sequential()\n",
        "    model.add(Dense(neuron1,input_dim = 27,kernel_initializer = 'uniform',activation = 'tanh'))\n",
        "    model.add(Dropout(0.1))\n",
        "    model.add(Dense(neuron2,input_dim = neuron1,kernel_initializer = 'uniform',activation = 'tanh'))\n",
        "    model.add(Dropout(0.1))\n",
        "    model.add(Dense(1,activation = 'sigmoid'))\n",
        "    \n",
        "    adam = Adam(lr = 0.001)\n",
        "    model.compile(loss = 'binary_crossentropy',optimizer = adam,metrics = ['accuracy'])\n",
        "    return model\n",
        "\n",
        "# Create the model\n",
        "\n",
        "model = KerasClassifier(build_fn = create_model,verbose = 0,batch_size = 40,epochs = 10)\n",
        "\n",
        "# Define the grid search parameters\n",
        "\n",
        "neuron1 = [4,8,16]\n",
        "neuron2 = [2,4,8]\n",
        "\n",
        "# Make a dictionary of the grid search parameters\n",
        "\n",
        "param_grids = dict(neuron1 = neuron1,neuron2 = neuron2)\n",
        "\n",
        "# Build and fit the GridSearchCV\n",
        "\n",
        "grid = GridSearchCV(estimator = model,param_grid = param_grids,cv = KFold(),verbose = 10)\n",
        "grid_result = grid.fit(x,y)\n"
      ],
      "execution_count": null,
      "outputs": [
        {
          "output_type": "stream",
          "text": [
            "Fitting 5 folds for each of 9 candidates, totalling 45 fits\n",
            "[CV] neuron1=4, neuron2=2 ............................................\n"
          ],
          "name": "stdout"
        },
        {
          "output_type": "stream",
          "text": [
            "[Parallel(n_jobs=1)]: Using backend SequentialBackend with 1 concurrent workers.\n",
            "/usr/local/lib/python3.7/dist-packages/tensorflow/python/keras/optimizer_v2/optimizer_v2.py:375: UserWarning: The `lr` argument is deprecated, use `learning_rate` instead.\n",
            "  \"The `lr` argument is deprecated, use `learning_rate` instead.\")\n"
          ],
          "name": "stderr"
        },
        {
          "output_type": "stream",
          "text": [
            "[CV] ................ neuron1=4, neuron2=2, score=1.000, total=   1.4s\n",
            "[CV] neuron1=4, neuron2=2 ............................................\n"
          ],
          "name": "stdout"
        },
        {
          "output_type": "stream",
          "text": [
            "[Parallel(n_jobs=1)]: Done   1 out of   1 | elapsed:    1.4s remaining:    0.0s\n"
          ],
          "name": "stderr"
        },
        {
          "output_type": "stream",
          "text": [
            "[CV] ................ neuron1=4, neuron2=2, score=0.750, total=   1.4s\n",
            "[CV] neuron1=4, neuron2=2 ............................................\n"
          ],
          "name": "stdout"
        },
        {
          "output_type": "stream",
          "text": [
            "[Parallel(n_jobs=1)]: Done   2 out of   2 | elapsed:    2.7s remaining:    0.0s\n"
          ],
          "name": "stderr"
        },
        {
          "output_type": "stream",
          "text": [
            "[CV] ................ neuron1=4, neuron2=2, score=0.534, total=   1.4s\n",
            "[CV] neuron1=4, neuron2=2 ............................................\n"
          ],
          "name": "stdout"
        },
        {
          "output_type": "stream",
          "text": [
            "[Parallel(n_jobs=1)]: Done   3 out of   3 | elapsed:    4.1s remaining:    0.0s\n"
          ],
          "name": "stderr"
        },
        {
          "output_type": "stream",
          "text": [
            "[CV] ................ neuron1=4, neuron2=2, score=0.680, total=   1.4s\n",
            "[CV] neuron1=4, neuron2=2 ............................................\n"
          ],
          "name": "stdout"
        },
        {
          "output_type": "stream",
          "text": [
            "[Parallel(n_jobs=1)]: Done   4 out of   4 | elapsed:    5.5s remaining:    0.0s\n"
          ],
          "name": "stderr"
        },
        {
          "output_type": "stream",
          "text": [
            "[CV] ................ neuron1=4, neuron2=2, score=0.825, total=   1.4s\n",
            "[CV] neuron1=4, neuron2=4 ............................................\n"
          ],
          "name": "stdout"
        },
        {
          "output_type": "stream",
          "text": [
            "[Parallel(n_jobs=1)]: Done   5 out of   5 | elapsed:    6.9s remaining:    0.0s\n"
          ],
          "name": "stderr"
        },
        {
          "output_type": "stream",
          "text": [
            "[CV] ................ neuron1=4, neuron2=4, score=1.000, total=   1.3s\n",
            "[CV] neuron1=4, neuron2=4 ............................................\n"
          ],
          "name": "stdout"
        },
        {
          "output_type": "stream",
          "text": [
            "[Parallel(n_jobs=1)]: Done   6 out of   6 | elapsed:    8.2s remaining:    0.0s\n"
          ],
          "name": "stderr"
        },
        {
          "output_type": "stream",
          "text": [
            "[CV] ................ neuron1=4, neuron2=4, score=0.750, total=   1.4s\n",
            "[CV] neuron1=4, neuron2=4 ............................................\n"
          ],
          "name": "stdout"
        },
        {
          "output_type": "stream",
          "text": [
            "[Parallel(n_jobs=1)]: Done   7 out of   7 | elapsed:    9.6s remaining:    0.0s\n"
          ],
          "name": "stderr"
        },
        {
          "output_type": "stream",
          "text": [
            "[CV] ................ neuron1=4, neuron2=4, score=0.524, total=   1.8s\n",
            "[CV] neuron1=4, neuron2=4 ............................................\n"
          ],
          "name": "stdout"
        },
        {
          "output_type": "stream",
          "text": [
            "[Parallel(n_jobs=1)]: Done   8 out of   8 | elapsed:   11.4s remaining:    0.0s\n"
          ],
          "name": "stderr"
        },
        {
          "output_type": "stream",
          "text": [
            "[CV] ................ neuron1=4, neuron2=4, score=0.680, total=   1.4s\n",
            "[CV] neuron1=4, neuron2=4 ............................................\n"
          ],
          "name": "stdout"
        },
        {
          "output_type": "stream",
          "text": [
            "[Parallel(n_jobs=1)]: Done   9 out of   9 | elapsed:   12.8s remaining:    0.0s\n"
          ],
          "name": "stderr"
        },
        {
          "output_type": "stream",
          "text": [
            "[CV] ................ neuron1=4, neuron2=4, score=0.825, total=   1.4s\n",
            "[CV] neuron1=4, neuron2=8 ............................................\n",
            "[CV] ................ neuron1=4, neuron2=8, score=1.000, total=   1.4s\n",
            "[CV] neuron1=4, neuron2=8 ............................................\n",
            "[CV] ................ neuron1=4, neuron2=8, score=0.750, total=   1.4s\n",
            "[CV] neuron1=4, neuron2=8 ............................................\n",
            "[CV] ................ neuron1=4, neuron2=8, score=0.534, total=   1.4s\n",
            "[CV] neuron1=4, neuron2=8 ............................................\n",
            "[CV] ................ neuron1=4, neuron2=8, score=0.680, total=   1.3s\n",
            "[CV] neuron1=4, neuron2=8 ............................................\n",
            "[CV] ................ neuron1=4, neuron2=8, score=0.699, total=   1.4s\n",
            "[CV] neuron1=8, neuron2=2 ............................................\n",
            "[CV] ................ neuron1=8, neuron2=2, score=1.000, total=   1.3s\n",
            "[CV] neuron1=8, neuron2=2 ............................................\n",
            "[CV] ................ neuron1=8, neuron2=2, score=0.750, total=   1.7s\n",
            "[CV] neuron1=8, neuron2=2 ............................................\n",
            "[CV] ................ neuron1=8, neuron2=2, score=0.534, total=   1.3s\n",
            "[CV] neuron1=8, neuron2=2 ............................................\n",
            "[CV] ................ neuron1=8, neuron2=2, score=0.680, total=   1.4s\n",
            "[CV] neuron1=8, neuron2=2 ............................................\n",
            "[CV] ................ neuron1=8, neuron2=2, score=0.718, total=   1.4s\n",
            "[CV] neuron1=8, neuron2=4 ............................................\n",
            "[CV] ................ neuron1=8, neuron2=4, score=1.000, total=   1.3s\n",
            "[CV] neuron1=8, neuron2=4 ............................................\n",
            "[CV] ................ neuron1=8, neuron2=4, score=0.750, total=   1.4s\n",
            "[CV] neuron1=8, neuron2=4 ............................................\n",
            "[CV] ................ neuron1=8, neuron2=4, score=0.524, total=   1.4s\n",
            "[CV] neuron1=8, neuron2=4 ............................................\n",
            "[CV] ................ neuron1=8, neuron2=4, score=0.680, total=   1.4s\n",
            "[CV] neuron1=8, neuron2=4 ............................................\n",
            "[CV] ................ neuron1=8, neuron2=4, score=0.709, total=   1.7s\n",
            "[CV] neuron1=8, neuron2=8 ............................................\n",
            "[CV] ................ neuron1=8, neuron2=8, score=1.000, total=   1.4s\n",
            "[CV] neuron1=8, neuron2=8 ............................................\n",
            "[CV] ................ neuron1=8, neuron2=8, score=0.750, total=   1.4s\n",
            "[CV] neuron1=8, neuron2=8 ............................................\n",
            "[CV] ................ neuron1=8, neuron2=8, score=0.534, total=   1.3s\n",
            "[CV] neuron1=8, neuron2=8 ............................................\n",
            "[CV] ................ neuron1=8, neuron2=8, score=0.680, total=   1.4s\n",
            "[CV] neuron1=8, neuron2=8 ............................................\n",
            "[CV] ................ neuron1=8, neuron2=8, score=0.699, total=   1.4s\n",
            "[CV] neuron1=16, neuron2=2 ...........................................\n",
            "[CV] ............... neuron1=16, neuron2=2, score=1.000, total=   1.4s\n",
            "[CV] neuron1=16, neuron2=2 ...........................................\n",
            "[CV] ............... neuron1=16, neuron2=2, score=0.769, total=   1.4s\n",
            "[CV] neuron1=16, neuron2=2 ...........................................\n",
            "[CV] ............... neuron1=16, neuron2=2, score=0.544, total=   1.3s\n",
            "[CV] neuron1=16, neuron2=2 ...........................................\n",
            "[CV] ............... neuron1=16, neuron2=2, score=0.845, total=   1.8s\n",
            "[CV] neuron1=16, neuron2=2 ...........................................\n",
            "[CV] ............... neuron1=16, neuron2=2, score=0.767, total=   1.3s\n",
            "[CV] neuron1=16, neuron2=4 ...........................................\n",
            "[CV] ............... neuron1=16, neuron2=4, score=1.000, total=   1.4s\n",
            "[CV] neuron1=16, neuron2=4 ...........................................\n",
            "[CV] ............... neuron1=16, neuron2=4, score=0.865, total=   1.4s\n",
            "[CV] neuron1=16, neuron2=4 ...........................................\n",
            "[CV] ............... neuron1=16, neuron2=4, score=0.534, total=   1.3s\n",
            "[CV] neuron1=16, neuron2=4 ...........................................\n",
            "[CV] ............... neuron1=16, neuron2=4, score=0.709, total=   1.4s\n",
            "[CV] neuron1=16, neuron2=4 ...........................................\n",
            "[CV] ............... neuron1=16, neuron2=4, score=0.816, total=   1.3s\n",
            "[CV] neuron1=16, neuron2=8 ...........................................\n",
            "[CV] ............... neuron1=16, neuron2=8, score=1.000, total=   1.4s\n",
            "[CV] neuron1=16, neuron2=8 ...........................................\n",
            "[CV] ............... neuron1=16, neuron2=8, score=0.750, total=   1.3s\n",
            "[CV] neuron1=16, neuron2=8 ...........................................\n",
            "[CV] ............... neuron1=16, neuron2=8, score=0.680, total=   1.8s\n",
            "[CV] neuron1=16, neuron2=8 ...........................................\n",
            "[CV] ............... neuron1=16, neuron2=8, score=0.893, total=   1.4s\n",
            "[CV] neuron1=16, neuron2=8 ...........................................\n",
            "[CV] ............... neuron1=16, neuron2=8, score=0.893, total=   1.4s\n"
          ],
          "name": "stdout"
        },
        {
          "output_type": "stream",
          "text": [
            "[Parallel(n_jobs=1)]: Done  45 out of  45 | elapsed:  1.1min finished\n"
          ],
          "name": "stderr"
        }
      ]
    },
    {
      "cell_type": "code",
      "metadata": {
        "colab": {
          "base_uri": "https://localhost:8080/"
        },
        "id": "akWn-GdvvzD6",
        "outputId": "279ef4e5-1946-4f02-c67d-e9e496d5f593"
      },
      "source": [
        "# Summarize the results\n",
        "print('Best : {}, using {}'.format(grid_result.best_score_,grid_result.best_params_))\n",
        "means = grid_result.cv_results_['mean_test_score']\n",
        "stds = grid_result.cv_results_['std_test_score']\n",
        "params = grid_result.cv_results_['params']\n",
        "for mean, stdev, param in zip(means, stds, params):\n",
        "  print('{},{} with: {}'.format(mean, stdev, param))"
      ],
      "execution_count": null,
      "outputs": [
        {
          "output_type": "stream",
          "text": [
            "Best : 0.843203866481781, using {'neuron1': 16, 'neuron2': 8}\n",
            "0.7577669858932495,0.15458249227136886 with: {'neuron1': 4, 'neuron2': 2}\n",
            "0.7558252334594726,0.15741633973249855 with: {'neuron1': 4, 'neuron2': 4}\n",
            "0.7325242757797241,0.15178268966445949 with: {'neuron1': 4, 'neuron2': 8}\n",
            "0.7364077687263488,0.15112297894024251 with: {'neuron1': 8, 'neuron2': 2}\n",
            "0.7325242638587952,0.15400213076804797 with: {'neuron1': 8, 'neuron2': 4}\n",
            "0.7325242757797241,0.15178268966445949 with: {'neuron1': 8, 'neuron2': 8}\n",
            "0.7849141240119935,0.1473690411700833 with: {'neuron1': 16, 'neuron2': 2}\n",
            "0.784727418422699,0.15648980421881328 with: {'neuron1': 16, 'neuron2': 4}\n",
            "0.843203866481781,0.11404771620919547 with: {'neuron1': 16, 'neuron2': 8}\n"
          ],
          "name": "stdout"
        }
      ]
    },
    {
      "cell_type": "markdown",
      "metadata": {
        "id": "8HURANSDv8hh"
      },
      "source": [
        "Training model with optimum values of Hyperparameters"
      ]
    },
    {
      "cell_type": "code",
      "metadata": {
        "colab": {
          "base_uri": "https://localhost:8080/"
        },
        "id": "xDNQGT5Mv3sX",
        "outputId": "33fde2d9-a5c8-4ceb-bebf-fa802693c748"
      },
      "source": [
        "from sklearn.metrics import classification_report, accuracy_score\n",
        "\n",
        "# Defining the model\n",
        "\n",
        "def create_model():\n",
        "    model = Sequential()\n",
        "    model.add(Dense(16,input_dim = 27,kernel_initializer = 'normal',activation = 'relu'))\n",
        "    model.add(Dropout(0.0))\n",
        "    model.add(Dense(8,input_dim = 16,kernel_initializer = 'normal',activation = 'relu'))\n",
        "    model.add(Dropout(0.0))\n",
        "    model.add(Dense(1,activation = 'sigmoid'))\n",
        "    \n",
        "    adam = Adam(lr = 0.01) #sgd = SGD(lr=learning_rate, momentum=momentum, decay=decay_rate, nesterov=False)\n",
        "    model.compile(loss = 'binary_crossentropy',optimizer = adam,metrics = ['accuracy'])\n",
        "    return model\n",
        "\n",
        "# Create the model\n",
        "\n",
        "model = KerasClassifier(build_fn = create_model,verbose = 0,batch_size = 40,epochs = 10)\n",
        "\n",
        "# Fitting the model\n",
        "\n",
        "model.fit(x,y)\n",
        "\n",
        "# Predicting using trained model\n",
        "\n",
        "y_predict = model.predict(x)\n",
        "\n",
        "# Printing the metrics\n",
        "print(accuracy_score(y,y_predict))"
      ],
      "execution_count": null,
      "outputs": [
        {
          "output_type": "stream",
          "text": [
            "/usr/local/lib/python3.7/dist-packages/tensorflow/python/keras/optimizer_v2/optimizer_v2.py:375: UserWarning: The `lr` argument is deprecated, use `learning_rate` instead.\n",
            "  \"The `lr` argument is deprecated, use `learning_rate` instead.\")\n",
            "/usr/local/lib/python3.7/dist-packages/keras/engine/sequential.py:450: UserWarning: `model.predict_classes()` is deprecated and will be removed after 2021-01-01. Please use instead:* `np.argmax(model.predict(x), axis=-1)`,   if your model does multi-class classification   (e.g. if it uses a `softmax` last-layer activation).* `(model.predict(x) > 0.5).astype(\"int32\")`,   if your model does binary classification   (e.g. if it uses a `sigmoid` last-layer activation).\n",
            "  warnings.warn('`model.predict_classes()` is deprecated and '\n"
          ],
          "name": "stderr"
        },
        {
          "output_type": "stream",
          "text": [
            "0.9903288201160542\n"
          ],
          "name": "stdout"
        }
      ]
    }
  ]
}