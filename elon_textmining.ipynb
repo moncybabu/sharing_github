{
  "nbformat": 4,
  "nbformat_minor": 0,
  "metadata": {
    "colab": {
      "name": "elon textmining",
      "provenance": []
    },
    "kernelspec": {
      "name": "python3",
      "display_name": "Python 3"
    },
    "language_info": {
      "name": "python"
    }
  },
  "cells": [
    {
      "cell_type": "code",
      "metadata": {
        "id": "J-dFWdhQT1SY"
      },
      "source": [
        "import pandas as pd\n",
        "import numpy as np\n",
        "import matplotlib.pyplot as plt\n",
        "import string\n",
        "import spacy\n",
        "import nltk\n",
        "from wordcloud import WordCloud, STOPWORDS\n",
        "from sklearn.feature_extraction.text import CountVectorizer\n",
        "import seaborn as sns\n",
        "import itertools\n",
        "sns.set()"
      ],
      "execution_count": 6,
      "outputs": []
    },
    {
      "cell_type": "code",
      "metadata": {
        "colab": {
          "base_uri": "https://localhost:8080/",
          "height": 244
        },
        "id": "tU_BmtqcYwC4",
        "outputId": "0439a864-b5dd-481b-f332-03a20e5d9ef2"
      },
      "source": [
        "import pandas as pd\n",
        "data_raw=pd.read_csv(\"Elon_musk.csv\",error_bad_lines=False,sep=\";\", encoding='mac_roman')\n",
        "data_raw.head()"
      ],
      "execution_count": 13,
      "outputs": [
        {
          "output_type": "stream",
          "text": [
            "b'Skipping line 29: expected 1 fields, saw 2\\nSkipping line 34: expected 1 fields, saw 2\\nSkipping line 49: expected 1 fields, saw 2\\nSkipping line 55: expected 1 fields, saw 2\\nSkipping line 69: expected 1 fields, saw 2\\nSkipping line 98: expected 1 fields, saw 2\\nSkipping line 113: expected 1 fields, saw 2\\nSkipping line 120: expected 1 fields, saw 2\\nSkipping line 137: expected 1 fields, saw 2\\nSkipping line 141: expected 1 fields, saw 2\\nSkipping line 149: expected 1 fields, saw 2\\nSkipping line 154: expected 1 fields, saw 3\\nSkipping line 155: expected 1 fields, saw 2\\nSkipping line 163: expected 1 fields, saw 2\\nSkipping line 184: expected 1 fields, saw 2\\nSkipping line 188: expected 1 fields, saw 2\\nSkipping line 189: expected 1 fields, saw 2\\nSkipping line 211: expected 1 fields, saw 2\\nSkipping line 221: expected 1 fields, saw 2\\nSkipping line 231: expected 1 fields, saw 2\\nSkipping line 233: expected 1 fields, saw 2\\nSkipping line 236: expected 1 fields, saw 2\\nSkipping line 247: expected 1 fields, saw 3\\nSkipping line 249: expected 1 fields, saw 2\\nSkipping line 250: expected 1 fields, saw 3\\nSkipping line 281: expected 1 fields, saw 3\\nSkipping line 282: expected 1 fields, saw 2\\nSkipping line 291: expected 1 fields, saw 2\\nSkipping line 308: expected 1 fields, saw 2\\nSkipping line 316: expected 1 fields, saw 2\\nSkipping line 327: expected 1 fields, saw 2\\nSkipping line 329: expected 1 fields, saw 2\\nSkipping line 342: expected 1 fields, saw 2\\nSkipping line 365: expected 1 fields, saw 2\\nSkipping line 387: expected 1 fields, saw 3\\nSkipping line 402: expected 1 fields, saw 2\\nSkipping line 419: expected 1 fields, saw 2\\nSkipping line 436: expected 1 fields, saw 2\\nSkipping line 447: expected 1 fields, saw 2\\nSkipping line 450: expected 1 fields, saw 3\\nSkipping line 456: expected 1 fields, saw 2\\nSkipping line 476: expected 1 fields, saw 2\\nSkipping line 482: expected 1 fields, saw 2\\nSkipping line 502: expected 1 fields, saw 2\\nSkipping line 541: expected 1 fields, saw 2\\nSkipping line 542: expected 1 fields, saw 2\\nSkipping line 571: expected 1 fields, saw 2\\nSkipping line 584: expected 1 fields, saw 2\\nSkipping line 598: expected 1 fields, saw 2\\nSkipping line 606: expected 1 fields, saw 2\\nSkipping line 618: expected 1 fields, saw 2\\nSkipping line 624: expected 1 fields, saw 3\\nSkipping line 639: expected 1 fields, saw 2\\nSkipping line 656: expected 1 fields, saw 2\\nSkipping line 664: expected 1 fields, saw 2\\nSkipping line 675: expected 1 fields, saw 2\\nSkipping line 676: expected 1 fields, saw 2\\nSkipping line 685: expected 1 fields, saw 3\\nSkipping line 686: expected 1 fields, saw 2\\nSkipping line 692: expected 1 fields, saw 2\\nSkipping line 697: expected 1 fields, saw 2\\nSkipping line 709: expected 1 fields, saw 2\\nSkipping line 710: expected 1 fields, saw 2\\nSkipping line 712: expected 1 fields, saw 2\\nSkipping line 731: expected 1 fields, saw 2\\nSkipping line 740: expected 1 fields, saw 2\\nSkipping line 753: expected 1 fields, saw 2\\nSkipping line 770: expected 1 fields, saw 3\\nSkipping line 796: expected 1 fields, saw 2\\nSkipping line 797: expected 1 fields, saw 3\\nSkipping line 801: expected 1 fields, saw 2\\nSkipping line 808: expected 1 fields, saw 2\\nSkipping line 810: expected 1 fields, saw 3\\nSkipping line 830: expected 1 fields, saw 2\\nSkipping line 838: expected 1 fields, saw 2\\nSkipping line 844: expected 1 fields, saw 2\\nSkipping line 854: expected 1 fields, saw 2\\nSkipping line 855: expected 1 fields, saw 2\\nSkipping line 868: expected 1 fields, saw 2\\nSkipping line 887: expected 1 fields, saw 2\\nSkipping line 915: expected 1 fields, saw 2\\nSkipping line 927: expected 1 fields, saw 2\\nSkipping line 954: expected 1 fields, saw 2\\nSkipping line 956: expected 1 fields, saw 2\\nSkipping line 960: expected 1 fields, saw 2\\nSkipping line 961: expected 1 fields, saw 2\\nSkipping line 968: expected 1 fields, saw 2\\nSkipping line 989: expected 1 fields, saw 2\\nSkipping line 996: expected 1 fields, saw 2\\nSkipping line 1002: expected 1 fields, saw 2\\nSkipping line 1004: expected 1 fields, saw 2\\nSkipping line 1044: expected 1 fields, saw 2\\nSkipping line 1065: expected 1 fields, saw 2\\nSkipping line 1075: expected 1 fields, saw 3\\nSkipping line 1087: expected 1 fields, saw 2\\nSkipping line 1089: expected 1 fields, saw 2\\nSkipping line 1098: expected 1 fields, saw 2\\nSkipping line 1129: expected 1 fields, saw 2\\nSkipping line 1136: expected 1 fields, saw 2\\nSkipping line 1139: expected 1 fields, saw 2\\nSkipping line 1142: expected 1 fields, saw 2\\nSkipping line 1144: expected 1 fields, saw 2\\nSkipping line 1147: expected 1 fields, saw 2\\nSkipping line 1148: expected 1 fields, saw 3\\nSkipping line 1162: expected 1 fields, saw 2\\nSkipping line 1163: expected 1 fields, saw 2\\nSkipping line 1167: expected 1 fields, saw 2\\nSkipping line 1179: expected 1 fields, saw 2\\nSkipping line 1180: expected 1 fields, saw 2\\nSkipping line 1218: expected 1 fields, saw 3\\nSkipping line 1232: expected 1 fields, saw 2\\nSkipping line 1246: expected 1 fields, saw 2\\nSkipping line 1254: expected 1 fields, saw 2\\nSkipping line 1256: expected 1 fields, saw 2\\nSkipping line 1265: expected 1 fields, saw 2\\nSkipping line 1280: expected 1 fields, saw 2\\nSkipping line 1299: expected 1 fields, saw 2\\nSkipping line 1310: expected 1 fields, saw 2\\nSkipping line 1319: expected 1 fields, saw 2\\nSkipping line 1326: expected 1 fields, saw 2\\nSkipping line 1332: expected 1 fields, saw 2\\nSkipping line 1335: expected 1 fields, saw 2\\nSkipping line 1336: expected 1 fields, saw 2\\nSkipping line 1337: expected 1 fields, saw 3\\nSkipping line 1349: expected 1 fields, saw 2\\nSkipping line 1353: expected 1 fields, saw 2\\nSkipping line 1357: expected 1 fields, saw 2\\nSkipping line 1373: expected 1 fields, saw 2\\nSkipping line 1374: expected 1 fields, saw 2\\nSkipping line 1375: expected 1 fields, saw 2\\nSkipping line 1376: expected 1 fields, saw 2\\nSkipping line 1378: expected 1 fields, saw 2\\nSkipping line 1387: expected 1 fields, saw 3\\nSkipping line 1404: expected 1 fields, saw 2\\nSkipping line 1409: expected 1 fields, saw 2\\nSkipping line 1412: expected 1 fields, saw 2\\nSkipping line 1413: expected 1 fields, saw 3\\nSkipping line 1422: expected 1 fields, saw 2\\nSkipping line 1423: expected 1 fields, saw 2\\nSkipping line 1428: expected 1 fields, saw 3\\nSkipping line 1438: expected 1 fields, saw 2\\nSkipping line 1441: expected 1 fields, saw 2\\nSkipping line 1468: expected 1 fields, saw 2\\nSkipping line 1469: expected 1 fields, saw 2\\nSkipping line 1475: expected 1 fields, saw 2\\nSkipping line 1476: expected 1 fields, saw 2\\nSkipping line 1478: expected 1 fields, saw 2\\nSkipping line 1500: expected 1 fields, saw 2\\nSkipping line 1507: expected 1 fields, saw 2\\nSkipping line 1511: expected 1 fields, saw 2\\nSkipping line 1525: expected 1 fields, saw 2\\nSkipping line 1528: expected 1 fields, saw 2\\nSkipping line 1538: expected 1 fields, saw 2\\nSkipping line 1542: expected 1 fields, saw 2\\nSkipping line 1543: expected 1 fields, saw 2\\nSkipping line 1552: expected 1 fields, saw 2\\nSkipping line 1560: expected 1 fields, saw 2\\nSkipping line 1571: expected 1 fields, saw 2\\nSkipping line 1573: expected 1 fields, saw 2\\nSkipping line 1578: expected 1 fields, saw 2\\nSkipping line 1588: expected 1 fields, saw 2\\nSkipping line 1598: expected 1 fields, saw 2\\nSkipping line 1600: expected 1 fields, saw 6\\nSkipping line 1608: expected 1 fields, saw 2\\nSkipping line 1617: expected 1 fields, saw 2\\nSkipping line 1620: expected 1 fields, saw 2\\nSkipping line 1623: expected 1 fields, saw 2\\nSkipping line 1665: expected 1 fields, saw 2\\nSkipping line 1674: expected 1 fields, saw 2\\nSkipping line 1685: expected 1 fields, saw 2\\nSkipping line 1695: expected 1 fields, saw 2\\nSkipping line 1697: expected 1 fields, saw 2\\nSkipping line 1704: expected 1 fields, saw 2\\nSkipping line 1705: expected 1 fields, saw 2\\nSkipping line 1708: expected 1 fields, saw 2\\nSkipping line 1712: expected 1 fields, saw 2\\nSkipping line 1723: expected 1 fields, saw 2\\nSkipping line 1730: expected 1 fields, saw 2\\nSkipping line 1743: expected 1 fields, saw 2\\nSkipping line 1767: expected 1 fields, saw 2\\nSkipping line 1769: expected 1 fields, saw 2\\nSkipping line 1778: expected 1 fields, saw 2\\nSkipping line 1783: expected 1 fields, saw 2\\nSkipping line 1786: expected 1 fields, saw 2\\nSkipping line 1790: expected 1 fields, saw 2\\nSkipping line 1817: expected 1 fields, saw 2\\nSkipping line 1836: expected 1 fields, saw 2\\nSkipping line 1837: expected 1 fields, saw 2\\nSkipping line 1845: expected 1 fields, saw 2\\nSkipping line 1851: expected 1 fields, saw 2\\nSkipping line 1860: expected 1 fields, saw 2\\nSkipping line 1886: expected 1 fields, saw 2\\nSkipping line 1893: expected 1 fields, saw 2\\nSkipping line 1957: expected 1 fields, saw 2\\nSkipping line 1973: expected 1 fields, saw 2\\nSkipping line 1975: expected 1 fields, saw 2\\nSkipping line 1977: expected 1 fields, saw 2\\nSkipping line 1983: expected 1 fields, saw 2\\nSkipping line 1988: expected 1 fields, saw 2\\nSkipping line 1993: expected 1 fields, saw 2\\nSkipping line 2008: expected 1 fields, saw 2\\nSkipping line 2011: expected 1 fields, saw 2\\nSkipping line 2041: expected 1 fields, saw 2\\nSkipping line 2043: expected 1 fields, saw 2\\nSkipping line 2054: expected 1 fields, saw 2\\nSkipping line 2069: expected 1 fields, saw 2\\nSkipping line 2072: expected 1 fields, saw 2\\nSkipping line 2092: expected 1 fields, saw 2\\nSkipping line 2098: expected 1 fields, saw 2\\nSkipping line 2100: expected 1 fields, saw 2\\nSkipping line 2107: expected 1 fields, saw 2\\nSkipping line 2108: expected 1 fields, saw 2\\n'\n"
          ],
          "name": "stderr"
        },
        {
          "output_type": "execute_result",
          "data": {
            "text/html": [
              "<div>\n",
              "<style scoped>\n",
              "    .dataframe tbody tr th:only-of-type {\n",
              "        vertical-align: middle;\n",
              "    }\n",
              "\n",
              "    .dataframe tbody tr th {\n",
              "        vertical-align: top;\n",
              "    }\n",
              "\n",
              "    .dataframe thead th {\n",
              "        text-align: right;\n",
              "    }\n",
              "</style>\n",
              "<table border=\"1\" class=\"dataframe\">\n",
              "  <thead>\n",
              "    <tr style=\"text-align: right;\">\n",
              "      <th></th>\n",
              "      <th>,Text</th>\n",
              "    </tr>\n",
              "  </thead>\n",
              "  <tbody>\n",
              "    <tr>\n",
              "      <th>0</th>\n",
              "      <td>1,@kunalb11 Iím an alien</td>\n",
              "    </tr>\n",
              "    <tr>\n",
              "      <th>1</th>\n",
              "      <td>2,@ID_AA_Carmack Ray tracing on Cyberpunk with...</td>\n",
              "    </tr>\n",
              "    <tr>\n",
              "      <th>2</th>\n",
              "      <td>3,@joerogan @Spotify Great interview!</td>\n",
              "    </tr>\n",
              "    <tr>\n",
              "      <th>3</th>\n",
              "      <td>4,@gtera27 Doge is underestimated</td>\n",
              "    </tr>\n",
              "    <tr>\n",
              "      <th>4</th>\n",
              "      <td>5,@teslacn Congratulations Tesla China for ama...</td>\n",
              "    </tr>\n",
              "  </tbody>\n",
              "</table>\n",
              "</div>"
            ],
            "text/plain": [
              "                                               ,Text\n",
              "0                           1,@kunalb11 Iím an alien\n",
              "1  2,@ID_AA_Carmack Ray tracing on Cyberpunk with...\n",
              "2              3,@joerogan @Spotify Great interview!\n",
              "3                  4,@gtera27 Doge is underestimated\n",
              "4  5,@teslacn Congratulations Tesla China for ama..."
            ]
          },
          "metadata": {},
          "execution_count": 13
        }
      ]
    },
    {
      "cell_type": "code",
      "metadata": {
        "colab": {
          "base_uri": "https://localhost:8080/"
        },
        "id": "zMCZHnE-VOVl",
        "outputId": "a0cd5f57-b55d-42c0-8b96-62242ae4cc2a"
      },
      "source": [
        "data = [i.strip() for i in data_raw[',Text']]\n",
        "data = [i for i in data if i]\n",
        "data[0:5]"
      ],
      "execution_count": 15,
      "outputs": [
        {
          "output_type": "execute_result",
          "data": {
            "text/plain": [
              "['1,@kunalb11 Iím an alien',\n",
              " '2,@ID_AA_Carmack Ray tracing on Cyberpunk with HDR is next-level. Have you tried it?',\n",
              " '3,@joerogan @Spotify Great interview!',\n",
              " '4,@gtera27 Doge is underestimated',\n",
              " '5,@teslacn Congratulations Tesla China for amazing execution last year. Now on to the next for even more!!']"
            ]
          },
          "metadata": {},
          "execution_count": 15
        }
      ]
    },
    {
      "cell_type": "code",
      "metadata": {
        "colab": {
          "base_uri": "https://localhost:8080/",
          "height": 52
        },
        "id": "XilDDmCdVQrA",
        "outputId": "2d9a4e56-1ea4-4faa-c79d-e62c18664ae9"
      },
      "source": [
        "nlp = spacy.load('en_core_web_sm')\n",
        "\n",
        "doc_block = nlp(''.join(data))\n",
        "spacy.displacy.render(doc_block[0:5], style = 'ent', jupyter = True)"
      ],
      "execution_count": 16,
      "outputs": [
        {
          "output_type": "display_data",
          "data": {
            "text/html": [
              "<span class=\"tex2jax_ignore\"><div class=\"entities\" style=\"line-height: 2.5; direction: ltr\">1,@kunalb11 Iím an alien2,@ID_AA_Carmack \n",
              "<mark class=\"entity\" style=\"background: #aa9cfc; padding: 0.45em 0.6em; margin: 0 0.25em; line-height: 1; border-radius: 0.35em;\">\n",
              "    Ray\n",
              "    <span style=\"font-size: 0.8em; font-weight: bold; line-height: 1; border-radius: 0.35em; text-transform: uppercase; vertical-align: middle; margin-left: 0.5rem\">PERSON</span>\n",
              "</mark>\n",
              " </div></span>"
            ],
            "text/plain": [
              "<IPython.core.display.HTML object>"
            ]
          },
          "metadata": {}
        }
      ]
    },
    {
      "cell_type": "code",
      "metadata": {
        "colab": {
          "base_uri": "https://localhost:8080/"
        },
        "id": "vGXSSRuBVVn5",
        "outputId": "fdfa0dce-f275-47e3-80e3-e20055725e89"
      },
      "source": [
        "for token in doc_block[0:5]:\n",
        "    print(token, token.pos_)"
      ],
      "execution_count": 17,
      "outputs": [
        {
          "output_type": "stream",
          "text": [
            "1,@kunalb11 X\n",
            "Iím VERB\n",
            "an DET\n",
            "alien2,@ID_AA_Carmack PROPN\n",
            "Ray PROPN\n"
          ],
          "name": "stdout"
        }
      ]
    },
    {
      "cell_type": "code",
      "metadata": {
        "colab": {
          "base_uri": "https://localhost:8080/"
        },
        "id": "tP7IhMk4VbEP",
        "outputId": "7b67b789-58d7-4ebe-a458-3fa40fc5a37c"
      },
      "source": [
        "nouns_verbs = [token.text for token in doc_block if token.pos_ in ('NOUN', 'VERB')]\n",
        "nouns_verbs[0:5]"
      ],
      "execution_count": 18,
      "outputs": [
        {
          "output_type": "execute_result",
          "data": {
            "text/plain": [
              "['Iím', 'tracing', 'level', 'tried', 'interview!4,@gtera27']"
            ]
          },
          "metadata": {},
          "execution_count": 18
        }
      ]
    },
    {
      "cell_type": "code",
      "metadata": {
        "colab": {
          "base_uri": "https://localhost:8080/",
          "height": 422
        },
        "id": "M9EaFZCoVeeG",
        "outputId": "b3cec1cf-c232-4f37-f8d3-fe261b468c84"
      },
      "source": [
        "cv = CountVectorizer()\n",
        "X = cv.fit_transform(nouns_verbs)\n",
        "sum_words = X.sum(axis = 0)\n",
        "word_freq = [(word, sum_words[0, idx]) for word, idx in cv.vocabulary_.items()]\n",
        "wf_df = pd.DataFrame(word_freq, columns = ['Word', 'Count'])\n",
        "wf_df = wf_df.sort_values(by ='Count', ascending = False)\n",
        "wf_df = wf_df.reset_index(drop = True)\n",
        "wf_df"
      ],
      "execution_count": 19,
      "outputs": [
        {
          "output_type": "execute_result",
          "data": {
            "text/html": [
              "<div>\n",
              "<style scoped>\n",
              "    .dataframe tbody tr th:only-of-type {\n",
              "        vertical-align: middle;\n",
              "    }\n",
              "\n",
              "    .dataframe tbody tr th {\n",
              "        vertical-align: top;\n",
              "    }\n",
              "\n",
              "    .dataframe thead th {\n",
              "        text-align: right;\n",
              "    }\n",
              "</style>\n",
              "<table border=\"1\" class=\"dataframe\">\n",
              "  <thead>\n",
              "    <tr style=\"text-align: right;\">\n",
              "      <th></th>\n",
              "      <th>Word</th>\n",
              "      <th>Count</th>\n",
              "    </tr>\n",
              "  </thead>\n",
              "  <tbody>\n",
              "    <tr>\n",
              "      <th>0</th>\n",
              "      <td>spacex</td>\n",
              "      <td>148</td>\n",
              "    </tr>\n",
              "    <tr>\n",
              "      <th>1</th>\n",
              "      <td>co</td>\n",
              "      <td>145</td>\n",
              "    </tr>\n",
              "    <tr>\n",
              "      <th>2</th>\n",
              "      <td>https</td>\n",
              "      <td>143</td>\n",
              "    </tr>\n",
              "    <tr>\n",
              "      <th>3</th>\n",
              "      <td>will</td>\n",
              "      <td>139</td>\n",
              "    </tr>\n",
              "    <tr>\n",
              "      <th>4</th>\n",
              "      <td>launch</td>\n",
              "      <td>42</td>\n",
              "    </tr>\n",
              "    <tr>\n",
              "      <th>...</th>\n",
              "      <td>...</td>\n",
              "      <td>...</td>\n",
              "    </tr>\n",
              "    <tr>\n",
              "      <th>2846</th>\n",
              "      <td>kids</td>\n",
              "      <td>1</td>\n",
              "    </tr>\n",
              "    <tr>\n",
              "      <th>2847</th>\n",
              "      <td>709</td>\n",
              "      <td>1</td>\n",
              "    </tr>\n",
              "    <tr>\n",
              "      <th>2848</th>\n",
              "      <td>dragonö</td>\n",
              "      <td>1</td>\n",
              "    </tr>\n",
              "    <tr>\n",
              "      <th>2849</th>\n",
              "      <td>rehearsal</td>\n",
              "      <td>1</td>\n",
              "    </tr>\n",
              "    <tr>\n",
              "      <th>2850</th>\n",
              "      <td>teslagong</td>\n",
              "      <td>1</td>\n",
              "    </tr>\n",
              "  </tbody>\n",
              "</table>\n",
              "<p>2851 rows × 2 columns</p>\n",
              "</div>"
            ],
            "text/plain": [
              "           Word  Count\n",
              "0        spacex    148\n",
              "1            co    145\n",
              "2         https    143\n",
              "3          will    139\n",
              "4        launch     42\n",
              "...         ...    ...\n",
              "2846       kids      1\n",
              "2847        709      1\n",
              "2848    dragonö      1\n",
              "2849  rehearsal      1\n",
              "2850  teslagong      1\n",
              "\n",
              "[2851 rows x 2 columns]"
            ]
          },
          "metadata": {},
          "execution_count": 19
        }
      ]
    },
    {
      "cell_type": "code",
      "metadata": {
        "colab": {
          "base_uri": "https://localhost:8080/",
          "height": 826
        },
        "id": "_crkK4opVkLy",
        "outputId": "5173a980-8553-40a2-8dad-bfe1e805e567"
      },
      "source": [
        "plt.figure(figsize = (20,20))\n",
        "sns.barplot(x = wf_df['Word'][0:20], y = wf_df['Count'][0:20])"
      ],
      "execution_count": 20,
      "outputs": [
        {
          "output_type": "execute_result",
          "data": {
            "text/plain": [
              "<matplotlib.axes._subplots.AxesSubplot at 0x7fc627efd8d0>"
            ]
          },
          "metadata": {},
          "execution_count": 20
        },
        {
          "output_type": "display_data",
          "data": {
            "image/png": "[encoded data removed]",
            "text/plain": [
              "<Figure size 1440x1440 with 1 Axes>"
            ]
          },
          "metadata": {}
        }
      ]
    },
    {
      "cell_type": "code",
      "metadata": {
        "colab": {
          "base_uri": "https://localhost:8080/",
          "height": 205
        },
        "id": "WdrXM5OhVo-6",
        "outputId": "209c1d25-0818-4249-89e5-84a68780b0a5"
      },
      "source": [
        "afinn = pd.read_csv('Afinn.csv', sep = ',', encoding = 'latin-1')\n",
        "afinn.head()"
      ],
      "execution_count": 21,
      "outputs": [
        {
          "output_type": "execute_result",
          "data": {
            "text/html": [
              "<div>\n",
              "<style scoped>\n",
              "    .dataframe tbody tr th:only-of-type {\n",
              "        vertical-align: middle;\n",
              "    }\n",
              "\n",
              "    .dataframe tbody tr th {\n",
              "        vertical-align: top;\n",
              "    }\n",
              "\n",
              "    .dataframe thead th {\n",
              "        text-align: right;\n",
              "    }\n",
              "</style>\n",
              "<table border=\"1\" class=\"dataframe\">\n",
              "  <thead>\n",
              "    <tr style=\"text-align: right;\">\n",
              "      <th></th>\n",
              "      <th>word</th>\n",
              "      <th>value</th>\n",
              "    </tr>\n",
              "  </thead>\n",
              "  <tbody>\n",
              "    <tr>\n",
              "      <th>0</th>\n",
              "      <td>abandon</td>\n",
              "      <td>-2</td>\n",
              "    </tr>\n",
              "    <tr>\n",
              "      <th>1</th>\n",
              "      <td>abandoned</td>\n",
              "      <td>-2</td>\n",
              "    </tr>\n",
              "    <tr>\n",
              "      <th>2</th>\n",
              "      <td>abandons</td>\n",
              "      <td>-2</td>\n",
              "    </tr>\n",
              "    <tr>\n",
              "      <th>3</th>\n",
              "      <td>abducted</td>\n",
              "      <td>-2</td>\n",
              "    </tr>\n",
              "    <tr>\n",
              "      <th>4</th>\n",
              "      <td>abduction</td>\n",
              "      <td>-2</td>\n",
              "    </tr>\n",
              "  </tbody>\n",
              "</table>\n",
              "</div>"
            ],
            "text/plain": [
              "        word  value\n",
              "0    abandon     -2\n",
              "1  abandoned     -2\n",
              "2   abandons     -2\n",
              "3   abducted     -2\n",
              "4  abduction     -2"
            ]
          },
          "metadata": {},
          "execution_count": 21
        }
      ]
    },
    {
      "cell_type": "code",
      "metadata": {
        "colab": {
          "base_uri": "https://localhost:8080/"
        },
        "id": "T8vxD41NVtGG",
        "outputId": "772299bb-d982-45fd-b8c7-9534ec15cdde"
      },
      "source": [
        "affinity_scores = afinn.set_index('word')['value'].to_dict()\n",
        "list(itertools.islice(affinity_scores.items(), 20))\n",
        "\n"
      ],
      "execution_count": 23,
      "outputs": [
        {
          "output_type": "execute_result",
          "data": {
            "text/plain": [
              "[('abandon', -2),\n",
              " ('abandoned', -2),\n",
              " ('abandons', -2),\n",
              " ('abducted', -2),\n",
              " ('abduction', -2),\n",
              " ('abductions', -2),\n",
              " ('abhor', -3),\n",
              " ('abhorred', -3),\n",
              " ('abhorrent', -3),\n",
              " ('abhors', -3),\n",
              " ('abilities', 2),\n",
              " ('ability', 2),\n",
              " ('aboard', 1),\n",
              " ('absentee', -1),\n",
              " ('absentees', -1),\n",
              " ('absolve', 2),\n",
              " ('absolved', 2),\n",
              " ('absolves', 2),\n",
              " ('absolving', 2),\n",
              " ('absorbed', 1)]"
            ]
          },
          "metadata": {},
          "execution_count": 23
        }
      ]
    },
    {
      "cell_type": "code",
      "metadata": {
        "colab": {
          "base_uri": "https://localhost:8080/"
        },
        "id": "mRd7VVz1ZfiX",
        "outputId": "a04123d8-e082-485d-deea-bf4c54cab8ea"
      },
      "source": [
        "import nltk\n",
        "nltk.download('punkt')"
      ],
      "execution_count": 25,
      "outputs": [
        {
          "output_type": "stream",
          "text": [
            "[nltk_data] Downloading package punkt to /root/nltk_data...\n",
            "[nltk_data]   Unzipping tokenizers/punkt.zip.\n"
          ],
          "name": "stdout"
        },
        {
          "output_type": "execute_result",
          "data": {
            "text/plain": [
              "True"
            ]
          },
          "metadata": {},
          "execution_count": 25
        }
      ]
    },
    {
      "cell_type": "code",
      "metadata": {
        "colab": {
          "base_uri": "https://localhost:8080/",
          "height": 422
        },
        "id": "9yxDeACaVxaA",
        "outputId": "6a655a5c-2eeb-4f87-c132-5d86001d8dde"
      },
      "source": [
        "sentences = nltk.tokenize.sent_tokenize(' '.join(data))\n",
        "sentence_df = pd.DataFrame(sentences, columns = ['Sentence'])\n",
        "sentence_df"
      ],
      "execution_count": 26,
      "outputs": [
        {
          "output_type": "execute_result",
          "data": {
            "text/html": [
              "<div>\n",
              "<style scoped>\n",
              "    .dataframe tbody tr th:only-of-type {\n",
              "        vertical-align: middle;\n",
              "    }\n",
              "\n",
              "    .dataframe tbody tr th {\n",
              "        vertical-align: top;\n",
              "    }\n",
              "\n",
              "    .dataframe thead th {\n",
              "        text-align: right;\n",
              "    }\n",
              "</style>\n",
              "<table border=\"1\" class=\"dataframe\">\n",
              "  <thead>\n",
              "    <tr style=\"text-align: right;\">\n",
              "      <th></th>\n",
              "      <th>Sentence</th>\n",
              "    </tr>\n",
              "  </thead>\n",
              "  <tbody>\n",
              "    <tr>\n",
              "      <th>0</th>\n",
              "      <td>1,@kunalb11 Iím an alien 2,@ID_AA_Carmack Ray ...</td>\n",
              "    </tr>\n",
              "    <tr>\n",
              "      <th>1</th>\n",
              "      <td>Have you tried it?</td>\n",
              "    </tr>\n",
              "    <tr>\n",
              "      <th>2</th>\n",
              "      <td>3,@joerogan @Spotify Great interview!</td>\n",
              "    </tr>\n",
              "    <tr>\n",
              "      <th>3</th>\n",
              "      <td>4,@gtera27 Doge is underestimated 5,@teslacn C...</td>\n",
              "    </tr>\n",
              "    <tr>\n",
              "      <th>4</th>\n",
              "      <td>Now on to the next for even more!!</td>\n",
              "    </tr>\n",
              "    <tr>\n",
              "      <th>...</th>\n",
              "      <td>...</td>\n",
              "    </tr>\n",
              "    <tr>\n",
              "      <th>777</th>\n",
              "      <td>1989,@redmercy Yes 1990,\"@buzzindelhi Sorry, s...</td>\n",
              "    </tr>\n",
              "    <tr>\n",
              "      <th>778</th>\n",
              "      <td>1991,\"@kenyanwalstreet Not actually a payout, ...</td>\n",
              "    </tr>\n",
              "    <tr>\n",
              "      <th>779</th>\n",
              "      <td>It may never pay out, as the stock canít bÖ ht...</td>\n",
              "    </tr>\n",
              "    <tr>\n",
              "      <th>780</th>\n",
              "      <td>Details Aug 28.\"</td>\n",
              "    </tr>\n",
              "    <tr>\n",
              "      <th>781</th>\n",
              "      <td>1993,AI symbiosis while u wait 1994,@vistacrui...</td>\n",
              "    </tr>\n",
              "  </tbody>\n",
              "</table>\n",
              "<p>782 rows × 1 columns</p>\n",
              "</div>"
            ],
            "text/plain": [
              "                                              Sentence\n",
              "0    1,@kunalb11 Iím an alien 2,@ID_AA_Carmack Ray ...\n",
              "1                                   Have you tried it?\n",
              "2                3,@joerogan @Spotify Great interview!\n",
              "3    4,@gtera27 Doge is underestimated 5,@teslacn C...\n",
              "4                   Now on to the next for even more!!\n",
              "..                                                 ...\n",
              "777  1989,@redmercy Yes 1990,\"@buzzindelhi Sorry, s...\n",
              "778  1991,\"@kenyanwalstreet Not actually a payout, ...\n",
              "779  It may never pay out, as the stock canít bÖ ht...\n",
              "780                                   Details Aug 28.\"\n",
              "781  1993,AI symbiosis while u wait 1994,@vistacrui...\n",
              "\n",
              "[782 rows x 1 columns]"
            ]
          },
          "metadata": {},
          "execution_count": 26
        }
      ]
    },
    {
      "cell_type": "code",
      "metadata": {
        "id": "5tpoptw-V2wd"
      },
      "source": [
        "sentiment_lexicon = affinity_scores\n",
        "\n",
        "def calculate_sentiment(text):\n",
        "    sentiment_score = 0\n",
        "    if type(text) == str:\n",
        "        sentence = nlp(text)\n",
        "        for word in sentence:\n",
        "            sentiment_score += sentiment_lexicon.get(word.lemma_,0)\n",
        "    return sentiment_score"
      ],
      "execution_count": 27,
      "outputs": []
    },
    {
      "cell_type": "code",
      "metadata": {
        "colab": {
          "base_uri": "https://localhost:8080/",
          "height": 422
        },
        "id": "hkOzP7jDV7MW",
        "outputId": "3b36f139-a2e9-4ed5-c40e-92ee8f9206ca"
      },
      "source": [
        "sentence_df['Sentiment_value'] = sentence_df['Sentence'].apply(calculate_sentiment)\n",
        "sentence_df['Sentence_length'] = sentence_df['Sentence'].str.split().apply(len)\n",
        "sentence_df"
      ],
      "execution_count": 28,
      "outputs": [
        {
          "output_type": "execute_result",
          "data": {
            "text/html": [
              "<div>\n",
              "<style scoped>\n",
              "    .dataframe tbody tr th:only-of-type {\n",
              "        vertical-align: middle;\n",
              "    }\n",
              "\n",
              "    .dataframe tbody tr th {\n",
              "        vertical-align: top;\n",
              "    }\n",
              "\n",
              "    .dataframe thead th {\n",
              "        text-align: right;\n",
              "    }\n",
              "</style>\n",
              "<table border=\"1\" class=\"dataframe\">\n",
              "  <thead>\n",
              "    <tr style=\"text-align: right;\">\n",
              "      <th></th>\n",
              "      <th>Sentence</th>\n",
              "      <th>Sentiment_value</th>\n",
              "      <th>Sentence_length</th>\n",
              "    </tr>\n",
              "  </thead>\n",
              "  <tbody>\n",
              "    <tr>\n",
              "      <th>0</th>\n",
              "      <td>1,@kunalb11 Iím an alien 2,@ID_AA_Carmack Ray ...</td>\n",
              "      <td>0</td>\n",
              "      <td>13</td>\n",
              "    </tr>\n",
              "    <tr>\n",
              "      <th>1</th>\n",
              "      <td>Have you tried it?</td>\n",
              "      <td>0</td>\n",
              "      <td>4</td>\n",
              "    </tr>\n",
              "    <tr>\n",
              "      <th>2</th>\n",
              "      <td>3,@joerogan @Spotify Great interview!</td>\n",
              "      <td>3</td>\n",
              "      <td>4</td>\n",
              "    </tr>\n",
              "    <tr>\n",
              "      <th>3</th>\n",
              "      <td>4,@gtera27 Doge is underestimated 5,@teslacn C...</td>\n",
              "      <td>3</td>\n",
              "      <td>13</td>\n",
              "    </tr>\n",
              "    <tr>\n",
              "      <th>4</th>\n",
              "      <td>Now on to the next for even more!!</td>\n",
              "      <td>0</td>\n",
              "      <td>8</td>\n",
              "    </tr>\n",
              "    <tr>\n",
              "      <th>...</th>\n",
              "      <td>...</td>\n",
              "      <td>...</td>\n",
              "      <td>...</td>\n",
              "    </tr>\n",
              "    <tr>\n",
              "      <th>777</th>\n",
              "      <td>1989,@redmercy Yes 1990,\"@buzzindelhi Sorry, s...</td>\n",
              "      <td>3</td>\n",
              "      <td>8</td>\n",
              "    </tr>\n",
              "    <tr>\n",
              "      <th>778</th>\n",
              "      <td>1991,\"@kenyanwalstreet Not actually a payout, ...</td>\n",
              "      <td>0</td>\n",
              "      <td>11</td>\n",
              "    </tr>\n",
              "    <tr>\n",
              "      <th>779</th>\n",
              "      <td>It may never pay out, as the stock canít bÖ ht...</td>\n",
              "      <td>-4</td>\n",
              "      <td>31</td>\n",
              "    </tr>\n",
              "    <tr>\n",
              "      <th>780</th>\n",
              "      <td>Details Aug 28.\"</td>\n",
              "      <td>0</td>\n",
              "      <td>3</td>\n",
              "    </tr>\n",
              "    <tr>\n",
              "      <th>781</th>\n",
              "      <td>1993,AI symbiosis while u wait 1994,@vistacrui...</td>\n",
              "      <td>0</td>\n",
              "      <td>27</td>\n",
              "    </tr>\n",
              "  </tbody>\n",
              "</table>\n",
              "<p>782 rows × 3 columns</p>\n",
              "</div>"
            ],
            "text/plain": [
              "                                              Sentence  ...  Sentence_length\n",
              "0    1,@kunalb11 Iím an alien 2,@ID_AA_Carmack Ray ...  ...               13\n",
              "1                                   Have you tried it?  ...                4\n",
              "2                3,@joerogan @Spotify Great interview!  ...                4\n",
              "3    4,@gtera27 Doge is underestimated 5,@teslacn C...  ...               13\n",
              "4                   Now on to the next for even more!!  ...                8\n",
              "..                                                 ...  ...              ...\n",
              "777  1989,@redmercy Yes 1990,\"@buzzindelhi Sorry, s...  ...                8\n",
              "778  1991,\"@kenyanwalstreet Not actually a payout, ...  ...               11\n",
              "779  It may never pay out, as the stock canít bÖ ht...  ...               31\n",
              "780                                   Details Aug 28.\"  ...                3\n",
              "781  1993,AI symbiosis while u wait 1994,@vistacrui...  ...               27\n",
              "\n",
              "[782 rows x 3 columns]"
            ]
          },
          "metadata": {},
          "execution_count": 28
        }
      ]
    },
    {
      "cell_type": "code",
      "metadata": {
        "colab": {
          "base_uri": "https://localhost:8080/",
          "height": 299
        },
        "id": "zOkNtpBuV-1F",
        "outputId": "a11a312e-89dc-48c8-da3f-edc0ee65a414"
      },
      "source": [
        "sentence_df.describe()"
      ],
      "execution_count": 29,
      "outputs": [
        {
          "output_type": "execute_result",
          "data": {
            "text/html": [
              "<div>\n",
              "<style scoped>\n",
              "    .dataframe tbody tr th:only-of-type {\n",
              "        vertical-align: middle;\n",
              "    }\n",
              "\n",
              "    .dataframe tbody tr th {\n",
              "        vertical-align: top;\n",
              "    }\n",
              "\n",
              "    .dataframe thead th {\n",
              "        text-align: right;\n",
              "    }\n",
              "</style>\n",
              "<table border=\"1\" class=\"dataframe\">\n",
              "  <thead>\n",
              "    <tr style=\"text-align: right;\">\n",
              "      <th></th>\n",
              "      <th>Sentiment_value</th>\n",
              "      <th>Sentence_length</th>\n",
              "    </tr>\n",
              "  </thead>\n",
              "  <tbody>\n",
              "    <tr>\n",
              "      <th>count</th>\n",
              "      <td>782.000000</td>\n",
              "      <td>782.000000</td>\n",
              "    </tr>\n",
              "    <tr>\n",
              "      <th>mean</th>\n",
              "      <td>1.473146</td>\n",
              "      <td>22.597187</td>\n",
              "    </tr>\n",
              "    <tr>\n",
              "      <th>std</th>\n",
              "      <td>2.691794</td>\n",
              "      <td>23.031908</td>\n",
              "    </tr>\n",
              "    <tr>\n",
              "      <th>min</th>\n",
              "      <td>-7.000000</td>\n",
              "      <td>1.000000</td>\n",
              "    </tr>\n",
              "    <tr>\n",
              "      <th>25%</th>\n",
              "      <td>0.000000</td>\n",
              "      <td>7.000000</td>\n",
              "    </tr>\n",
              "    <tr>\n",
              "      <th>50%</th>\n",
              "      <td>0.000000</td>\n",
              "      <td>14.000000</td>\n",
              "    </tr>\n",
              "    <tr>\n",
              "      <th>75%</th>\n",
              "      <td>3.000000</td>\n",
              "      <td>31.750000</td>\n",
              "    </tr>\n",
              "    <tr>\n",
              "      <th>max</th>\n",
              "      <td>16.000000</td>\n",
              "      <td>184.000000</td>\n",
              "    </tr>\n",
              "  </tbody>\n",
              "</table>\n",
              "</div>"
            ],
            "text/plain": [
              "       Sentiment_value  Sentence_length\n",
              "count       782.000000       782.000000\n",
              "mean          1.473146        22.597187\n",
              "std           2.691794        23.031908\n",
              "min          -7.000000         1.000000\n",
              "25%           0.000000         7.000000\n",
              "50%           0.000000        14.000000\n",
              "75%           3.000000        31.750000\n",
              "max          16.000000       184.000000"
            ]
          },
          "metadata": {},
          "execution_count": 29
        }
      ]
    },
    {
      "cell_type": "code",
      "metadata": {
        "colab": {
          "base_uri": "https://localhost:8080/",
          "height": 359
        },
        "id": "KBvkZ8kyWFsf",
        "outputId": "ac0e96cb-2d15-48a3-88c6-d3b62ffb9957"
      },
      "source": [
        "sns.distplot(sentence_df['Sentiment_value'])"
      ],
      "execution_count": 30,
      "outputs": [
        {
          "output_type": "stream",
          "text": [
            "/usr/local/lib/python3.7/dist-packages/seaborn/distributions.py:2557: FutureWarning: `distplot` is a deprecated function and will be removed in a future version. Please adapt your code to use either `displot` (a figure-level function with similar flexibility) or `histplot` (an axes-level function for histograms).\n",
            "  warnings.warn(msg, FutureWarning)\n"
          ],
          "name": "stderr"
        },
        {
          "output_type": "execute_result",
          "data": {
            "text/plain": [
              "<matplotlib.axes._subplots.AxesSubplot at 0x7fc626c25810>"
            ]
          },
          "metadata": {},
          "execution_count": 30
        },
        {
          "output_type": "display_data",
          "data": {
            "image/png": "[encoded data removed]",
            "text/plain": [
              "<Figure size 432x288 with 1 Axes>"
            ]
          },
          "metadata": {}
        }
      ]
    },
    {
      "cell_type": "code",
      "metadata": {
        "colab": {
          "base_uri": "https://localhost:8080/",
          "height": 638
        },
        "id": "rqpmBY_bWJm-",
        "outputId": "731e0558-abf0-4582-9392-397626378c8c"
      },
      "source": [
        "plt.figure(figsize = (10,10))\n",
        "plt.scatter(sentence_df['Sentence_length'], sentence_df['Sentiment_value'])\n",
        "plt.title('Sentiment value vs Sentence length', fontsize = 20)\n",
        "plt.xlabel('Sentence Length', fontsize = 20)\n",
        "plt.ylabel('Sentiment Value', fontsize = 20)\n",
        "plt.show()"
      ],
      "execution_count": 31,
      "outputs": [
        {
          "output_type": "display_data",
          "data": {
            "image/png": "[encoded data removed]",
            "text/plain": [
              "<Figure size 720x720 with 1 Axes>"
            ]
          },
          "metadata": {}
        }
      ]
    },
    {
      "cell_type": "code",
      "metadata": {
        "id": "DoSHI4lMWLNx"
      },
      "source": [
        ""
      ],
      "execution_count": null,
      "outputs": []
    }
  ]
}